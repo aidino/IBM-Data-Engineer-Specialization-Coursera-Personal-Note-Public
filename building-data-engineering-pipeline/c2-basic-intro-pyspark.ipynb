{
 "cells": [
  {
   "cell_type": "markdown",
   "metadata": {},
   "source": [
    "# Create a data transformation pipeline with Pyspark"
   ]
  },
  {
   "cell_type": "markdown",
   "metadata": {},
   "source": [
    "## Basic introduction"
   ]
  },
  {
   "cell_type": "code",
   "execution_count": 2,
   "metadata": {},
   "outputs": [
    {
     "name": "stdout",
     "output_type": "stream",
     "text": [
      "Spark version: 3.4.1\n"
     ]
    }
   ],
   "source": [
    "from pyspark.sql import SparkSession\n",
    "\n",
    "spark = SparkSession.builder.appName(\"SparkByExamples.com\").getOrCreate()\n",
    "\n",
    "print(f\"Spark version: {spark.version}\")"
   ]
  },
  {
   "cell_type": "markdown",
   "metadata": {},
   "source": [
    "### Reading a CSV file"
   ]
  },
  {
   "cell_type": "code",
   "execution_count": 3,
   "metadata": {},
   "outputs": [
    {
     "name": "stdout",
     "output_type": "stream",
     "text": [
      "+------------+-------+---------------+-------+\n",
      "|       brand|  model|absorption_rate|comfort|\n",
      "+------------+-------+---------------+-------+\n",
      "|Diapers-R-Us|6months|              2|      3|\n",
      "|     Nappy-k|2months|              3|      4|\n",
      "|     Pampers|3months|              4|      4|\n",
      "|     Huggies|newborn|              3|      5|\n",
      "+------------+-------+---------------+-------+\n",
      "\n"
     ]
    }
   ],
   "source": [
    "df = spark.read.option(\"header\",True).csv(\"datasets/ratings.csv\")\n",
    "df.show(5)"
   ]
  },
  {
   "cell_type": "markdown",
   "metadata": {},
   "source": [
    "### Defining a schema"
   ]
  },
  {
   "cell_type": "code",
   "execution_count": 5,
   "metadata": {},
   "outputs": [
    {
     "data": {
      "text/plain": [
       "[('brand', 'string'),\n",
       " ('model', 'string'),\n",
       " ('absorption_rate', 'tinyint'),\n",
       " ('comfort', 'tinyint')]"
      ]
     },
     "execution_count": 5,
     "metadata": {},
     "output_type": "execute_result"
    }
   ],
   "source": [
    "# define the schema\n",
    "from pyspark.sql.types import StructType, StructField, StringType, ByteType\n",
    "\n",
    "schema = StructType([\n",
    "    StructField(\"brand\", StringType(), False),\n",
    "    StructField(\"model\", StringType(), False),\n",
    "    StructField(\"absorption_rate\", ByteType(), True),\n",
    "    StructField(\"comfort\", ByteType(), True),\n",
    "])\n",
    "\n",
    "better_df = spark.read.option(\"header\", True).schema(schema).csv(\"datasets/ratings.csv\")\n",
    "\n",
    "better_df.dtypes"
   ]
  },
  {
   "cell_type": "markdown",
   "metadata": {},
   "source": [
    "## Cleaning data"
   ]
  },
  {
   "cell_type": "markdown",
   "metadata": {},
   "source": [
    "### Removing invalid rows"
   ]
  },
  {
   "cell_type": "code",
   "execution_count": 7,
   "metadata": {},
   "outputs": [
    {
     "ename": "TypeError",
     "evalue": "option() got an unexpected keyword argument 'header'",
     "output_type": "error",
     "traceback": [
      "\u001b[0;31m---------------------------------------------------------------------------\u001b[0m",
      "\u001b[0;31mTypeError\u001b[0m                                 Traceback (most recent call last)",
      "Cell \u001b[0;32mIn[7], line 1\u001b[0m\n\u001b[0;32m----> 1\u001b[0m rattings \u001b[39m=\u001b[39m spark\u001b[39m.\u001b[39;49mread\u001b[39m.\u001b[39;49moption(header\u001b[39m=\u001b[39;49m\u001b[39m'\u001b[39;49m\u001b[39mtrue\u001b[39;49m\u001b[39m'\u001b[39;49m, mode\u001b[39m=\u001b[39;49m\u001b[39m\"\u001b[39;49m\u001b[39mDROPMALFORMED\u001b[39;49m\u001b[39m\"\u001b[39;49m)\u001b[39m.\u001b[39mcsv(\u001b[39m\"\u001b[39m\u001b[39mdatasets/ratings_with_invalid_rows.csv\u001b[39m\u001b[39m\"\u001b[39m)\n\u001b[1;32m      2\u001b[0m ratings\u001b[39m.\u001b[39mshow(\u001b[39m5\u001b[39m)\n",
      "\u001b[0;31mTypeError\u001b[0m: option() got an unexpected keyword argument 'header'"
     ]
    }
   ],
   "source": [
    "rattings = spark.read.option(header='true', mode=\"DROPMALFORMED\").csv(\"datasets/ratings_with_invalid_rows.csv\")\n",
    "ratings.show(5)"
   ]
  },
  {
   "cell_type": "code",
   "execution_count": null,
   "metadata": {},
   "outputs": [],
   "source": []
  }
 ],
 "metadata": {
  "kernelspec": {
   "display_name": "data-engineering",
   "language": "python",
   "name": "python3"
  },
  "language_info": {
   "codemirror_mode": {
    "name": "ipython",
    "version": 3
   },
   "file_extension": ".py",
   "mimetype": "text/x-python",
   "name": "python",
   "nbconvert_exporter": "python",
   "pygments_lexer": "ipython3",
   "version": "3.9.17"
  },
  "orig_nbformat": 4
 },
 "nbformat": 4,
 "nbformat_minor": 2
}
