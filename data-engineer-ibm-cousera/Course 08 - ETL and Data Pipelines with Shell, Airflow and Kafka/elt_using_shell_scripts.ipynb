{
 "cells": [
  {
   "cell_type": "markdown",
   "metadata": {},
   "source": [
    "# Hands-on Lab: ETL using shell scripts"
   ]
  },
  {
   "cell_type": "markdown",
   "metadata": {},
   "source": [
    "## Exercise 1 - Extracting data using `cut` command"
   ]
  },
  {
   "cell_type": "markdown",
   "metadata": {},
   "source": [
    "### **1.1 Extracting characters.**"
   ]
  },
  {
   "cell_type": "code",
   "execution_count": 3,
   "metadata": {},
   "outputs": [
    {
     "name": "stdout",
     "output_type": "stream",
     "text": [
      "data\n"
     ]
    }
   ],
   "source": [
    "# The command below shows how to extract the first four characters.\n",
    "!echo \"database\" | cut -c1-4"
   ]
  },
  {
   "cell_type": "code",
   "execution_count": 4,
   "metadata": {},
   "outputs": [
    {
     "name": "stdout",
     "output_type": "stream",
     "text": [
      "base\n"
     ]
    }
   ],
   "source": [
    "# The command below shows how to extract 5th to 8th characters.\n",
    "!echo \"database\" | cut -c5-8"
   ]
  },
  {
   "cell_type": "code",
   "execution_count": 5,
   "metadata": {},
   "outputs": [
    {
     "name": "stdout",
     "output_type": "stream",
     "text": [
      "db\n"
     ]
    }
   ],
   "source": [
    "# The command below shows how to extract the 1st and 5th characters.\n",
    "!echo \"database\" | cut -c1,5"
   ]
  },
  {
   "cell_type": "markdown",
   "metadata": {},
   "source": [
    "### **1.2. Extracting fields/columns**"
   ]
  },
  {
   "cell_type": "code",
   "execution_count": 7,
   "metadata": {},
   "outputs": [
    {
     "name": "stdout",
     "output_type": "stream",
     "text": [
      "##\n",
      "# User Database\n",
      "# \n",
      "# Note that this file is consulted directly only when the system is running\n",
      "# in single-user mode.  At other times this information is provided by\n",
      "# Open Directory.\n",
      "#\n",
      "# See the opendirectoryd(8) man page for additional information about\n",
      "# Open Directory.\n",
      "##\n",
      "nobody:*:-2:-2:Unprivileged User:/var/empty:/usr/bin/false\n",
      "root:*:0:0:System Administrator:/var/root:/bin/sh\n",
      "daemon:*:1:1:System Services:/var/root:/usr/bin/false\n",
      "_uucp:*:4:4:Unix to Unix Copy Protocol:/var/spool/uucp:/usr/sbin/uucico\n",
      "_taskgated:*:13:13:Task Gate Daemon:/var/empty:/usr/bin/false\n",
      "_networkd:*:24:24:Network Services:/var/networkd:/usr/bin/false\n",
      "_installassistant:*:25:25:Install Assistant:/var/empty:/usr/bin/false\n",
      "_lp:*:26:26:Printing Services:/var/spool/cups:/usr/bin/false\n",
      "_postfix:*:27:27:Postfix Mail Server:/var/spool/postfix:/usr/bin/false\n",
      "_scsd:*:31:31:Service Configuration Service:/var/empty:/usr/bin/false\n",
      "_ces:*:32:32:Certificate Enrollment Service:/var/empty:/usr/bin/false\n",
      "_appstore:*:33:33:Mac App Store Service:/var/db/appstore:/usr/bin/false\n",
      "_mcxalr:*:54:54:MCX AppLaunch:/var/empty:/usr/bin/false\n",
      "_appleevents:*:55:55:AppleEvents Daemon:/var/empty:/usr/bin/false\n",
      "_geod:*:56:56:Geo Services Daemon:/var/db/geod:/usr/bin/false\n",
      "_devdocs:*:59:59:Developer Documentation:/var/empty:/usr/bin/false\n",
      "_sandbox:*:60:60:Seatbelt:/var/empty:/usr/bin/false\n",
      "_mdnsresponder:*:65:65:mDNSResponder:/var/empty:/usr/bin/false\n",
      "_ard:*:67:67:Apple Remote Desktop:/var/empty:/usr/bin/false\n",
      "_www:*:70:70:World Wide Web Server:/Library/WebServer:/usr/bin/false\n",
      "_eppc:*:71:71:Apple Events User:/var/empty:/usr/bin/false\n",
      "_cvs:*:72:72:CVS Server:/var/empty:/usr/bin/false\n",
      "_svn:*:73:73:SVN Server:/var/empty:/usr/bin/false\n",
      "_mysql:*:74:74:MySQL Server:/var/empty:/usr/bin/false\n",
      "_sshd:*:75:75:sshd Privilege separation:/var/empty:/usr/bin/false\n",
      "_qtss:*:76:76:QuickTime Streaming Server:/var/empty:/usr/bin/false\n",
      "_cyrus:*:77:6:Cyrus Administrator:/var/imap:/usr/bin/false\n",
      "_mailman:*:78:78:Mailman List Server:/var/empty:/usr/bin/false\n",
      "_appserver:*:79:79:Application Server:/var/empty:/usr/bin/false\n",
      "_clamav:*:82:82:ClamAV Daemon:/var/virusmails:/usr/bin/false\n",
      "_amavisd:*:83:83:AMaViS Daemon:/var/virusmails:/usr/bin/false\n",
      "_jabber:*:84:84:Jabber XMPP Server:/var/empty:/usr/bin/false\n",
      "_appowner:*:87:87:Application Owner:/var/empty:/usr/bin/false\n",
      "_windowserver:*:88:88:WindowServer:/var/empty:/usr/bin/false\n",
      "_spotlight:*:89:89:Spotlight:/var/empty:/usr/bin/false\n",
      "_tokend:*:91:91:Token Daemon:/var/empty:/usr/bin/false\n",
      "_securityagent:*:92:92:SecurityAgent:/var/db/securityagent:/usr/bin/false\n",
      "_calendar:*:93:93:Calendar:/var/empty:/usr/bin/false\n",
      "_teamsserver:*:94:94:TeamsServer:/var/teamsserver:/usr/bin/false\n",
      "_update_sharing:*:95:-2:Update Sharing:/var/empty:/usr/bin/false\n",
      "_installer:*:96:-2:Installer:/var/empty:/usr/bin/false\n",
      "_atsserver:*:97:97:ATS Server:/var/empty:/usr/bin/false\n",
      "_ftp:*:98:-2:FTP Daemon:/var/empty:/usr/bin/false\n",
      "_unknown:*:99:99:Unknown User:/var/empty:/usr/bin/false\n",
      "_softwareupdate:*:200:200:Software Update Service:/var/db/softwareupdate:/usr/bin/false\n",
      "_coreaudiod:*:202:202:Core Audio Daemon:/var/empty:/usr/bin/false\n",
      "_screensaver:*:203:203:Screensaver:/var/empty:/usr/bin/false\n",
      "_locationd:*:205:205:Location Daemon:/var/db/locationd:/usr/bin/false\n",
      "_trustevaluationagent:*:208:208:Trust Evaluation Agent:/var/empty:/usr/bin/false\n",
      "_timezone:*:210:210:AutoTimeZoneDaemon:/var/empty:/usr/bin/false\n",
      "_lda:*:211:211:Local Delivery Agent:/var/empty:/usr/bin/false\n",
      "_cvmsroot:*:212:212:CVMS Root:/var/empty:/usr/bin/false\n",
      "_usbmuxd:*:213:213:iPhone OS Device Helper:/var/db/lockdown:/usr/bin/false\n",
      "_dovecot:*:214:6:Dovecot Administrator:/var/empty:/usr/bin/false\n",
      "_dpaudio:*:215:215:DP Audio:/var/empty:/usr/bin/false\n",
      "_postgres:*:216:216:PostgreSQL Server:/var/empty:/usr/bin/false\n",
      "_krbtgt:*:217:-2:Kerberos Ticket Granting Ticket:/var/empty:/usr/bin/false\n",
      "_kadmin_admin:*:218:-2:Kerberos Admin Service:/var/empty:/usr/bin/false\n",
      "_kadmin_changepw:*:219:-2:Kerberos Change Password Service:/var/empty:/usr/bin/false\n",
      "_devicemgr:*:220:220:Device Management Server:/var/empty:/usr/bin/false\n",
      "_webauthserver:*:221:221:Web Auth Server:/var/empty:/usr/bin/false\n",
      "_netbios:*:222:222:NetBIOS:/var/empty:/usr/bin/false\n",
      "_warmd:*:224:224:Warm Daemon:/var/empty:/usr/bin/false\n",
      "_dovenull:*:227:227:Dovecot Authentication:/var/empty:/usr/bin/false\n",
      "_netstatistics:*:228:228:Network Statistics Daemon:/var/empty:/usr/bin/false\n",
      "_avbdeviced:*:229:-2:Ethernet AVB Device Daemon:/var/empty:/usr/bin/false\n",
      "_krb_krbtgt:*:230:-2:Open Directory Kerberos Ticket Granting Ticket:/var/empty:/usr/bin/false\n",
      "_krb_kadmin:*:231:-2:Open Directory Kerberos Admin Service:/var/empty:/usr/bin/false\n",
      "_krb_changepw:*:232:-2:Open Directory Kerberos Change Password Service:/var/empty:/usr/bin/false\n",
      "_krb_kerberos:*:233:-2:Open Directory Kerberos:/var/empty:/usr/bin/false\n",
      "_krb_anonymous:*:234:-2:Open Directory Kerberos Anonymous:/var/empty:/usr/bin/false\n",
      "_assetcache:*:235:235:Asset Cache Service:/var/empty:/usr/bin/false\n",
      "_coremediaiod:*:236:236:Core Media IO Daemon:/var/empty:/usr/bin/false\n",
      "_launchservicesd:*:239:239:_launchservicesd:/var/empty:/usr/bin/false\n",
      "_iconservices:*:240:240:IconServices:/var/empty:/usr/bin/false\n",
      "_distnote:*:241:241:DistNote:/var/empty:/usr/bin/false\n",
      "_nsurlsessiond:*:242:242:NSURLSession Daemon:/var/db/nsurlsessiond:/usr/bin/false\n",
      "_nsurlstoraged:*:243:243:NSURLStorage Daemon:/var/db/nsurlstoraged:/usr/bin/false\n",
      "_displaypolicyd:*:244:244:Display Policy Daemon:/var/empty:/usr/bin/false\n",
      "_astris:*:245:245:Astris Services:/var/db/astris:/usr/bin/false\n",
      "_krbfast:*:246:-2:Kerberos FAST Account:/var/empty:/usr/bin/false\n",
      "_gamecontrollerd:*:247:247:Game Controller Daemon:/var/empty:/usr/bin/false\n",
      "_mbsetupuser:*:248:248:Setup User:/var/setup:/bin/bash\n",
      "_ondemand:*:249:249:On Demand Resource Daemon:/var/db/ondemand:/usr/bin/false\n",
      "_xserverdocs:*:251:251:macOS Server Documents Service:/var/empty:/usr/bin/false\n",
      "_wwwproxy:*:252:252:WWW Proxy:/var/empty:/usr/bin/false\n",
      "_mobileasset:*:253:253:MobileAsset User:/var/ma:/usr/bin/false\n",
      "_findmydevice:*:254:254:Find My Device Daemon:/var/db/findmydevice:/usr/bin/false\n",
      "_datadetectors:*:257:257:DataDetectors:/var/db/datadetectors:/usr/bin/false\n",
      "_captiveagent:*:258:258:captiveagent:/var/empty:/usr/bin/false\n",
      "_ctkd:*:259:259:ctkd Account:/var/empty:/usr/bin/false\n",
      "_applepay:*:260:260:applepay Account:/var/db/applepay:/usr/bin/false\n",
      "_hidd:*:261:261:HID Service User:/var/db/hidd:/usr/bin/false\n",
      "_cmiodalassistants:*:262:262:CoreMedia IO Assistants User:/var/db/cmiodalassistants:/usr/bin/false\n",
      "_analyticsd:*:263:263:Analytics Daemon:/var/db/analyticsd:/usr/bin/false\n",
      "_fpsd:*:265:265:FPS Daemon:/var/db/fpsd:/usr/bin/false\n",
      "_timed:*:266:266:Time Sync Daemon:/var/db/timed:/usr/bin/false\n",
      "_nearbyd:*:268:268:Proximity and Ranging Daemon:/var/db/nearbyd:/usr/bin/false\n",
      "_reportmemoryexception:*:269:269:ReportMemoryException:/var/db/reportmemoryexception:/usr/bin/false\n",
      "_driverkit:*:270:270:DriverKit:/var/empty:/usr/bin/false\n"
     ]
    }
   ],
   "source": [
    "cat /etc/passwd "
   ]
  },
  {
   "cell_type": "code",
   "execution_count": 10,
   "metadata": {},
   "outputs": [
    {
     "name": "stdout",
     "output_type": "stream",
     "text": [
      "##\n",
      "# User Database\n",
      "# \n",
      "# Note that this file is consulted directly only when the system is running\n",
      "# in single-user mode.  At other times this information is provided by\n",
      "# Open Directory.\n",
      "#\n",
      "# See the opendirectoryd(8) man page for additional information about\n",
      "# Open Directory.\n",
      "##\n",
      "nobody\n",
      "root\n",
      "daemon\n",
      "_uucp\n",
      "_taskgated\n",
      "_networkd\n",
      "_installassistant\n",
      "_lp\n",
      "_postfix\n",
      "_scsd\n",
      "_ces\n",
      "_appstore\n",
      "_mcxalr\n",
      "_appleevents\n",
      "_geod\n",
      "_devdocs\n",
      "_sandbox\n",
      "_mdnsresponder\n",
      "_ard\n",
      "_www\n",
      "_eppc\n",
      "_cvs\n",
      "_svn\n",
      "_mysql\n",
      "_sshd\n",
      "_qtss\n",
      "_cyrus\n",
      "_mailman\n",
      "_appserver\n",
      "_clamav\n",
      "_amavisd\n",
      "_jabber\n",
      "_appowner\n",
      "_windowserver\n",
      "_spotlight\n",
      "_tokend\n",
      "_securityagent\n",
      "_calendar\n",
      "_teamsserver\n",
      "_update_sharing\n",
      "_installer\n",
      "_atsserver\n",
      "_ftp\n",
      "_unknown\n",
      "_softwareupdate\n",
      "_coreaudiod\n",
      "_screensaver\n",
      "_locationd\n",
      "_trustevaluationagent\n",
      "_timezone\n",
      "_lda\n",
      "_cvmsroot\n",
      "_usbmuxd\n",
      "_dovecot\n",
      "_dpaudio\n",
      "_postgres\n",
      "_krbtgt\n",
      "_kadmin_admin\n",
      "_kadmin_changepw\n",
      "_devicemgr\n",
      "_webauthserver\n",
      "_netbios\n",
      "_warmd\n",
      "_dovenull\n",
      "_netstatistics\n",
      "_avbdeviced\n",
      "_krb_krbtgt\n",
      "_krb_kadmin\n",
      "_krb_changepw\n",
      "_krb_kerberos\n",
      "_krb_anonymous\n",
      "_assetcache\n",
      "_coremediaiod\n",
      "_launchservicesd\n",
      "_iconservices\n",
      "_distnote\n",
      "_nsurlsessiond\n",
      "_nsurlstoraged\n",
      "_displaypolicyd\n",
      "_astris\n",
      "_krbfast\n",
      "_gamecontrollerd\n",
      "_mbsetupuser\n",
      "_ondemand\n",
      "_xserverdocs\n",
      "_wwwproxy\n",
      "_mobileasset\n",
      "_findmydevice\n",
      "_datadetectors\n",
      "_captiveagent\n",
      "_ctkd\n",
      "_applepay\n",
      "_hidd\n",
      "_cmiodalassistants\n",
      "_analyticsd\n",
      "_fpsd\n",
      "_timed\n",
      "_nearbyd\n",
      "_reportmemoryexception\n",
      "_driverkit\n"
     ]
    }
   ],
   "source": [
    "cat /etc/passwd | cut -d: -f1"
   ]
  },
  {
   "cell_type": "code",
   "execution_count": 11,
   "metadata": {},
   "outputs": [
    {
     "name": "stdout",
     "output_type": "stream",
     "text": [
      "##\n",
      "# User Database\n",
      "# \n",
      "# Note that this file is consulted directly only when the system is running\n",
      "# in single-user mode.  At other times this information is provided by\n",
      "# Open Directory.\n",
      "#\n",
      "# See the opendirectoryd(8) man page for additional information about\n",
      "# Open Directory.\n",
      "##\n",
      "nobody:-2:/var/empty\n",
      "root:0:/var/root\n",
      "daemon:1:/var/root\n",
      "_uucp:4:/var/spool/uucp\n",
      "_taskgated:13:/var/empty\n",
      "_networkd:24:/var/networkd\n",
      "_installassistant:25:/var/empty\n",
      "_lp:26:/var/spool/cups\n",
      "_postfix:27:/var/spool/postfix\n",
      "_scsd:31:/var/empty\n",
      "_ces:32:/var/empty\n",
      "_appstore:33:/var/db/appstore\n",
      "_mcxalr:54:/var/empty\n",
      "_appleevents:55:/var/empty\n",
      "_geod:56:/var/db/geod\n",
      "_devdocs:59:/var/empty\n",
      "_sandbox:60:/var/empty\n",
      "_mdnsresponder:65:/var/empty\n",
      "_ard:67:/var/empty\n",
      "_www:70:/Library/WebServer\n",
      "_eppc:71:/var/empty\n",
      "_cvs:72:/var/empty\n",
      "_svn:73:/var/empty\n",
      "_mysql:74:/var/empty\n",
      "_sshd:75:/var/empty\n",
      "_qtss:76:/var/empty\n",
      "_cyrus:77:/var/imap\n",
      "_mailman:78:/var/empty\n",
      "_appserver:79:/var/empty\n",
      "_clamav:82:/var/virusmails\n",
      "_amavisd:83:/var/virusmails\n",
      "_jabber:84:/var/empty\n",
      "_appowner:87:/var/empty\n",
      "_windowserver:88:/var/empty\n",
      "_spotlight:89:/var/empty\n",
      "_tokend:91:/var/empty\n",
      "_securityagent:92:/var/db/securityagent\n",
      "_calendar:93:/var/empty\n",
      "_teamsserver:94:/var/teamsserver\n",
      "_update_sharing:95:/var/empty\n",
      "_installer:96:/var/empty\n",
      "_atsserver:97:/var/empty\n",
      "_ftp:98:/var/empty\n",
      "_unknown:99:/var/empty\n",
      "_softwareupdate:200:/var/db/softwareupdate\n",
      "_coreaudiod:202:/var/empty\n",
      "_screensaver:203:/var/empty\n",
      "_locationd:205:/var/db/locationd\n",
      "_trustevaluationagent:208:/var/empty\n",
      "_timezone:210:/var/empty\n",
      "_lda:211:/var/empty\n",
      "_cvmsroot:212:/var/empty\n",
      "_usbmuxd:213:/var/db/lockdown\n",
      "_dovecot:214:/var/empty\n",
      "_dpaudio:215:/var/empty\n",
      "_postgres:216:/var/empty\n",
      "_krbtgt:217:/var/empty\n",
      "_kadmin_admin:218:/var/empty\n",
      "_kadmin_changepw:219:/var/empty\n",
      "_devicemgr:220:/var/empty\n",
      "_webauthserver:221:/var/empty\n",
      "_netbios:222:/var/empty\n",
      "_warmd:224:/var/empty\n",
      "_dovenull:227:/var/empty\n",
      "_netstatistics:228:/var/empty\n",
      "_avbdeviced:229:/var/empty\n",
      "_krb_krbtgt:230:/var/empty\n",
      "_krb_kadmin:231:/var/empty\n",
      "_krb_changepw:232:/var/empty\n",
      "_krb_kerberos:233:/var/empty\n",
      "_krb_anonymous:234:/var/empty\n",
      "_assetcache:235:/var/empty\n",
      "_coremediaiod:236:/var/empty\n",
      "_launchservicesd:239:/var/empty\n",
      "_iconservices:240:/var/empty\n",
      "_distnote:241:/var/empty\n",
      "_nsurlsessiond:242:/var/db/nsurlsessiond\n",
      "_nsurlstoraged:243:/var/db/nsurlstoraged\n",
      "_displaypolicyd:244:/var/empty\n",
      "_astris:245:/var/db/astris\n",
      "_krbfast:246:/var/empty\n",
      "_gamecontrollerd:247:/var/empty\n",
      "_mbsetupuser:248:/var/setup\n",
      "_ondemand:249:/var/db/ondemand\n",
      "_xserverdocs:251:/var/empty\n",
      "_wwwproxy:252:/var/empty\n",
      "_mobileasset:253:/var/ma\n",
      "_findmydevice:254:/var/db/findmydevice\n",
      "_datadetectors:257:/var/db/datadetectors\n",
      "_captiveagent:258:/var/empty\n",
      "_ctkd:259:/var/empty\n",
      "_applepay:260:/var/db/applepay\n",
      "_hidd:261:/var/db/hidd\n",
      "_cmiodalassistants:262:/var/db/cmiodalassistants\n",
      "_analyticsd:263:/var/db/analyticsd\n",
      "_fpsd:265:/var/db/fpsd\n",
      "_timed:266:/var/db/timed\n",
      "_nearbyd:268:/var/db/nearbyd\n",
      "_reportmemoryexception:269:/var/db/reportmemoryexception\n",
      "_driverkit:270:/var/empty\n"
     ]
    }
   ],
   "source": [
    "!cut -d\":\" -f1,3,6 /etc/passwd "
   ]
  },
  {
   "cell_type": "code",
   "execution_count": 12,
   "metadata": {},
   "outputs": [
    {
     "name": "stdout",
     "output_type": "stream",
     "text": [
      "##\n",
      "# User Database\n",
      "# \n",
      "# Note that this file is consulted directly only when the system is running\n",
      "# in single-user mode.  At other times this information is provided by\n",
      "# Open Directory.\n",
      "#\n",
      "# See the opendirectoryd(8) man page for additional information about\n",
      "# Open Directory.\n",
      "##\n",
      "-2:-2:Unprivileged User:/var/empty\n",
      "0:0:System Administrator:/var/root\n",
      "1:1:System Services:/var/root\n",
      "4:4:Unix to Unix Copy Protocol:/var/spool/uucp\n",
      "13:13:Task Gate Daemon:/var/empty\n",
      "24:24:Network Services:/var/networkd\n",
      "25:25:Install Assistant:/var/empty\n",
      "26:26:Printing Services:/var/spool/cups\n",
      "27:27:Postfix Mail Server:/var/spool/postfix\n",
      "31:31:Service Configuration Service:/var/empty\n",
      "32:32:Certificate Enrollment Service:/var/empty\n",
      "33:33:Mac App Store Service:/var/db/appstore\n",
      "54:54:MCX AppLaunch:/var/empty\n",
      "55:55:AppleEvents Daemon:/var/empty\n",
      "56:56:Geo Services Daemon:/var/db/geod\n",
      "59:59:Developer Documentation:/var/empty\n",
      "60:60:Seatbelt:/var/empty\n",
      "65:65:mDNSResponder:/var/empty\n",
      "67:67:Apple Remote Desktop:/var/empty\n",
      "70:70:World Wide Web Server:/Library/WebServer\n",
      "71:71:Apple Events User:/var/empty\n",
      "72:72:CVS Server:/var/empty\n",
      "73:73:SVN Server:/var/empty\n",
      "74:74:MySQL Server:/var/empty\n",
      "75:75:sshd Privilege separation:/var/empty\n",
      "76:76:QuickTime Streaming Server:/var/empty\n",
      "77:6:Cyrus Administrator:/var/imap\n",
      "78:78:Mailman List Server:/var/empty\n",
      "79:79:Application Server:/var/empty\n",
      "82:82:ClamAV Daemon:/var/virusmails\n",
      "83:83:AMaViS Daemon:/var/virusmails\n",
      "84:84:Jabber XMPP Server:/var/empty\n",
      "87:87:Application Owner:/var/empty\n",
      "88:88:WindowServer:/var/empty\n",
      "89:89:Spotlight:/var/empty\n",
      "91:91:Token Daemon:/var/empty\n",
      "92:92:SecurityAgent:/var/db/securityagent\n",
      "93:93:Calendar:/var/empty\n",
      "94:94:TeamsServer:/var/teamsserver\n",
      "95:-2:Update Sharing:/var/empty\n",
      "96:-2:Installer:/var/empty\n",
      "97:97:ATS Server:/var/empty\n",
      "98:-2:FTP Daemon:/var/empty\n",
      "99:99:Unknown User:/var/empty\n",
      "200:200:Software Update Service:/var/db/softwareupdate\n",
      "202:202:Core Audio Daemon:/var/empty\n",
      "203:203:Screensaver:/var/empty\n",
      "205:205:Location Daemon:/var/db/locationd\n",
      "208:208:Trust Evaluation Agent:/var/empty\n",
      "210:210:AutoTimeZoneDaemon:/var/empty\n",
      "211:211:Local Delivery Agent:/var/empty\n",
      "212:212:CVMS Root:/var/empty\n",
      "213:213:iPhone OS Device Helper:/var/db/lockdown\n",
      "214:6:Dovecot Administrator:/var/empty\n",
      "215:215:DP Audio:/var/empty\n",
      "216:216:PostgreSQL Server:/var/empty\n",
      "217:-2:Kerberos Ticket Granting Ticket:/var/empty\n",
      "218:-2:Kerberos Admin Service:/var/empty\n",
      "219:-2:Kerberos Change Password Service:/var/empty\n",
      "220:220:Device Management Server:/var/empty\n",
      "221:221:Web Auth Server:/var/empty\n",
      "222:222:NetBIOS:/var/empty\n",
      "224:224:Warm Daemon:/var/empty\n",
      "227:227:Dovecot Authentication:/var/empty\n",
      "228:228:Network Statistics Daemon:/var/empty\n",
      "229:-2:Ethernet AVB Device Daemon:/var/empty\n",
      "230:-2:Open Directory Kerberos Ticket Granting Ticket:/var/empty\n",
      "231:-2:Open Directory Kerberos Admin Service:/var/empty\n",
      "232:-2:Open Directory Kerberos Change Password Service:/var/empty\n",
      "233:-2:Open Directory Kerberos:/var/empty\n",
      "234:-2:Open Directory Kerberos Anonymous:/var/empty\n",
      "235:235:Asset Cache Service:/var/empty\n",
      "236:236:Core Media IO Daemon:/var/empty\n",
      "239:239:_launchservicesd:/var/empty\n",
      "240:240:IconServices:/var/empty\n",
      "241:241:DistNote:/var/empty\n",
      "242:242:NSURLSession Daemon:/var/db/nsurlsessiond\n",
      "243:243:NSURLStorage Daemon:/var/db/nsurlstoraged\n",
      "244:244:Display Policy Daemon:/var/empty\n",
      "245:245:Astris Services:/var/db/astris\n",
      "246:-2:Kerberos FAST Account:/var/empty\n",
      "247:247:Game Controller Daemon:/var/empty\n",
      "248:248:Setup User:/var/setup\n",
      "249:249:On Demand Resource Daemon:/var/db/ondemand\n",
      "251:251:macOS Server Documents Service:/var/empty\n",
      "252:252:WWW Proxy:/var/empty\n",
      "253:253:MobileAsset User:/var/ma\n",
      "254:254:Find My Device Daemon:/var/db/findmydevice\n",
      "257:257:DataDetectors:/var/db/datadetectors\n",
      "258:258:captiveagent:/var/empty\n",
      "259:259:ctkd Account:/var/empty\n",
      "260:260:applepay Account:/var/db/applepay\n",
      "261:261:HID Service User:/var/db/hidd\n",
      "262:262:CoreMedia IO Assistants User:/var/db/cmiodalassistants\n",
      "263:263:Analytics Daemon:/var/db/analyticsd\n",
      "265:265:FPS Daemon:/var/db/fpsd\n",
      "266:266:Time Sync Daemon:/var/db/timed\n",
      "268:268:Proximity and Ranging Daemon:/var/db/nearbyd\n",
      "269:269:ReportMemoryException:/var/db/reportmemoryexception\n",
      "270:270:DriverKit:/var/empty\n"
     ]
    }
   ],
   "source": [
    "!cut -d\":\" -f3-6 /etc/passwd "
   ]
  },
  {
   "cell_type": "markdown",
   "metadata": {},
   "source": [
    "## Exercise 2 - Transforming data using `tr`."
   ]
  },
  {
   "cell_type": "code",
   "execution_count": 13,
   "metadata": {},
   "outputs": [
    {
     "name": "stdout",
     "output_type": "stream",
     "text": [
      "SHELL SCRIPTING\n"
     ]
    }
   ],
   "source": [
    "# The command below translates all lower case alphabets to upper case.\n",
    "!echo \"Shell Scripting\" | tr \"[a-z]\" \"[A-Z]\" "
   ]
  },
  {
   "cell_type": "code",
   "execution_count": 14,
   "metadata": {},
   "outputs": [
    {
     "name": "stdout",
     "output_type": "stream",
     "text": [
      "SHELL SCRIPTING\n"
     ]
    }
   ],
   "source": [
    "# You could also use the pre-defined character sets also for this purpose:\n",
    "!echo \"Shell Scripting\" | tr \"[:lower:]\" \"[:upper:]\" "
   ]
  },
  {
   "cell_type": "code",
   "execution_count": 15,
   "metadata": {},
   "outputs": [
    {
     "name": "stdout",
     "output_type": "stream",
     "text": [
      "shell scripting\n"
     ]
    }
   ],
   "source": [
    "# The command below translates all upper case alphabets to lower case.\n",
    "!echo \"Shell Scripting\" | tr  \"[A-Z]\" \"[a-z]\" "
   ]
  },
  {
   "cell_type": "markdown",
   "metadata": {},
   "source": [
    "The command below replaces repeat occurrences of 'space' in the output of ps command with one 'space'."
   ]
  },
  {
   "cell_type": "code",
   "execution_count": 19,
   "metadata": {},
   "outputs": [
    {
     "name": "stdout",
     "output_type": "stream",
     "text": [
      "  PID TTY           TIME CMD\n",
      "28477 ttys000    0:02.38 -zsh\n",
      "28482 ttys000    0:00.01 -zsh\n",
      "28516 ttys000    0:00.00 -zsh\n",
      "28517 ttys000    0:00.09 -zsh\n",
      "28519 ttys000    0:00.45 /Users/macpro2014/.cache/gitstatus/gitstatusd-darwin-x\n",
      "49916 ttys002    0:00.53 /bin/zsh -il\n",
      "49960 ttys002    0:00.00 /bin/zsh -il\n",
      "49961 ttys002    0:00.01 /bin/zsh -il\n",
      "49964 ttys002    0:00.01 /bin/zsh -il\n",
      "49969 ttys002    0:00.08 /Users/macpro2014/.cache/gitstatus/gitstatusd-darwin-x\n"
     ]
    }
   ],
   "source": [
    "!ps"
   ]
  },
  {
   "cell_type": "code",
   "execution_count": 18,
   "metadata": {},
   "outputs": [
    {
     "name": "stdout",
     "output_type": "stream",
     "text": [
      " PID TTY TIME CMD\n",
      "28477 ttys000 0:02.38 -zsh\n",
      "28482 ttys000 0:00.01 -zsh\n",
      "28516 ttys000 0:00.00 -zsh\n",
      "28517 ttys000 0:00.09 -zsh\n",
      "28519 ttys000 0:00.45 /Users/macpro2014/.cache/gitstatus/gitstatusd-darwin-x86_64 -G v1.5.4 -s -1 -u -1 -d -1 -c -1 -m -1 -v FATAL -t 16\n",
      "49916 ttys002 0:00.53 /bin/zsh -il\n",
      "49960 ttys002 0:00.00 /bin/zsh -il\n",
      "49961 ttys002 0:00.01 /bin/zsh -il\n",
      "49964 ttys002 0:00.01 /bin/zsh -il\n",
      "49969 ttys002 0:00.07 /Users/macpro2014/.cache/gitstatus/gitstatusd-darwin-x86_64 -G v1.5.4 -s -1 -u -1 -d -1 -c -1 -m -1 -v FATAL -t 16\n",
      "52121 ttys003 0:00.01 /bin/zsh -c ps | tr -s \" \"\n",
      "52123 ttys003 0:00.00 tr -s \n"
     ]
    }
   ],
   "source": [
    "!ps | tr -s \" \""
   ]
  },
  {
   "cell_type": "markdown",
   "metadata": {},
   "source": [
    "We can delete specified characters using the -d option."
   ]
  },
  {
   "cell_type": "code",
   "execution_count": 21,
   "metadata": {},
   "outputs": [
    {
     "name": "stdout",
     "output_type": "stream",
     "text": [
      "My login pin is \n"
     ]
    }
   ],
   "source": [
    "# The command below deletes all digits.\n",
    "!echo \"My login pin is 5634\" | tr -d \"[:digit:]\""
   ]
  },
  {
   "cell_type": "markdown",
   "metadata": {},
   "source": [
    "## Exercise 3 - Start the PostgreSQL database."
   ]
  },
  {
   "cell_type": "markdown",
   "metadata": {},
   "source": [
    "Start docker"
   ]
  },
  {
   "cell_type": "markdown",
   "metadata": {},
   "source": [
    "## Exercise 4 - Create a table"
   ]
  },
  {
   "cell_type": "code",
   "execution_count": 22,
   "metadata": {},
   "outputs": [],
   "source": [
    "#!pip install psycopg2-binary\n",
    "import psycopg2\n",
    "\n",
    "POSTGRES_DB_HOST = \"192.168.24.254\"\n",
    "POSTGRES_DB_PORT = \"5432\"\n",
    "\n",
    "conn = psycopg2.connect(host=POSTGRES_DB_HOST, \n",
    "                        port=POSTGRES_DB_PORT,\n",
    "                        database=\"testdb\",\n",
    "                        user=\"admin\", \n",
    "                        password=\"admin\")"
   ]
  },
  {
   "cell_type": "code",
   "execution_count": 23,
   "metadata": {},
   "outputs": [],
   "source": [
    "cur = conn.cursor()\n",
    "\n",
    "sql = '''\n",
    "create table users(username varchar(50), userid int, homedirectory varchar(100));\n",
    "'''\n",
    "\n",
    "cur.execute(sql)\n",
    "conn.commit()"
   ]
  },
  {
   "cell_type": "code",
   "execution_count": 25,
   "metadata": {},
   "outputs": [
    {
     "data": {
      "text/plain": [
       "[]"
      ]
     },
     "execution_count": 25,
     "metadata": {},
     "output_type": "execute_result"
    }
   ],
   "source": [
    "sql = '''\n",
    "select * from users;\n",
    "'''\n",
    "cur.execute(sql)\n",
    "all_records = cur.fetchall()\n",
    "all_records\n"
   ]
  },
  {
   "cell_type": "markdown",
   "metadata": {},
   "source": [
    "## Exercise 5 - Loading data into a PostgreSQL table."
   ]
  },
  {
   "cell_type": "markdown",
   "metadata": {},
   "source": [
    "### 5.2. Extract required user information from /etc/passwd"
   ]
  },
  {
   "cell_type": "code",
   "execution_count": 28,
   "metadata": {},
   "outputs": [
    {
     "name": "stdout",
     "output_type": "stream",
     "text": [
      "##\n",
      "# User Database\n",
      "# \n",
      "# Note that this file is consulted directly only when the system is running\n",
      "# in single-user mode.  At other times this information is provided by\n",
      "# Open Directory.\n",
      "#\n",
      "# See the opendirectoryd(8) man page for additional information about\n",
      "# Open Directory.\n",
      "##\n",
      "nobody:-2:/var/empty\n",
      "root:0:/var/root\n",
      "daemon:1:/var/root\n",
      "_uucp:4:/var/spool/uucp\n",
      "_taskgated:13:/var/empty\n",
      "_networkd:24:/var/networkd\n",
      "_installassistant:25:/var/empty\n",
      "_lp:26:/var/spool/cups\n",
      "_postfix:27:/var/spool/postfix\n",
      "_scsd:31:/var/empty\n",
      "_ces:32:/var/empty\n",
      "_appstore:33:/var/db/appstore\n",
      "_mcxalr:54:/var/empty\n",
      "_appleevents:55:/var/empty\n",
      "_geod:56:/var/db/geod\n",
      "_devdocs:59:/var/empty\n",
      "_sandbox:60:/var/empty\n",
      "_mdnsresponder:65:/var/empty\n",
      "_ard:67:/var/empty\n",
      "_www:70:/Library/WebServer\n",
      "_eppc:71:/var/empty\n",
      "_cvs:72:/var/empty\n",
      "_svn:73:/var/empty\n",
      "_mysql:74:/var/empty\n",
      "_sshd:75:/var/empty\n",
      "_qtss:76:/var/empty\n",
      "_cyrus:77:/var/imap\n",
      "_mailman:78:/var/empty\n",
      "_appserver:79:/var/empty\n",
      "_clamav:82:/var/virusmails\n",
      "_amavisd:83:/var/virusmails\n",
      "_jabber:84:/var/empty\n",
      "_appowner:87:/var/empty\n",
      "_windowserver:88:/var/empty\n",
      "_spotlight:89:/var/empty\n",
      "_tokend:91:/var/empty\n",
      "_securityagent:92:/var/db/securityagent\n",
      "_calendar:93:/var/empty\n",
      "_teamsserver:94:/var/teamsserver\n",
      "_update_sharing:95:/var/empty\n",
      "_installer:96:/var/empty\n",
      "_atsserver:97:/var/empty\n",
      "_ftp:98:/var/empty\n",
      "_unknown:99:/var/empty\n",
      "_softwareupdate:200:/var/db/softwareupdate\n",
      "_coreaudiod:202:/var/empty\n",
      "_screensaver:203:/var/empty\n",
      "_locationd:205:/var/db/locationd\n",
      "_trustevaluationagent:208:/var/empty\n",
      "_timezone:210:/var/empty\n",
      "_lda:211:/var/empty\n",
      "_cvmsroot:212:/var/empty\n",
      "_usbmuxd:213:/var/db/lockdown\n",
      "_dovecot:214:/var/empty\n",
      "_dpaudio:215:/var/empty\n",
      "_postgres:216:/var/empty\n",
      "_krbtgt:217:/var/empty\n",
      "_kadmin_admin:218:/var/empty\n",
      "_kadmin_changepw:219:/var/empty\n",
      "_devicemgr:220:/var/empty\n",
      "_webauthserver:221:/var/empty\n",
      "_netbios:222:/var/empty\n",
      "_warmd:224:/var/empty\n",
      "_dovenull:227:/var/empty\n",
      "_netstatistics:228:/var/empty\n",
      "_avbdeviced:229:/var/empty\n",
      "_krb_krbtgt:230:/var/empty\n",
      "_krb_kadmin:231:/var/empty\n",
      "_krb_changepw:232:/var/empty\n",
      "_krb_kerberos:233:/var/empty\n",
      "_krb_anonymous:234:/var/empty\n",
      "_assetcache:235:/var/empty\n",
      "_coremediaiod:236:/var/empty\n",
      "_launchservicesd:239:/var/empty\n",
      "_iconservices:240:/var/empty\n",
      "_distnote:241:/var/empty\n",
      "_nsurlsessiond:242:/var/db/nsurlsessiond\n",
      "_nsurlstoraged:243:/var/db/nsurlstoraged\n",
      "_displaypolicyd:244:/var/empty\n",
      "_astris:245:/var/db/astris\n",
      "_krbfast:246:/var/empty\n",
      "_gamecontrollerd:247:/var/empty\n",
      "_mbsetupuser:248:/var/setup\n",
      "_ondemand:249:/var/db/ondemand\n",
      "_xserverdocs:251:/var/empty\n",
      "_wwwproxy:252:/var/empty\n",
      "_mobileasset:253:/var/ma\n",
      "_findmydevice:254:/var/db/findmydevice\n",
      "_datadetectors:257:/var/db/datadetectors\n",
      "_captiveagent:258:/var/empty\n",
      "_ctkd:259:/var/empty\n",
      "_applepay:260:/var/db/applepay\n",
      "_hidd:261:/var/db/hidd\n",
      "_cmiodalassistants:262:/var/db/cmiodalassistants\n",
      "_analyticsd:263:/var/db/analyticsd\n",
      "_fpsd:265:/var/db/fpsd\n",
      "_timed:266:/var/db/timed\n",
      "_nearbyd:268:/var/db/nearbyd\n",
      "_reportmemoryexception:269:/var/db/reportmemoryexception\n",
      "_driverkit:270:/var/empty\n"
     ]
    }
   ],
   "source": [
    "# example of /etc/passwd\n",
    "# nobody:*:-2:-2:Unprivileged User:/var/empty:/usr/bin/false\n",
    "# root:*:0:0:System Administrator:/var/root:/bin/sh\n",
    "# daemon:*:1:1:System Services:/var/root:/usr/bin/false\n",
    "\n",
    "# -d : delimiter\n",
    "# -f : field\n",
    "!cut -d\":\" -f1,3,6 /etc/passwd"
   ]
  },
  {
   "cell_type": "code",
   "execution_count": 29,
   "metadata": {},
   "outputs": [],
   "source": [
    "!cut -d\":\" -f1,3,6 /etc/passwd > extracted-data.txt"
   ]
  },
  {
   "cell_type": "markdown",
   "metadata": {},
   "source": [
    "### 5.4. Transform the data into CSV format"
   ]
  },
  {
   "cell_type": "code",
   "execution_count": 30,
   "metadata": {},
   "outputs": [
    {
     "name": "stdout",
     "output_type": "stream",
     "text": [
      "##\n",
      "# User Database\n",
      "# \n",
      "# Note that this file is consulted directly only when the system is running\n",
      "# in single-user mode.  At other times this information is provided by\n",
      "# Open Directory.\n",
      "#\n",
      "# See the opendirectoryd(8) man page for additional information about\n",
      "# Open Directory.\n",
      "##\n",
      "nobody,-2,/var/empty\n",
      "root,0,/var/root\n",
      "daemon,1,/var/root\n",
      "_uucp,4,/var/spool/uucp\n",
      "_taskgated,13,/var/empty\n",
      "_networkd,24,/var/networkd\n",
      "_installassistant,25,/var/empty\n",
      "_lp,26,/var/spool/cups\n",
      "_postfix,27,/var/spool/postfix\n",
      "_scsd,31,/var/empty\n",
      "_ces,32,/var/empty\n",
      "_appstore,33,/var/db/appstore\n",
      "_mcxalr,54,/var/empty\n",
      "_appleevents,55,/var/empty\n",
      "_geod,56,/var/db/geod\n",
      "_devdocs,59,/var/empty\n",
      "_sandbox,60,/var/empty\n",
      "_mdnsresponder,65,/var/empty\n",
      "_ard,67,/var/empty\n",
      "_www,70,/Library/WebServer\n",
      "_eppc,71,/var/empty\n",
      "_cvs,72,/var/empty\n",
      "_svn,73,/var/empty\n",
      "_mysql,74,/var/empty\n",
      "_sshd,75,/var/empty\n",
      "_qtss,76,/var/empty\n",
      "_cyrus,77,/var/imap\n",
      "_mailman,78,/var/empty\n",
      "_appserver,79,/var/empty\n",
      "_clamav,82,/var/virusmails\n",
      "_amavisd,83,/var/virusmails\n",
      "_jabber,84,/var/empty\n",
      "_appowner,87,/var/empty\n",
      "_windowserver,88,/var/empty\n",
      "_spotlight,89,/var/empty\n",
      "_tokend,91,/var/empty\n",
      "_securityagent,92,/var/db/securityagent\n",
      "_calendar,93,/var/empty\n",
      "_teamsserver,94,/var/teamsserver\n",
      "_update_sharing,95,/var/empty\n",
      "_installer,96,/var/empty\n",
      "_atsserver,97,/var/empty\n",
      "_ftp,98,/var/empty\n",
      "_unknown,99,/var/empty\n",
      "_softwareupdate,200,/var/db/softwareupdate\n",
      "_coreaudiod,202,/var/empty\n",
      "_screensaver,203,/var/empty\n",
      "_locationd,205,/var/db/locationd\n",
      "_trustevaluationagent,208,/var/empty\n",
      "_timezone,210,/var/empty\n",
      "_lda,211,/var/empty\n",
      "_cvmsroot,212,/var/empty\n",
      "_usbmuxd,213,/var/db/lockdown\n",
      "_dovecot,214,/var/empty\n",
      "_dpaudio,215,/var/empty\n",
      "_postgres,216,/var/empty\n",
      "_krbtgt,217,/var/empty\n",
      "_kadmin_admin,218,/var/empty\n",
      "_kadmin_changepw,219,/var/empty\n",
      "_devicemgr,220,/var/empty\n",
      "_webauthserver,221,/var/empty\n",
      "_netbios,222,/var/empty\n",
      "_warmd,224,/var/empty\n",
      "_dovenull,227,/var/empty\n",
      "_netstatistics,228,/var/empty\n",
      "_avbdeviced,229,/var/empty\n",
      "_krb_krbtgt,230,/var/empty\n",
      "_krb_kadmin,231,/var/empty\n",
      "_krb_changepw,232,/var/empty\n",
      "_krb_kerberos,233,/var/empty\n",
      "_krb_anonymous,234,/var/empty\n",
      "_assetcache,235,/var/empty\n",
      "_coremediaiod,236,/var/empty\n",
      "_launchservicesd,239,/var/empty\n",
      "_iconservices,240,/var/empty\n",
      "_distnote,241,/var/empty\n",
      "_nsurlsessiond,242,/var/db/nsurlsessiond\n",
      "_nsurlstoraged,243,/var/db/nsurlstoraged\n",
      "_displaypolicyd,244,/var/empty\n",
      "_astris,245,/var/db/astris\n",
      "_krbfast,246,/var/empty\n",
      "_gamecontrollerd,247,/var/empty\n",
      "_mbsetupuser,248,/var/setup\n",
      "_ondemand,249,/var/db/ondemand\n",
      "_xserverdocs,251,/var/empty\n",
      "_wwwproxy,252,/var/empty\n",
      "_mobileasset,253,/var/ma\n",
      "_findmydevice,254,/var/db/findmydevice\n",
      "_datadetectors,257,/var/db/datadetectors\n",
      "_captiveagent,258,/var/empty\n",
      "_ctkd,259,/var/empty\n",
      "_applepay,260,/var/db/applepay\n",
      "_hidd,261,/var/db/hidd\n",
      "_cmiodalassistants,262,/var/db/cmiodalassistants\n",
      "_analyticsd,263,/var/db/analyticsd\n",
      "_fpsd,265,/var/db/fpsd\n",
      "_timed,266,/var/db/timed\n",
      "_nearbyd,268,/var/db/nearbyd\n",
      "_reportmemoryexception,269,/var/db/reportmemoryexception\n",
      "_driverkit,270,/var/empty\n"
     ]
    }
   ],
   "source": [
    "# tr: translate\n",
    "# \":\" : from\n",
    "# \",\" : to\n",
    "! tr \":\" \",\" < extracted-data.txt"
   ]
  },
  {
   "cell_type": "code",
   "execution_count": 34,
   "metadata": {},
   "outputs": [],
   "source": [
    "!tr \":\" \",\" < extracted-data.txt > tmp.csv\n",
    "!grep -v \"^#\" tmp.csv > transformed-data.csv\n",
    "!rm tmp.csv"
   ]
  },
  {
   "cell_type": "markdown",
   "metadata": {},
   "source": [
    "### Load the data into the table 'users' in PostgreSQL"
   ]
  },
  {
   "cell_type": "code",
   "execution_count": 49,
   "metadata": {},
   "outputs": [
    {
     "name": "stdout",
     "output_type": "stream",
     "text": [
      "free@192.168.24.254's password: \n"
     ]
    }
   ],
   "source": [
    "# copy to remote server\n",
    "# !scp transformed-data.csv free@192.168.24.254:/home/free"
   ]
  },
  {
   "cell_type": "code",
   "execution_count": 45,
   "metadata": {},
   "outputs": [
    {
     "ename": "InFailedSqlTransaction",
     "evalue": "current transaction is aborted, commands ignored until end of transaction block\n",
     "output_type": "error",
     "traceback": [
      "\u001b[0;31m---------------------------------------------------------------------------\u001b[0m",
      "\u001b[0;31mInFailedSqlTransaction\u001b[0m                    Traceback (most recent call last)",
      "Cell \u001b[0;32mIn[45], line 4\u001b[0m\n\u001b[1;32m      1\u001b[0m sql \u001b[39m=\u001b[39m \u001b[39m'''\u001b[39m\n\u001b[1;32m      2\u001b[0m \u001b[39mselect * from users;\u001b[39m\n\u001b[1;32m      3\u001b[0m \u001b[39m'''\u001b[39m\n\u001b[0;32m----> 4\u001b[0m cur\u001b[39m.\u001b[39;49mexecute(sql)\n\u001b[1;32m      5\u001b[0m all_records \u001b[39m=\u001b[39m cur\u001b[39m.\u001b[39mfetchall()\n\u001b[1;32m      6\u001b[0m all_records\n",
      "\u001b[0;31mInFailedSqlTransaction\u001b[0m: current transaction is aborted, commands ignored until end of transaction block\n"
     ]
    }
   ],
   "source": [
    "sql = '''\n",
    "select * from users;\n",
    "'''\n",
    "cur.execute(sql)\n",
    "all_records = cur.fetchall()\n",
    "all_records"
   ]
  },
  {
   "cell_type": "code",
   "execution_count": 50,
   "metadata": {},
   "outputs": [
    {
     "ename": "UndefinedFile",
     "evalue": "could not open file \"/home/free/transformed-data.csv\" for reading: No such file or directory\nHINT:  COPY FROM instructs the PostgreSQL server process to read a file. You may want a client-side facility such as psql's \\copy.\n",
     "output_type": "error",
     "traceback": [
      "\u001b[0;31m---------------------------------------------------------------------------\u001b[0m",
      "\u001b[0;31mUndefinedFile\u001b[0m                             Traceback (most recent call last)",
      "Cell \u001b[0;32mIn[50], line 17\u001b[0m\n\u001b[1;32m     10\u001b[0m cur \u001b[39m=\u001b[39m conn\u001b[39m.\u001b[39mcursor()\n\u001b[1;32m     11\u001b[0m sql \u001b[39m=\u001b[39m \u001b[39m'''\u001b[39m\n\u001b[1;32m     12\u001b[0m \u001b[39mCOPY users(username, userid, homedirectory) \u001b[39m\n\u001b[1;32m     13\u001b[0m \u001b[39mFROM \u001b[39m\u001b[39m'\u001b[39m\u001b[39m/home/free/transformed-data.csv\u001b[39m\u001b[39m'\u001b[39m\u001b[39m \u001b[39m\n\u001b[1;32m     14\u001b[0m \u001b[39mDELIMITER \u001b[39m\u001b[39m'\u001b[39m\u001b[39m,\u001b[39m\u001b[39m'\u001b[39m\u001b[39m \u001b[39m\n\u001b[1;32m     15\u001b[0m \u001b[39mCSV HEADER;\u001b[39m\n\u001b[1;32m     16\u001b[0m \u001b[39m'''\u001b[39m\n\u001b[0;32m---> 17\u001b[0m cur\u001b[39m.\u001b[39;49mexecute(sql)\n\u001b[1;32m     18\u001b[0m conn\u001b[39m.\u001b[39mcommit()\n",
      "\u001b[0;31mUndefinedFile\u001b[0m: could not open file \"/home/free/transformed-data.csv\" for reading: No such file or directory\nHINT:  COPY FROM instructs the PostgreSQL server process to read a file. You may want a client-side facility such as psql's \\copy.\n"
     ]
    }
   ],
   "source": [
    "POSTGRES_DB_HOST = \"192.168.24.254\"\n",
    "POSTGRES_DB_PORT = \"5432\"\n",
    "\n",
    "conn = psycopg2.connect(host=POSTGRES_DB_HOST, \n",
    "                        port=POSTGRES_DB_PORT,\n",
    "                        database=\"testdb\",\n",
    "                        user=\"admin\", \n",
    "                        password=\"admin\")\n",
    "\n",
    "cur = conn.cursor()\n",
    "sql = '''\n",
    "COPY users(username, userid, homedirectory) \n",
    "FROM '/home/free/transformed-data.csv' \n",
    "DELIMITER ',' \n",
    "CSV HEADER;\n",
    "'''\n",
    "cur.execute(sql)\n",
    "conn.commit()"
   ]
  },
  {
   "cell_type": "code",
   "execution_count": 51,
   "metadata": {},
   "outputs": [],
   "source": [
    "conn.close()"
   ]
  },
  {
   "cell_type": "code",
   "execution_count": null,
   "metadata": {},
   "outputs": [],
   "source": []
  }
 ],
 "metadata": {
  "kernelspec": {
   "display_name": "data-engineering",
   "language": "python",
   "name": "python3"
  },
  "language_info": {
   "codemirror_mode": {
    "name": "ipython",
    "version": 3
   },
   "file_extension": ".py",
   "mimetype": "text/x-python",
   "name": "python",
   "nbconvert_exporter": "python",
   "pygments_lexer": "ipython3",
   "version": "3.9.17"
  },
  "orig_nbformat": 4
 },
 "nbformat": 4,
 "nbformat_minor": 2
}
