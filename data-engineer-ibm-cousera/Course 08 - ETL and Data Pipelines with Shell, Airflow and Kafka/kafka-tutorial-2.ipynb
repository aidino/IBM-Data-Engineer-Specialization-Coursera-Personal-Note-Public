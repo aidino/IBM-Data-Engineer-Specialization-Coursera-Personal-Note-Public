{
 "cells": [
  {
   "cell_type": "markdown",
   "metadata": {},
   "source": [
    "[Source](https://towardsdatascience.com/how-to-build-a-simple-kafka-producer-and-consumer-with-python-a967769c4742)"
   ]
  },
  {
   "cell_type": "code",
   "execution_count": 14,
   "metadata": {},
   "outputs": [],
   "source": [
    "from confluent_kafka import Producer\n",
    "from faker import Faker\n",
    "import random\n",
    "import json\n",
    "import time\n",
    "import logging\n",
    "\n",
    "faker = Faker()"
   ]
  },
  {
   "cell_type": "code",
   "execution_count": 15,
   "metadata": {},
   "outputs": [],
   "source": [
    "logging.basicConfig(format='%(asctime)s %(message)s',\n",
    "                    datefmt='%Y-%m-%d %H:%M:%S',\n",
    "                    filename='producer.log',\n",
    "                    filemode='w')\n",
    "\n",
    "logger = logging.getLogger()\n",
    "logger.setLevel(logging.INFO)"
   ]
  },
  {
   "cell_type": "markdown",
   "metadata": {},
   "source": [
    "## Build Kafka Producer"
   ]
  },
  {
   "cell_type": "code",
   "execution_count": 16,
   "metadata": {},
   "outputs": [
    {
     "name": "stdout",
     "output_type": "stream",
     "text": [
      "Kafka Producer has been initiated...\n"
     ]
    }
   ],
   "source": [
    "# create the producer by specifying the port of your Kafka cluster\n",
    "\n",
    "producer = Producer({'bootstrap.servers': '192.168.24.254:9092'})\n",
    "print('Kafka Producer has been initiated...')"
   ]
  },
  {
   "cell_type": "code",
   "execution_count": 17,
   "metadata": {},
   "outputs": [],
   "source": [
    "# Define a callback function that takes care of acknowledging new messages or errors.\n",
    "def receipt(err,msg):\n",
    "    if err is not None:\n",
    "        print('Error: {}'.format(err))\n",
    "    else:\n",
    "        message = 'Produced message on topic {} with value of {} \\n'.format(msg.topic(), msg.value().decode('utf-8'))\n",
    "        logger.info(message)\n",
    "        print(message)"
   ]
  },
  {
   "cell_type": "code",
   "execution_count": 21,
   "metadata": {},
   "outputs": [
    {
     "name": "stdout",
     "output_type": "stream",
     "text": [
      "Produced message on topic user-tracker with value of {\"user_id\": 74844, \"user_name\": \"Mr. Jeffrey Mullins\", \"user_address\": \"8338 Christine Motorway Apt. 094 | East Brittneyville | KI\", \"platform\": \"Mobile\", \"signup_at\": \"2023-07-16 13:37:34\"}\n",
      "\n",
      "Produced message on topic user-tracker with value of {\"user_id\": 36918, \"user_name\": \"Alejandra Murray\", \"user_address\": \"626 Perry Meadow Suite 585 | Kyleborough | UZ\", \"platform\": \"Tablet\", \"signup_at\": \"2023-07-20 04:09:22\"}\n",
      "\n",
      "Produced message on topic user-tracker with value of {\"user_id\": 65544, \"user_name\": \"Rebecca Blanchard\", \"user_address\": \"7993 Jones Rapid | Tiffanyfurt | TH\", \"platform\": \"Tablet\", \"signup_at\": \"2023-07-14 05:49:56\"}\n",
      "\n",
      "Produced message on topic user-tracker with value of {\"user_id\": 50172, \"user_name\": \"Brian Mcneil\", \"user_address\": \"2827 Robertson Roads Suite 873 | West Allisonside | PS\", \"platform\": \"Laptop\", \"signup_at\": \"2023-07-03 02:45:41\"}\n",
      "\n",
      "Produced message on topic user-tracker with value of {\"user_id\": 64138, \"user_name\": \"Brad Kelly\", \"user_address\": \"252 Smith Street Suite 631 | East Joycemouth | AE\", \"platform\": \"Laptop\", \"signup_at\": \"2023-07-03 18:35:34\"}\n",
      "\n",
      "Produced message on topic user-tracker with value of {\"user_id\": 93488, \"user_name\": \"Janice Davis\", \"user_address\": \"209 Flores Fork Apt. 773 | North Rodney | KR\", \"platform\": \"Tablet\", \"signup_at\": \"2023-07-06 02:22:40\"}\n",
      "\n",
      "Produced message on topic user-tracker with value of {\"user_id\": 40692, \"user_name\": \"James Davidson\", \"user_address\": \"43138 Tonya Neck | Freemanchester | CN\", \"platform\": \"Laptop\", \"signup_at\": \"2023-07-15 23:09:43\"}\n",
      "\n",
      "Produced message on topic user-tracker with value of {\"user_id\": 58882, \"user_name\": \"Emily Clark\", \"user_address\": \"130 Aguilar Loaf | Johnburgh | TZ\", \"platform\": \"Mobile\", \"signup_at\": \"2023-07-15 07:34:35\"}\n",
      "\n",
      "Produced message on topic user-tracker with value of {\"user_id\": 80412, \"user_name\": \"Audrey Peterson\", \"user_address\": \"37488 Barry Row | Port Tinamouth | UA\", \"platform\": \"Mobile\", \"signup_at\": \"2023-07-01 11:49:52\"}\n",
      "\n",
      "Produced message on topic user-tracker with value of {\"user_id\": 73573, \"user_name\": \"John Martinez\", \"user_address\": \"1700 Henry Walk Apt. 843 | South Tracychester | UZ\", \"platform\": \"Laptop\", \"signup_at\": \"2023-07-04 10:56:31\"}\n",
      "\n"
     ]
    }
   ],
   "source": [
    "for i in range(10):\n",
    "    data={\n",
    "        'user_id': faker.random_int(min=20000, max=100000),\n",
    "        'user_name':faker.name(),\n",
    "        'user_address':faker.street_address() + ' | ' + faker.city() + ' | ' + faker.country_code(),\n",
    "        'platform': random.choice(['Mobile', 'Laptop', 'Tablet']),\n",
    "        'signup_at': str(faker.date_time_this_month())    \n",
    "    }\n",
    "    m=json.dumps(data)\n",
    "    producer.poll(1)\n",
    "    producer.produce('user-tracker', m.encode('utf-8'),callback=receipt)\n",
    "    producer.flush()\n",
    "    time.sleep(3)"
   ]
  },
  {
   "cell_type": "markdown",
   "metadata": {},
   "source": [
    "## Build Kafka Consumer"
   ]
  },
  {
   "cell_type": "code",
   "execution_count": 22,
   "metadata": {},
   "outputs": [
    {
     "name": "stdout",
     "output_type": "stream",
     "text": [
      "Kafka Consumer has been initiated...\n"
     ]
    }
   ],
   "source": [
    "from confluent_kafka import Consumer\n",
    "################\n",
    "consumer=Consumer({'bootstrap.servers':'192.168.24.254:9092','group.id':'python-consumer','auto.offset.reset':'earliest'})\n",
    "print('Kafka Consumer has been initiated...')"
   ]
  },
  {
   "cell_type": "code",
   "execution_count": 24,
   "metadata": {},
   "outputs": [
    {
     "name": "stdout",
     "output_type": "stream",
     "text": [
      "Available topics to consume:  {'SomeTopic': TopicMetadata(SomeTopic, 1 partitions), 'test_topic': TopicMetadata(test_topic, 1 partitions), 'user-tracker': TopicMetadata(user-tracker, 1 partitions), '__consumer_offsets': TopicMetadata(__consumer_offsets, 50 partitions)}\n"
     ]
    }
   ],
   "source": [
    "print('Available topics to consume: ', consumer.list_topics().topics)\n",
    "consumer.subscribe(['user-tracker'])"
   ]
  },
  {
   "cell_type": "code",
   "execution_count": null,
   "metadata": {},
   "outputs": [],
   "source": [
    "while True:\n",
    "    msg=consumer.poll(1.0) #timeout\n",
    "    if msg is None:\n",
    "        continue\n",
    "    if msg.error():\n",
    "        print('Error: {}'.format(msg.error()))\n",
    "        continue\n",
    "    data=msg.value().decode('utf-8')\n",
    "    print(data)\n",
    "consumer.close()"
   ]
  },
  {
   "cell_type": "code",
   "execution_count": 28,
   "metadata": {},
   "outputs": [
    {
     "name": "stderr",
     "output_type": "stream",
     "text": [
      "%4|1689828648.002|SESSTMOUT|rdkafka#consumer-2| [thrd:main]: Consumer group session timed out (in join-state steady) after 207415 ms without a successful response from the group coordinator (broker 1, last error was Success): revoking assignment and rejoining group\n",
      "%5|1689828648.002|REQTMOUT|rdkafka#consumer-2| [thrd:192.168.24.254:9092/bootstrap]: 192.168.24.254:9092/1: Timed out FetchRequest in flight (after 206186ms, timeout #0)\n",
      "%4|1689828648.002|REQTMOUT|rdkafka#consumer-2| [thrd:192.168.24.254:9092/bootstrap]: 192.168.24.254:9092/1: Timed out 1 in-flight, 0 retry-queued, 0 out-queue, 0 partially-sent requests\n",
      "%3|1689828648.002|FAIL|rdkafka#consumer-2| [thrd:192.168.24.254:9092/bootstrap]: 192.168.24.254:9092/1: 1 request(s) timed out: disconnect (after 2445641ms in state UP)\n",
      "%3|1689828649.638|FAIL|rdkafka#consumer-2| [thrd:192.168.24.254:9092/bootstrap]: 192.168.24.254:9092/1: Failed to connect to broker at 192.168.24.254:9092: Network is down (after 1635ms in state CONNECT)\n",
      "%4|1689829019.002|SESSTMOUT|rdkafka#consumer-2| [thrd:main]: Consumer group session timed out (in join-state steady) after 93521 ms without a successful response from the group coordinator (broker 1, last error was Success): revoking assignment and rejoining group\n",
      "%5|1689829019.002|REQTMOUT|rdkafka#consumer-2| [thrd:192.168.24.254:9092/bootstrap]: 192.168.24.254:9092/1: Timed out FetchRequest in flight (after 91276ms, timeout #0)\n",
      "%4|1689829019.002|REQTMOUT|rdkafka#consumer-2| [thrd:192.168.24.254:9092/bootstrap]: 192.168.24.254:9092/1: Timed out 1 in-flight, 0 retry-queued, 0 out-queue, 0 partially-sent requests\n",
      "%3|1689829019.002|FAIL|rdkafka#consumer-2| [thrd:192.168.24.254:9092/bootstrap]: 192.168.24.254:9092/1: 1 request(s) timed out: disconnect (after 369107ms in state UP)\n",
      "%3|1689829019.523|FAIL|rdkafka#consumer-2| [thrd:192.168.24.254:9092/bootstrap]: 192.168.24.254:9092/1: Failed to connect to broker at 192.168.24.254:9092: Network is down (after 521ms in state CONNECT)\n",
      "%3|1689829020.526|FAIL|rdkafka#consumer-2| [thrd:192.168.24.254:9092/bootstrap]: 192.168.24.254:9092/1: Failed to connect to broker at 192.168.24.254:9092: Network is unreachable (after 1ms in state CONNECT)\n",
      "%3|1689829021.530|FAIL|rdkafka#consumer-2| [thrd:192.168.24.254:9092/bootstrap]: 192.168.24.254:9092/1: Failed to connect to broker at 192.168.24.254:9092: Network is unreachable (after 0ms in state CONNECT, 1 identical error(s) suppressed)\n",
      "%4|1689829720.003|SESSTMOUT|rdkafka#consumer-2| [thrd:main]: Consumer group session timed out (in join-state steady) after 644632 ms without a successful response from the group coordinator (broker 1, last error was Success): revoking assignment and rejoining group\n",
      "%5|1689829720.003|REQTMOUT|rdkafka#consumer-2| [thrd:192.168.24.254:9092/bootstrap]: 192.168.24.254:9092/1: Timed out FetchRequest in flight (after 644221ms, timeout #0)\n",
      "%4|1689829720.003|REQTMOUT|rdkafka#consumer-2| [thrd:192.168.24.254:9092/bootstrap]: 192.168.24.254:9092/1: Timed out 1 in-flight, 0 retry-queued, 0 out-queue, 0 partially-sent requests\n",
      "%3|1689829720.003|FAIL|rdkafka#consumer-2| [thrd:192.168.24.254:9092/bootstrap]: 192.168.24.254:9092/1: 1 request(s) timed out: disconnect (after 696003ms in state UP)\n",
      "%3|1689829720.586|FAIL|rdkafka#consumer-2| [thrd:192.168.24.254:9092/bootstrap]: 192.168.24.254:9092/1: Failed to connect to broker at 192.168.24.254:9092: Network is down (after 583ms in state CONNECT)\n",
      "%4|1689829720.856|FAIL|rdkafka#consumer-2| [thrd:GroupCoordinator]: GroupCoordinator: 192.168.24.254:9092: Disconnected (after 3516473ms in state UP)\n",
      "%6|1689829720.856|FAIL|rdkafka#producer-4| [thrd:192.168.24.254:9092/bootstrap]: 192.168.24.254:9092/1: Disconnected (after 2742124ms in state UP)\n",
      "%4|1689830170.002|SESSTMOUT|rdkafka#consumer-2| [thrd:main]: Consumer group session timed out (in join-state steady) after 402456 ms without a successful response from the group coordinator (broker 1, last error was Success): revoking assignment and rejoining group\n",
      "%5|1689830170.002|REQTMOUT|rdkafka#consumer-2| [thrd:192.168.24.254:9092/bootstrap]: 192.168.24.254:9092/1: Timed out FetchRequest in flight (after 402453ms, timeout #0)\n",
      "%4|1689830170.003|REQTMOUT|rdkafka#consumer-2| [thrd:192.168.24.254:9092/bootstrap]: 192.168.24.254:9092/1: Timed out 1 in-flight, 0 retry-queued, 0 out-queue, 0 partially-sent requests\n",
      "%3|1689830170.003|FAIL|rdkafka#consumer-2| [thrd:192.168.24.254:9092/bootstrap]: 192.168.24.254:9092/1: 1 request(s) timed out: disconnect (after 448009ms in state UP)\n",
      "%3|1689830170.535|FAIL|rdkafka#consumer-2| [thrd:192.168.24.254:9092/bootstrap]: 192.168.24.254:9092/1: Failed to connect to broker at 192.168.24.254:9092: Network is down (after 532ms in state CONNECT)\n",
      "%3|1689830171.537|FAIL|rdkafka#consumer-2| [thrd:192.168.24.254:9092/bootstrap]: 192.168.24.254:9092/1: Failed to connect to broker at 192.168.24.254:9092: Network is unreachable (after 0ms in state CONNECT)\n",
      "%3|1689830172.538|FAIL|rdkafka#consumer-2| [thrd:192.168.24.254:9092/bootstrap]: 192.168.24.254:9092/1: Failed to connect to broker at 192.168.24.254:9092: Network is unreachable (after 0ms in state CONNECT, 1 identical error(s) suppressed)\n",
      "%4|1689830370.003|SESSTMOUT|rdkafka#consumer-2| [thrd:main]: Consumer group session timed out (in join-state steady) after 152392 ms without a successful response from the group coordinator (broker 1, last error was Success): revoking assignment and rejoining group\n",
      "%5|1689830370.003|REQTMOUT|rdkafka#consumer-2| [thrd:192.168.24.254:9092/bootstrap]: 192.168.24.254:9092/1: Timed out FetchRequest in flight (after 152390ms, timeout #0)\n",
      "%4|1689830370.003|REQTMOUT|rdkafka#consumer-2| [thrd:192.168.24.254:9092/bootstrap]: 192.168.24.254:9092/1: Timed out 1 in-flight, 0 retry-queued, 0 out-queue, 0 partially-sent requests\n",
      "%3|1689830370.003|FAIL|rdkafka#consumer-2| [thrd:192.168.24.254:9092/bootstrap]: 192.168.24.254:9092/1: 1 request(s) timed out: disconnect (after 195059ms in state UP)\n",
      "%3|1689830370.555|FAIL|rdkafka#consumer-2| [thrd:192.168.24.254:9092/bootstrap]: 192.168.24.254:9092/1: Failed to connect to broker at 192.168.24.254:9092: Network is down (after 551ms in state CONNECT)\n",
      "%4|1689830512.002|SESSTMOUT|rdkafka#consumer-2| [thrd:main]: Consumer group session timed out (in join-state steady) after 88171 ms without a successful response from the group coordinator (broker 1, last error was Success): revoking assignment and rejoining group\n",
      "%5|1689830512.002|REQTMOUT|rdkafka#consumer-2| [thrd:192.168.24.254:9092/bootstrap]: 192.168.24.254:9092/1: Timed out FetchRequest in flight (after 88377ms, timeout #0)\n",
      "%4|1689830512.002|REQTMOUT|rdkafka#consumer-2| [thrd:192.168.24.254:9092/bootstrap]: 192.168.24.254:9092/1: Timed out 1 in-flight, 0 retry-queued, 0 out-queue, 0 partially-sent requests\n",
      "%3|1689830512.002|FAIL|rdkafka#consumer-2| [thrd:192.168.24.254:9092/bootstrap]: 192.168.24.254:9092/1: 1 request(s) timed out: disconnect (after 139718ms in state UP)\n",
      "%3|1689830512.536|FAIL|rdkafka#consumer-2| [thrd:192.168.24.254:9092/bootstrap]: 192.168.24.254:9092/1: Failed to connect to broker at 192.168.24.254:9092: Network is down (after 534ms in state CONNECT)\n",
      "%3|1689830513.542|FAIL|rdkafka#consumer-2| [thrd:192.168.24.254:9092/bootstrap]: 192.168.24.254:9092/1: Failed to connect to broker at 192.168.24.254:9092: Network is unreachable (after 1ms in state CONNECT)\n",
      "%3|1689830514.545|FAIL|rdkafka#consumer-2| [thrd:192.168.24.254:9092/bootstrap]: 192.168.24.254:9092/1: Failed to connect to broker at 192.168.24.254:9092: Network is unreachable (after 0ms in state CONNECT, 1 identical error(s) suppressed)\n",
      "%4|1689830619.158|SESSTMOUT|rdkafka#consumer-2| [thrd:main]: Consumer group session timed out (in join-state steady) after 45304 ms without a successful response from the group coordinator (broker 1, last error was Success): revoking assignment and rejoining group\n",
      "%4|1689831073.002|SESSTMOUT|rdkafka#consumer-2| [thrd:main]: Consumer group session timed out (in join-state steady) after 429335 ms without a successful response from the group coordinator (broker 1, last error was Success): revoking assignment and rejoining group\n",
      "%5|1689831073.002|REQTMOUT|rdkafka#consumer-2| [thrd:192.168.24.254:9092/bootstrap]: 192.168.24.254:9092/1: Timed out FetchRequest in flight (after 429130ms, timeout #0)\n",
      "%4|1689831073.002|REQTMOUT|rdkafka#consumer-2| [thrd:192.168.24.254:9092/bootstrap]: 192.168.24.254:9092/1: Timed out 1 in-flight, 0 retry-queued, 0 out-queue, 0 partially-sent requests\n",
      "%3|1689831073.002|FAIL|rdkafka#consumer-2| [thrd:192.168.24.254:9092/bootstrap]: 192.168.24.254:9092/1: 1 request(s) timed out: disconnect (after 544557ms in state UP)\n",
      "%3|1689831073.557|FAIL|rdkafka#consumer-2| [thrd:192.168.24.254:9092/bootstrap]: 192.168.24.254:9092/1: Failed to connect to broker at 192.168.24.254:9092: Network is down (after 555ms in state CONNECT)\n",
      "%3|1689831074.567|FAIL|rdkafka#consumer-2| [thrd:192.168.24.254:9092/bootstrap]: 192.168.24.254:9092/1: Failed to connect to broker at 192.168.24.254:9092: Network is unreachable (after 0ms in state CONNECT)\n",
      "%3|1689831075.568|FAIL|rdkafka#consumer-2| [thrd:192.168.24.254:9092/bootstrap]: 192.168.24.254:9092/1: Failed to connect to broker at 192.168.24.254:9092: Network is unreachable (after 0ms in state CONNECT, 1 identical error(s) suppressed)\n",
      "%4|1689831322.002|SESSTMOUT|rdkafka#consumer-2| [thrd:main]: Consumer group session timed out (in join-state steady) after 134817 ms without a successful response from the group coordinator (broker 1, last error was Success): revoking assignment and rejoining group\n",
      "%5|1689831322.002|REQTMOUT|rdkafka#consumer-2| [thrd:192.168.24.254:9092/bootstrap]: 192.168.24.254:9092/1: Timed out FetchRequest in flight (after 134195ms, timeout #0)\n",
      "%4|1689831322.002|REQTMOUT|rdkafka#consumer-2| [thrd:192.168.24.254:9092/bootstrap]: 192.168.24.254:9092/1: Timed out 1 in-flight, 0 retry-queued, 0 out-queue, 0 partially-sent requests\n",
      "%3|1689831322.002|FAIL|rdkafka#consumer-2| [thrd:192.168.24.254:9092/bootstrap]: 192.168.24.254:9092/1: 1 request(s) timed out: disconnect (after 244257ms in state UP)\n",
      "%3|1689831323.457|FAIL|rdkafka#consumer-2| [thrd:192.168.24.254:9092/bootstrap]: 192.168.24.254:9092/1: Failed to connect to broker at 192.168.24.254:9092: Network is down (after 1454ms in state CONNECT)\n",
      "%5|1689832248.004|REQTMOUT|rdkafka#consumer-2| [thrd:192.168.24.254:9092/bootstrap]: 192.168.24.254:9092/1: Timed out FetchRequest in flight (after 812733ms, timeout #0)\n",
      "%4|1689832248.004|REQTMOUT|rdkafka#consumer-2| [thrd:192.168.24.254:9092/bootstrap]: 192.168.24.254:9092/1: Timed out 1 in-flight, 0 retry-queued, 0 out-queue, 0 partially-sent requests\n",
      "%3|1689832248.004|FAIL|rdkafka#consumer-2| [thrd:192.168.24.254:9092/bootstrap]: 192.168.24.254:9092/1: 1 request(s) timed out: disconnect (after 921449ms in state UP)\n",
      "%4|1689832248.004|SESSTMOUT|rdkafka#consumer-2| [thrd:main]: Consumer group session timed out (in join-state steady) after 812631 ms without a successful response from the group coordinator (broker 1, last error was Success): revoking assignment and rejoining group\n",
      "%3|1689832248.622|FAIL|rdkafka#consumer-2| [thrd:192.168.24.254:9092/bootstrap]: 192.168.24.254:9092/1: Failed to connect to broker at 192.168.24.254:9092: Network is down (after 617ms in state CONNECT)\n",
      "%4|1689832251.245|FAIL|rdkafka#consumer-2| [thrd:GroupCoordinator]: GroupCoordinator: 192.168.24.254:9092: Disconnected (after 2530352ms in state UP, 1 identical error(s) suppressed)\n",
      "%6|1689832251.245|FAIL|rdkafka#producer-4| [thrd:192.168.24.254:9092/bootstrap]: 192.168.24.254:9092/1: Disconnected (after 2530352ms in state UP, 1 identical error(s) suppressed)\n",
      "%4|1689832491.002|SESSTMOUT|rdkafka#consumer-2| [thrd:main]: Consumer group session timed out (in join-state steady) after 196766 ms without a successful response from the group coordinator (broker 1, last error was Success): revoking assignment and rejoining group\n",
      "%5|1689832491.002|REQTMOUT|rdkafka#consumer-2| [thrd:192.168.24.254:9092/bootstrap]: 192.168.24.254:9092/1: Timed out FetchRequest in flight (after 195127ms, timeout #0)\n",
      "%4|1689832491.002|REQTMOUT|rdkafka#consumer-2| [thrd:192.168.24.254:9092/bootstrap]: 192.168.24.254:9092/1: Timed out 1 in-flight, 0 retry-queued, 0 out-queue, 0 partially-sent requests\n",
      "%3|1689832491.002|FAIL|rdkafka#consumer-2| [thrd:192.168.24.254:9092/bootstrap]: 192.168.24.254:9092/1: 1 request(s) timed out: disconnect (after 239735ms in state UP)\n",
      "%3|1689832491.523|FAIL|rdkafka#consumer-2| [thrd:192.168.24.254:9092/bootstrap]: 192.168.24.254:9092/1: Failed to connect to broker at 192.168.24.254:9092: Network is down (after 521ms in state CONNECT)\n",
      "%4|1689832590.026|SESSTMOUT|rdkafka#consumer-2| [thrd:main]: Consumer group session timed out (in join-state steady) after 45241 ms without a successful response from the group coordinator (broker 1, last error was Success): revoking assignment and rejoining group\n",
      "%4|1689832774.001|SESSTMOUT|rdkafka#consumer-2| [thrd:main]: Consumer group session timed out (in join-state steady) after 48406 ms without a successful response from the group coordinator (broker 1, last error was Success): revoking assignment and rejoining group\n",
      "%4|1689833566.003|SESSTMOUT|rdkafka#consumer-2| [thrd:main]: Consumer group session timed out (in join-state steady) after 486301 ms without a successful response from the group coordinator (broker 1, last error was Success): revoking assignment and rejoining group\n",
      "%5|1689833566.003|REQTMOUT|rdkafka#consumer-2| [thrd:192.168.24.254:9092/bootstrap]: 192.168.24.254:9092/1: Timed out FetchRequest in flight (after 484255ms, timeout #0)\n",
      "%4|1689833566.003|REQTMOUT|rdkafka#consumer-2| [thrd:192.168.24.254:9092/bootstrap]: 192.168.24.254:9092/1: Timed out 1 in-flight, 0 retry-queued, 0 out-queue, 0 partially-sent requests\n",
      "%3|1689833566.003|FAIL|rdkafka#consumer-2| [thrd:192.168.24.254:9092/bootstrap]: 192.168.24.254:9092/1: 1 request(s) timed out: disconnect (after 1069737ms in state UP)\n",
      "%3|1689833566.839|FAIL|rdkafka#consumer-2| [thrd:192.168.24.254:9092/bootstrap]: 192.168.24.254:9092/1: Failed to connect to broker at 192.168.24.254:9092: Network is down (after 836ms in state CONNECT)\n",
      "%6|1689833566.845|FAIL|rdkafka#producer-4| [thrd:192.168.24.254:9092/bootstrap]: 192.168.24.254:9092/1: Disconnected (after 1314478ms in state UP, 1 identical error(s) suppressed)\n"
     ]
    }
   ],
   "source": [
    "consumer.close()"
   ]
  },
  {
   "cell_type": "code",
   "execution_count": null,
   "metadata": {},
   "outputs": [],
   "source": []
  }
 ],
 "metadata": {
  "kernelspec": {
   "display_name": "data-engineering",
   "language": "python",
   "name": "python3"
  },
  "language_info": {
   "codemirror_mode": {
    "name": "ipython",
    "version": 3
   },
   "file_extension": ".py",
   "mimetype": "text/x-python",
   "name": "python",
   "nbconvert_exporter": "python",
   "pygments_lexer": "ipython3",
   "version": "3.9.17"
  },
  "orig_nbformat": 4
 },
 "nbformat": 4,
 "nbformat_minor": 2
}
