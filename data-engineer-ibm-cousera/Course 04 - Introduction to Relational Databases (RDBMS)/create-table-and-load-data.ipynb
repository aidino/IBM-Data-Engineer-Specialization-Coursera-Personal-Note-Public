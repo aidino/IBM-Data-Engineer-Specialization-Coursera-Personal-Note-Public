{
 "cells": [
  {
   "cell_type": "markdown",
   "metadata": {},
   "source": [
    "# Create table and loading data"
   ]
  },
  {
   "cell_type": "code",
   "execution_count": 2,
   "metadata": {},
   "outputs": [],
   "source": [
    "#!pip install psycopg2-binary\n",
    "import psycopg2\n",
    "\n",
    "POSTGRES_DB_HOST = \"192.168.24.254\"\n",
    "POSTGRES_DB_PORT = \"5432\"\n",
    "\n",
    "conn = psycopg2.connect(host=POSTGRES_DB_HOST, \n",
    "                        port=POSTGRES_DB_PORT,\n",
    "                        user=\"admin\", \n",
    "                        password=\"admin\")"
   ]
  },
  {
   "cell_type": "code",
   "execution_count": 4,
   "metadata": {},
   "outputs": [
    {
     "name": "stdout",
     "output_type": "stream",
     "text": [
      "<connection object at 0x7f90825dd190; dsn: 'user=admin password=xxx host=192.168.24.254 port=5432', closed: 0>\n"
     ]
    }
   ],
   "source": [
    "print(conn)"
   ]
  },
  {
   "cell_type": "markdown",
   "metadata": {},
   "source": [
    "### Create Database"
   ]
  },
  {
   "cell_type": "code",
   "execution_count": 5,
   "metadata": {},
   "outputs": [],
   "source": [
    "conn.autocommit = True"
   ]
  },
  {
   "cell_type": "code",
   "execution_count": 6,
   "metadata": {},
   "outputs": [
    {
     "name": "stdout",
     "output_type": "stream",
     "text": [
      "Database created successfully........\n"
     ]
    }
   ],
   "source": [
    "cur = conn.cursor()\n",
    "sql = '''\n",
    "CREATE database testdb\n",
    "'''\n",
    "\n",
    "cur.execute(sql)\n",
    "print(\"Database created successfully........\")\n",
    "\n",
    "conn.close()"
   ]
  },
  {
   "cell_type": "markdown",
   "metadata": {},
   "source": [
    "### Create table"
   ]
  },
  {
   "cell_type": "code",
   "execution_count": 8,
   "metadata": {},
   "outputs": [],
   "source": [
    "conn = psycopg2.connect(host=POSTGRES_DB_HOST,\n",
    "                        port=POSTGRES_DB_PORT,\n",
    "                        database=\"testdb\",\n",
    "                        user=\"admin\",\n",
    "                        password=\"admin\")\n",
    "\n",
    "conn.autocommit = True\n",
    "\n",
    "cur = conn.cursor()\n",
    "\n",
    "# Create and insert data from BookShop-CREATE-INSERT.sql\n",
    "cur.execute(open(\"BookShop-CREATE-INSERT.sql\", \"r\").read())\n"
   ]
  },
  {
   "cell_type": "code",
   "execution_count": 17,
   "metadata": {},
   "outputs": [],
   "source": [
    "# Create petshop\n",
    "conn.close()\n",
    "\n",
    "conn = psycopg2.connect(host=POSTGRES_DB_HOST,\n",
    "                        port=POSTGRES_DB_PORT,\n",
    "                        database=\"testdb\",\n",
    "                        user=\"admin\",\n",
    "                        password=\"admin\")\n",
    "\n",
    "conn.autocommit = True\n",
    "\n",
    "cur = conn.cursor()\n",
    "\n",
    "cur.execute(open(\"PetShop.sql\", \"r\").read())"
   ]
  },
  {
   "cell_type": "code",
   "execution_count": 18,
   "metadata": {},
   "outputs": [
    {
     "data": {
      "text/plain": [
       "[]"
      ]
     },
     "execution_count": 18,
     "metadata": {},
     "output_type": "execute_result"
    }
   ],
   "source": [
    "cur.execute(\"SELECT * FROM PetShop\")\n",
    "all_petshops = cur.fetchall()\n",
    "all_petshops"
   ]
  },
  {
   "cell_type": "code",
   "execution_count": 21,
   "metadata": {},
   "outputs": [
    {
     "name": "stdout",
     "output_type": "stream",
     "text": [
      "['1', 'Cat', '450.09', '2018-05-29', '9']\n",
      "['2', 'Dog', '666.66', '2018-06-01', '3']\n",
      "['3', 'Parrot', '50.00', '2018-06-04', '2']\n",
      "['4', 'Hamster', '60.60', '2018-06-11', '6']\n",
      "['5', 'Goldfish', '48.48', '2018-06-14', '24']\n"
     ]
    }
   ],
   "source": [
    "# Insert to PetShop from PETSHOP.csv \n",
    "import csv\n",
    "data = csv.reader(open(\"PETSHOP.csv\", \"r\"), delimiter=\",\")\n",
    "next(data)\n",
    "for row in data:\n",
    "    print(row)\n",
    "    cur.execute(\"INSERT INTO PetShop VALUES (%s, %s, %s, %s, %s)\", row) "
   ]
  },
  {
   "cell_type": "code",
   "execution_count": 22,
   "metadata": {},
   "outputs": [
    {
     "data": {
      "text/plain": [
       "[(1, 'Cat', Decimal('450.09'), datetime.date(2018, 5, 29), 9),\n",
       " (2, 'Dog', Decimal('666.66'), datetime.date(2018, 6, 1), 3),\n",
       " (3, 'Parrot', Decimal('50.00'), datetime.date(2018, 6, 4), 2),\n",
       " (4, 'Hamster', Decimal('60.60'), datetime.date(2018, 6, 11), 6),\n",
       " (5, 'Goldfish', Decimal('48.48'), datetime.date(2018, 6, 14), 24)]"
      ]
     },
     "execution_count": 22,
     "metadata": {},
     "output_type": "execute_result"
    }
   ],
   "source": [
    "cur.execute(\"SELECT * FROM PetShop\")\n",
    "all_petshops = cur.fetchall()\n",
    "all_petshops"
   ]
  },
  {
   "cell_type": "code",
   "execution_count": null,
   "metadata": {},
   "outputs": [],
   "source": []
  }
 ],
 "metadata": {
  "kernelspec": {
   "display_name": "data-engineering",
   "language": "python",
   "name": "python3"
  },
  "language_info": {
   "codemirror_mode": {
    "name": "ipython",
    "version": 3
   },
   "file_extension": ".py",
   "mimetype": "text/x-python",
   "name": "python",
   "nbconvert_exporter": "python",
   "pygments_lexer": "ipython3",
   "version": "3.9.17"
  },
  "orig_nbformat": 4
 },
 "nbformat": 4,
 "nbformat_minor": 2
}
