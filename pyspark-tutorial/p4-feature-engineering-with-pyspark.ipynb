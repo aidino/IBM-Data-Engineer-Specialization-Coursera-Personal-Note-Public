{
 "cells": [
  {
   "cell_type": "markdown",
   "metadata": {},
   "source": [
    "# Feature Engineering with PySpark"
   ]
  },
  {
   "cell_type": "markdown",
   "metadata": {},
   "source": [
    "## Exploratory data analysis"
   ]
  },
  {
   "cell_type": "code",
   "execution_count": 2,
   "metadata": {},
   "outputs": [
    {
     "name": "stdout",
     "output_type": "stream",
     "text": [
      "Spark version: 3.4.1\n",
      "system version: sys.version_info(major=3, minor=9, micro=17, releaselevel='final', serial=0)\n"
     ]
    },
    {
     "name": "stderr",
     "output_type": "stream",
     "text": [
      "23/08/08 08:53:17 WARN SparkSession: Using an existing Spark session; only runtime SQL configurations will take effect.\n"
     ]
    }
   ],
   "source": [
    "# Import libraries\n",
    "import sys\n",
    "from pyspark.sql import SparkSession\n",
    "\n",
    "spark = SparkSession.\\\n",
    "        builder.\\\n",
    "        appName('p4-feature-engineering-with-pyspark').\\\n",
    "        config('spark.local.ip', '192.168.157.254').\\\n",
    "        getOrCreate()\n",
    "print(f'Spark version: {spark.version}')\n",
    "print(f'system version: {sys.version_info}')"
   ]
  },
  {
   "cell_type": "code",
   "execution_count": 3,
   "metadata": {},
   "outputs": [
    {
     "name": "stderr",
     "output_type": "stream",
     "text": [
      "23/08/08 08:53:24 WARN package: Truncated the string representation of a plan since it was too large. This behavior can be adjusted by setting 'spark.sql.debug.maxToStringFields'.\n"
     ]
    },
    {
     "name": "stdout",
     "output_type": "stream",
     "text": [
      "+---+-----+-------------------+--------------------+----------+----------+---------------+----------------+---------------+--------------+---------+---------------+-----------------+------------+--------------+----------+---------+-----------------+--------------------+------------+---------------+----------+---------+--------------------+--------------------+----------+------------------+---------------+----+--------------------+---------------+-----+----------+---------+------------------+-------+----------+----------+---------+------------------+--------------------+-----+------------------+--------------------+----------------+--------------+---------+------------+----------+----------+---------+---------------------+--------------------+---------+---------+-----------+-----------------+-----+----------+--------------------+---------+----------+---------+----------+---------+----------+---------+----------+--------+---------------+-----------------+--------------+-----------------+-----------------+\n",
      "|No.|MLSID|StreetNumberNumeric|       streetaddress|STREETNAME|PostalCode|StateOrProvince|            City|SalesClosePrice|      LISTDATE|LISTPRICE|       LISTTYPE|OriginalListPrice|PricePerTSFT|FOUNDATIONSIZE|     FENCE|MapLetter|LotSizeDimensions|SchoolDistrictNumber|DAYSONMARKET|  offmarketdate|Fireplaces|RoomArea4|            roomtype|                ROOF|RoomFloor4|PotentialShortSale|PoolDescription|PDOM|   GarageDescription|SQFTABOVEGROUND|Taxes|RoomFloor1|RoomArea1|TAXWITHASSESSMENTS|TAXYEAR|LivingArea|UNITNUMBER|YEARBUILT|            ZONING|               STYLE|ACRES|CoolingDescription|          APPLIANCES|backonmarketdate|ROOMFAMILYCHAR|RoomArea3|    EXTERIOR|RoomFloor3|RoomFloor2|RoomArea2|DiningRoomDescription|            BASEMENT|BathsFull|BathsHalf|BATHQUARTER|BATHSTHREEQUARTER|Class|BATHSTOTAL|            BATHDESC|RoomArea5|RoomFloor5|RoomArea6|RoomFloor6|RoomArea7|RoomFloor7|RoomArea8|RoomFloor8|Bedrooms|SQFTBELOWGROUND|AssumableMortgage|AssociationFee|ASSESSMENTPENDING|AssessedValuation|\n",
      "+---+-----+-------------------+--------------------+----------+----------+---------------+----------------+---------------+--------------+---------+---------------+-----------------+------------+--------------+----------+---------+-----------------+--------------------+------------+---------------+----------+---------+--------------------+--------------------+----------+------------------+---------------+----+--------------------+---------------+-----+----------+---------+------------------+-------+----------+----------+---------+------------------+--------------------+-----+------------------+--------------------+----------------+--------------+---------+------------+----------+----------+---------+---------------------+--------------------+---------+---------+-----------+-----------------+-----+----------+--------------------+---------+----------+---------+----------+---------+----------+---------+----------+--------+---------------+-----------------+--------------+-----------------+-----------------+\n",
      "|  1| RMLS|              11511|11511 Stillwater ...|Stillwater|     55042|             MN|LELM - Lake Elmo|         143000|7/15/2017 0:00|   139900|Exclusive Right|           139900|    145.9184|           980|     Other|       C4|          279X200|    834 - Stillwater|          10| 7/30/2017 0:00|         0|  12 x  9|Living Room, Dini...|                null|      Main|                No|           null|  10|     Attached Garage|            980| 1858|      Main|  16 x 13|            1858.0|   2017|       980|      null|     1950|Residential-Single|      (SF) One Story| 1.28|           Central|Range, Dishwasher...|            null|          null|     null|       Vinyl|      null|      Main|   9 x  7|       Eat In Kitchen|                Full|        1|        1|          0|                0|   SF|         2|Main Floor 3/4 Ba...|  13 x 11|      Main|  10 x 10|      Main|     null|      null|     null|      null|       3|              0|             null|             0|          Unknown|              0.0|\n",
      "|  2| RMLS|              11200|     11200 31st St N|      31st|     55042|             MN|LELM - Lake Elmo|         190000|10/9/2017 0:00|   210000|Exclusive Right|           210000|     85.2783|          1144|      null|       C1|          100x140|    834 - Stillwater|           4|10/13/2017 0:00|         0|    11x11|Living Room, Dini...|Asphalt Shingles,...|      Main|                No|           null|   4|Attached Garage, ...|           1268| 1640|      Main|    22x14|            1640.0|   2017|      2228|      null|     1971|Residential-Single|(SF) Split Entry ...| 0.32|           Central|Range, Microwave,...|            null|   Lower Level|    22x14|       Vinyl|     Lower|      Main|    11x12| Informal Dining R...|Full, Partial Fin...|        1|        0|          0|                2|   SF|         3|Main Floor Full B...|    15x11|      Main|    14x11|      Main|    10x11|      Main|    11x11|     Lower|       4|            960|             null|             0|          Unknown|              0.0|\n",
      "|  3| RMLS|               8583|8583 Stillwater B...|Stillwater|     55042|             MN|LELM - Lake Elmo|         225000|6/26/2017 0:00|   225000|Exclusive Right|           225000|    204.1742|          1102|      None|       E1|          120x296|622 - North St Pa...|          28| 7/24/2017 0:00|         0|    14x12|Living Room, Dini...|                null|      Main|                No|           None|  28|     Attached Garage|           1102| 2390|      Main|    20x13|            2390.0|   2016|      1102|      null|     1949|Residential-Single|      (SF) One Story|0.822|            Window|Range, Microwave,...|            null|          null|     null|Cement Board|      null|      Main|    18x11| Informal Dining Room|Full, Crawl Space...|        1|        0|          0|                0|   SF|         1|Main Floor Full Bath|    12x12|      Main|    12x12|      Main|     null|      null|     null|      null|       2|              0|    Not Assumable|             0|               No|              0.0|\n",
      "|  4| RMLS|               9350|      9350 31st St N|      31st|     55042|             MN|LELM - Lake Elmo|         265000|8/25/2017 0:00|   230000|Exclusive Right|           230000|    162.3775|           959|      None|       A1|          208X208|    834 - Stillwater|          19| 9/13/2017 0:00|         1|    12X16|Living Room, Dini...|Asphalt Shingles,...|      Main|                No|           None|  19|Attached Garage, ...|           1284| 2146|      null|     null|            2146.0|   2017|      1632|      null|     1960|Residential-Single|      (SF) One Story| 0.94|           Central|Range, Washer, Dryer|            null|    Main Level|    25X13|      Stucco|      Main|      Main|    20X11|                 null|Full, Partial Fin...|        1|        1|          0|                0|   SF|         2|Main Floor Full B...|    13X11|      Main|    13X10|      Main|     null|      null|     null|      null|       2|            348|             null|             0|          Unknown|              0.0|\n",
      "|  5| RMLS|               2915|   2915 Inwood Ave N|    Inwood|     55042|             MN|LELM - Lake Elmo|         249900|9/12/2017 0:00|   239900|Exclusive Right|           239900|    121.7836|          1026|Chain Link|       E1|          116x200|622 - North St Pa...|          21| 10/3/2017 0:00|         1|    12x10|Living Room, Dini...|Asphalt Shingles,...|      Main|                No|           null|  21|Attached Garage, ...|           1026| 2010|      Main|    22x14|            2010.0|   2017|      2052|      null|     1978|Residential-Single|(SF) Split Entry ...|  0.0|           Central|Range, Exhaust Fa...|            null|   Lower Level|    22x18|       Vinyl|     Lower|      Main|    12x10| Breakfast Area, K...|Walkout, Full, Fi...|        1|        0|          0|                1|   SF|         2|Main Floor Full B...|    13x11|      Main|    13x12|      Main|    14x13|     Lower|     null|      null|       3|           1026|             null|             0|               No|              0.0|\n",
      "+---+-----+-------------------+--------------------+----------+----------+---------------+----------------+---------------+--------------+---------+---------------+-----------------+------------+--------------+----------+---------+-----------------+--------------------+------------+---------------+----------+---------+--------------------+--------------------+----------+------------------+---------------+----+--------------------+---------------+-----+----------+---------+------------------+-------+----------+----------+---------+------------------+--------------------+-----+------------------+--------------------+----------------+--------------+---------+------------+----------+----------+---------+---------------------+--------------------+---------+---------+-----------+-----------------+-----+----------+--------------------+---------+----------+---------+----------+---------+----------+---------+----------+--------+---------------+-----------------+--------------+-----------------+-----------------+\n",
      "only showing top 5 rows\n",
      "\n"
     ]
    }
   ],
   "source": [
    "# Load data\n",
    "data_file_path = 'datasets/2017_StPaul_MN_Real_Estate.csv'\n",
    "df = spark.read.csv(data_file_path, header=True, inferSchema=True)\n",
    "df.show(5)"
   ]
  },
  {
   "cell_type": "code",
   "execution_count": 4,
   "metadata": {},
   "outputs": [
    {
     "name": "stdout",
     "output_type": "stream",
     "text": [
      "Number of rows: 5000\n",
      "Number of columns: 74\n"
     ]
    }
   ],
   "source": [
    "print(f\"Number of rows: {df.count()}\")\n",
    "print(f\"Number of columns: {len(df.columns)}\")"
   ]
  },
  {
   "cell_type": "markdown",
   "metadata": {},
   "source": [
    "### Defining a problem"
   ]
  },
  {
   "cell_type": "markdown",
   "metadata": {},
   "source": [
    "#### What are we predicting?"
   ]
  },
  {
   "cell_type": "code",
   "execution_count": 5,
   "metadata": {},
   "outputs": [
    {
     "name": "stdout",
     "output_type": "stream",
     "text": [
      "+-------+------------------+\n",
      "|summary|   SALESCLOSEPRICE|\n",
      "+-------+------------------+\n",
      "|  count|              5000|\n",
      "|   mean|       262804.4668|\n",
      "| stddev|140559.82591998563|\n",
      "|    min|             48000|\n",
      "|    max|           1700000|\n",
      "+-------+------------------+\n",
      "\n"
     ]
    }
   ],
   "source": [
    "# Select our dependent variable\n",
    "Y_df = df.select(['SALESCLOSEPRICE'])\n",
    "# Display summary statistics\n",
    "Y_df.describe().show()"
   ]
  },
  {
   "cell_type": "markdown",
   "metadata": {},
   "source": [
    "#### Verifying Data load"
   ]
  },
  {
   "cell_type": "code",
   "execution_count": 6,
   "metadata": {},
   "outputs": [
    {
     "name": "stdout",
     "output_type": "stream",
     "text": [
      "Validation Passed\n"
     ]
    }
   ],
   "source": [
    "def check_load(df, num_records, num_columns):\n",
    "    # Takes a dataframe and compares record and column counts to input\n",
    "    # Message to return if the critera below aren't met\n",
    "    message = 'Validation Failed'\n",
    "    # Check number of records\n",
    "    if num_records == df.count():\n",
    "        # Check number of columns\n",
    "        if num_columns == len(df.columns):\n",
    "            # Success message\n",
    "            message = 'Validation Passed'\n",
    "    return message\n",
    "\n",
    "# Print the data validation message\n",
    "print(check_load(df, 5000, 74))"
   ]
  },
  {
   "cell_type": "markdown",
   "metadata": {},
   "source": [
    "#### Verifying DataTypes"
   ]
  },
  {
   "cell_type": "code",
   "execution_count": 7,
   "metadata": {},
   "outputs": [],
   "source": [
    "validation_dict = {'ASSESSMENTPENDING': 'string',\n",
    "                    'AssessedValuation': 'double',\n",
    "                    'AssociationFee': 'bigint',\n",
    "                    'AssumableMortgage': 'string',\n",
    "                    'SQFTBELOWGROUND': 'bigint'}"
   ]
  },
  {
   "cell_type": "code",
   "execution_count": 8,
   "metadata": {},
   "outputs": [
    {
     "name": "stdout",
     "output_type": "stream",
     "text": [
      "[('No.', 'int'), ('MLSID', 'string'), ('StreetNumberNumeric', 'int'), ('streetaddress', 'string'), ('STREETNAME', 'string'), ('PostalCode', 'int'), ('StateOrProvince', 'string'), ('City', 'string'), ('SalesClosePrice', 'int'), ('LISTDATE', 'string'), ('LISTPRICE', 'int'), ('LISTTYPE', 'string'), ('OriginalListPrice', 'int'), ('PricePerTSFT', 'double'), ('FOUNDATIONSIZE', 'int'), ('FENCE', 'string'), ('MapLetter', 'string'), ('LotSizeDimensions', 'string'), ('SchoolDistrictNumber', 'string'), ('DAYSONMARKET', 'int'), ('offmarketdate', 'string'), ('Fireplaces', 'int'), ('RoomArea4', 'string'), ('roomtype', 'string'), ('ROOF', 'string'), ('RoomFloor4', 'string'), ('PotentialShortSale', 'string'), ('PoolDescription', 'string'), ('PDOM', 'int'), ('GarageDescription', 'string'), ('SQFTABOVEGROUND', 'int'), ('Taxes', 'int'), ('RoomFloor1', 'string'), ('RoomArea1', 'string'), ('TAXWITHASSESSMENTS', 'double'), ('TAXYEAR', 'int'), ('LivingArea', 'int'), ('UNITNUMBER', 'string'), ('YEARBUILT', 'int'), ('ZONING', 'string'), ('STYLE', 'string'), ('ACRES', 'double'), ('CoolingDescription', 'string'), ('APPLIANCES', 'string'), ('backonmarketdate', 'string'), ('ROOMFAMILYCHAR', 'string'), ('RoomArea3', 'string'), ('EXTERIOR', 'string'), ('RoomFloor3', 'string'), ('RoomFloor2', 'string'), ('RoomArea2', 'string'), ('DiningRoomDescription', 'string'), ('BASEMENT', 'string'), ('BathsFull', 'int'), ('BathsHalf', 'int'), ('BATHQUARTER', 'int'), ('BATHSTHREEQUARTER', 'int'), ('Class', 'string'), ('BATHSTOTAL', 'int'), ('BATHDESC', 'string'), ('RoomArea5', 'string'), ('RoomFloor5', 'string'), ('RoomArea6', 'string'), ('RoomFloor6', 'string'), ('RoomArea7', 'string'), ('RoomFloor7', 'string'), ('RoomArea8', 'string'), ('RoomFloor8', 'string'), ('Bedrooms', 'int'), ('SQFTBELOWGROUND', 'int'), ('AssumableMortgage', 'string'), ('AssociationFee', 'int'), ('ASSESSMENTPENDING', 'string'), ('AssessedValuation', 'double')]\n",
      "AssumableMortgage has expected dtype.\n",
      "ASSESSMENTPENDING has expected dtype.\n",
      "AssessedValuation has expected dtype.\n"
     ]
    }
   ],
   "source": [
    "# create list of actual dtypes to check\n",
    "actual_dtypes_list = df.dtypes\n",
    "print(actual_dtypes_list)\n",
    "\n",
    "# Iterate through the list of actual dtypes tuples\n",
    "for attribute_tuple in actual_dtypes_list:\n",
    "  \n",
    "  # Check if column name is dictionary of expected dtypes\n",
    "  col_name = attribute_tuple[0]\n",
    "  if col_name in validation_dict:\n",
    "\n",
    "    # Compare attribute types\n",
    "    col_type = attribute_tuple[1]\n",
    "    if col_type == validation_dict[col_name]:\n",
    "      print(col_name + ' has expected dtype.')"
   ]
  },
  {
   "cell_type": "markdown",
   "metadata": {},
   "source": [
    "### Visually Inspecting Data / EDA"
   ]
  },
  {
   "cell_type": "markdown",
   "metadata": {},
   "source": [
    "#### Using `corr()`"
   ]
  },
  {
   "cell_type": "code",
   "execution_count": 9,
   "metadata": {},
   "outputs": [],
   "source": [
    "columns = ['FOUNDATIONSIZE',\n",
    "            'DAYSONMARKET',\n",
    "            'FIREPLACES',\n",
    "            'PDOM',\n",
    "            'SQFTABOVEGROUND',\n",
    "            'TAXES',\n",
    "            'TAXWITHASSESSMENTS',\n",
    "            'TAXYEAR',\n",
    "            'LIVINGAREA',\n",
    "            'YEARBUILT',\n",
    "            'ACRES',\n",
    "            'BACKONMARKETDATE',\n",
    "            'BATHSFULL',\n",
    "            'BATHSHALF',\n",
    "            'BATHQUARTER',\n",
    "            'BATHSTHREEQUARTER',\n",
    "            'BATHSTOTAL',\n",
    "            'BEDROOMS',\n",
    "            'SQFTBELOWGROUND',\n",
    "            'ASSOCIATIONFEE',\n",
    "            'ASSESSEDVALUATION']"
   ]
  },
  {
   "cell_type": "code",
   "execution_count": 10,
   "metadata": {},
   "outputs": [
    {
     "name": "stdout",
     "output_type": "stream",
     "text": [
      "FOUNDATIONSIZE [('FOUNDATIONSIZE', 'int')]\n",
      "DAYSONMARKET [('DAYSONMARKET', 'int')]\n",
      "FIREPLACES [('FIREPLACES', 'int')]\n",
      "PDOM [('PDOM', 'int')]\n",
      "SQFTABOVEGROUND [('SQFTABOVEGROUND', 'int')]\n",
      "TAXES [('TAXES', 'int')]\n",
      "TAXWITHASSESSMENTS [('TAXWITHASSESSMENTS', 'double')]\n",
      "TAXYEAR [('TAXYEAR', 'int')]\n",
      "LIVINGAREA [('LIVINGAREA', 'int')]\n",
      "YEARBUILT [('YEARBUILT', 'int')]\n",
      "ACRES [('ACRES', 'double')]\n",
      "BACKONMARKETDATE [('BACKONMARKETDATE', 'string')]\n",
      "BATHSFULL [('BATHSFULL', 'int')]\n",
      "BATHSHALF [('BATHSHALF', 'int')]\n",
      "BATHQUARTER [('BATHQUARTER', 'int')]\n",
      "BATHSTHREEQUARTER [('BATHSTHREEQUARTER', 'int')]\n",
      "BATHSTOTAL [('BATHSTOTAL', 'int')]\n",
      "BEDROOMS [('BEDROOMS', 'int')]\n",
      "SQFTBELOWGROUND [('SQFTBELOWGROUND', 'int')]\n",
      "ASSOCIATIONFEE [('ASSOCIATIONFEE', 'int')]\n",
      "ASSESSEDVALUATION [('ASSESSEDVALUATION', 'double')]\n"
     ]
    }
   ],
   "source": [
    "# print out data types of each column\n",
    "for col in columns:\n",
    "    print(col, df.select(col).dtypes)"
   ]
  },
  {
   "cell_type": "code",
   "execution_count": 11,
   "metadata": {},
   "outputs": [
    {
     "name": "stdout",
     "output_type": "stream",
     "text": [
      "+----------------+\n",
      "|BACKONMARKETDATE|\n",
      "+----------------+\n",
      "|            null|\n",
      "|            null|\n",
      "|            null|\n",
      "|            null|\n",
      "|            null|\n",
      "|            null|\n",
      "|            null|\n",
      "|            null|\n",
      "|            null|\n",
      "|            null|\n",
      "+----------------+\n",
      "only showing top 10 rows\n",
      "\n"
     ]
    }
   ],
   "source": [
    "df.select('BACKONMARKETDATE').show(10)"
   ]
  },
  {
   "cell_type": "code",
   "execution_count": 12,
   "metadata": {},
   "outputs": [],
   "source": [
    "from pyspark.sql.types import DoubleType\n",
    "# catch BACKONMARKETDATE column to double type\n",
    "df = df.withColumn(\"BACKONMARKETDATE\", df[\"BACKONMARKETDATE\"].cast(DoubleType()))"
   ]
  },
  {
   "cell_type": "code",
   "execution_count": 13,
   "metadata": {},
   "outputs": [
    {
     "name": "stdout",
     "output_type": "stream",
     "text": [
      "LIVINGAREA\n"
     ]
    }
   ],
   "source": [
    "# Name and value of col with max corr\n",
    "corr_max = 0\n",
    "corr_max_col = columns[0]\n",
    "\n",
    "# Loop to check all columns contained in list\n",
    "for col in columns:\n",
    "    # Check the correlation of a pair of columns\n",
    "    corr_val = df.corr(col, 'SALESCLOSEPRICE')\n",
    "    # Logic to compare corr_max with current corr_val\n",
    "    if corr_val > corr_max:\n",
    "        # Update the column name and corr value\n",
    "        corr_max = corr_val\n",
    "        corr_max_col = col\n",
    "\n",
    "print(corr_max_col)"
   ]
  },
  {
   "cell_type": "markdown",
   "metadata": {},
   "source": [
    "#### Using Visualizations: distplot"
   ]
  },
  {
   "cell_type": "code",
   "execution_count": 14,
   "metadata": {},
   "outputs": [
    {
     "name": "stderr",
     "output_type": "stream",
     "text": [
      "/var/folders/dv/0d5qzfx94lg3j1h65v6yghxw0000gp/T/ipykernel_5752/3639557235.py:9: UserWarning: \n",
      "\n",
      "`distplot` is a deprecated function and will be removed in seaborn v0.14.0.\n",
      "\n",
      "Please adapt your code to use either `displot` (a figure-level function with\n",
      "similar flexibility) or `histplot` (an axes-level function for histograms).\n",
      "\n",
      "For a guide to updating your code to use the new functions, please see\n",
      "https://gist.github.com/mwaskom/de44147ed2974457ad6372750bbe5751\n",
      "\n",
      "  sns.distplot(pandas_df)\n"
     ]
    },
    {
     "data": {
      "image/png": "[encoded data removed]",
      "text/plain": [
       "<Figure size 640x480 with 1 Axes>"
      ]
     },
     "metadata": {},
     "output_type": "display_data"
    },
    {
     "name": "stdout",
     "output_type": "stream",
     "text": [
      "[Row(skewness(LISTPRICE)=2.790448093916559)]\n"
     ]
    }
   ],
   "source": [
    "import matplotlib.pyplot as plt\n",
    "import seaborn as sns\n",
    "\n",
    "# Select a single column and sample and convert to pandas\n",
    "sample_df = df.select(['LISTPRICE']).sample(False, 0.5, 42)\n",
    "pandas_df = sample_df.toPandas()\n",
    "\n",
    "# Plot distribution of pandas_df and display plot\n",
    "sns.distplot(pandas_df)\n",
    "plt.show()\n",
    "\n",
    "# Import skewness function\n",
    "from pyspark.sql.functions import skewness\n",
    "\n",
    "# Compute and print skewness of LISTPRICE\n",
    "print(df.agg({'LISTPRICE': 'skewness'}).collect())"
   ]
  },
  {
   "cell_type": "markdown",
   "metadata": {},
   "source": [
    "#### Using Visualizations: lmplot"
   ]
  },
  {
   "cell_type": "code",
   "execution_count": 15,
   "metadata": {},
   "outputs": [
    {
     "name": "stderr",
     "output_type": "stream",
     "text": [
      "/Users/macpro2014/miniconda3/envs/data-engineering/lib/python3.9/site-packages/seaborn/axisgrid.py:118: UserWarning: The figure layout has changed to tight\n",
      "  self._figure.tight_layout(*args, **kwargs)\n"
     ]
    },
    {
     "data": {
      "image/png": "[encoded data removed]",
      "text/plain": [
       "<Figure size 500x500 with 1 Axes>"
      ]
     },
     "metadata": {},
     "output_type": "display_data"
    }
   ],
   "source": [
    "# Select a the relevant columns and sample\n",
    "sample_df = df.select(['SALESCLOSEPRICE', 'LIVINGAREA']).sample(False, 0.5, 42)\n",
    "\n",
    "# Convert to pandas dataframe\n",
    "pandas_df = sample_df.toPandas()\n",
    "\n",
    "# Linear model plot of pandas_df\n",
    "sns.lmplot(x='LIVINGAREA', y='SALESCLOSEPRICE', data=pandas_df)\n",
    "plt.show()"
   ]
  },
  {
   "cell_type": "markdown",
   "metadata": {},
   "source": [
    "## Wrangling with Spark Functions"
   ]
  },
  {
   "cell_type": "markdown",
   "metadata": {},
   "source": [
    "### Dropping data"
   ]
  },
  {
   "cell_type": "markdown",
   "metadata": {},
   "source": [
    "#### Droping a list of columns"
   ]
  },
  {
   "cell_type": "code",
   "execution_count": 16,
   "metadata": {},
   "outputs": [
    {
     "name": "stdout",
     "output_type": "stream",
     "text": [
      "+---+-----+-------------------+--------------------+----------+----------+---------------+----------------+---------------+---------------+---------+---------------+-----------------+------------+--------------+----------------+---------+--------------------+--------------------+------------+---------------+----------+---------+--------------------+--------------------+----------+------------------+--------------------+----+--------------------+---------------+-----+----------+---------+------------------+-------+----------+----------+---------+--------------------+--------------------+-----+------------------+--------------------+----------------+--------------------+---------+--------------------+----------+----------+---------+---------------------+--------------------+---------+---------+-----------+-----------------+-----+----------+--------------------+---------+----------+---------+----------+---------+----------+---------+----------+--------+---------------+-----------------+--------------+-----------------+-----------------+\n",
      "|No.|MLSID|StreetNumberNumeric|       streetaddress|STREETNAME|PostalCode|StateOrProvince|            City|SalesClosePrice|       LISTDATE|LISTPRICE|       LISTTYPE|OriginalListPrice|PricePerTSFT|FOUNDATIONSIZE|           FENCE|MapLetter|   LotSizeDimensions|SchoolDistrictNumber|DAYSONMARKET|  offmarketdate|Fireplaces|RoomArea4|            roomtype|                ROOF|RoomFloor4|PotentialShortSale|     PoolDescription|PDOM|   GarageDescription|SQFTABOVEGROUND|Taxes|RoomFloor1|RoomArea1|TAXWITHASSESSMENTS|TAXYEAR|LivingArea|UNITNUMBER|YEARBUILT|              ZONING|               STYLE|ACRES|CoolingDescription|          APPLIANCES|BACKONMARKETDATE|      ROOMFAMILYCHAR|RoomArea3|            EXTERIOR|RoomFloor3|RoomFloor2|RoomArea2|DiningRoomDescription|            BASEMENT|BathsFull|BathsHalf|BATHQUARTER|BATHSTHREEQUARTER|Class|BATHSTOTAL|            BATHDESC|RoomArea5|RoomFloor5|RoomArea6|RoomFloor6|RoomArea7|RoomFloor7|RoomArea8|RoomFloor8|Bedrooms|SQFTBELOWGROUND|AssumableMortgage|AssociationFee|ASSESSMENTPENDING|AssessedValuation|\n",
      "+---+-----+-------------------+--------------------+----------+----------+---------------+----------------+---------------+---------------+---------+---------------+-----------------+------------+--------------+----------------+---------+--------------------+--------------------+------------+---------------+----------+---------+--------------------+--------------------+----------+------------------+--------------------+----+--------------------+---------------+-----+----------+---------+------------------+-------+----------+----------+---------+--------------------+--------------------+-----+------------------+--------------------+----------------+--------------------+---------+--------------------+----------+----------+---------+---------------------+--------------------+---------+---------+-----------+-----------------+-----+----------+--------------------+---------+----------+---------+----------+---------+----------+---------+----------+--------+---------------+-----------------+--------------+-----------------+-----------------+\n",
      "|  1| RMLS|              11511|11511 Stillwater ...|Stillwater|     55042|             MN|LELM - Lake Elmo|         143000| 7/15/2017 0:00|   139900|Exclusive Right|           139900|    145.9184|           980|           Other|       C4|             279X200|    834 - Stillwater|          10| 7/30/2017 0:00|         0|  12 x  9|Living Room, Dini...|                null|      Main|                No|                null|  10|     Attached Garage|            980| 1858|      Main|  16 x 13|            1858.0|   2017|       980|      null|     1950|  Residential-Single|      (SF) One Story| 1.28|           Central|Range, Dishwasher...|            null|                null|     null|               Vinyl|      null|      Main|   9 x  7|       Eat In Kitchen|                Full|        1|        1|          0|                0|   SF|         2|Main Floor 3/4 Ba...|  13 x 11|      Main|  10 x 10|      Main|     null|      null|     null|      null|       3|              0|             null|             0|          Unknown|              0.0|\n",
      "|  2| RMLS|              11200|     11200 31st St N|      31st|     55042|             MN|LELM - Lake Elmo|         190000| 10/9/2017 0:00|   210000|Exclusive Right|           210000|     85.2783|          1144|            null|       C1|             100x140|    834 - Stillwater|           4|10/13/2017 0:00|         0|    11x11|Living Room, Dini...|Asphalt Shingles,...|      Main|                No|                null|   4|Attached Garage, ...|           1268| 1640|      Main|    22x14|            1640.0|   2017|      2228|      null|     1971|  Residential-Single|(SF) Split Entry ...| 0.32|           Central|Range, Microwave,...|            null|         Lower Level|    22x14|               Vinyl|     Lower|      Main|    11x12| Informal Dining R...|Full, Partial Fin...|        1|        0|          0|                2|   SF|         3|Main Floor Full B...|    15x11|      Main|    14x11|      Main|    10x11|      Main|    11x11|     Lower|       4|            960|             null|             0|          Unknown|              0.0|\n",
      "|  3| RMLS|               8583|8583 Stillwater B...|Stillwater|     55042|             MN|LELM - Lake Elmo|         225000| 6/26/2017 0:00|   225000|Exclusive Right|           225000|    204.1742|          1102|            None|       E1|             120x296|622 - North St Pa...|          28| 7/24/2017 0:00|         0|    14x12|Living Room, Dini...|                null|      Main|                No|                None|  28|     Attached Garage|           1102| 2390|      Main|    20x13|            2390.0|   2016|      1102|      null|     1949|  Residential-Single|      (SF) One Story|0.822|            Window|Range, Microwave,...|            null|                null|     null|        Cement Board|      null|      Main|    18x11| Informal Dining Room|Full, Crawl Space...|        1|        0|          0|                0|   SF|         1|Main Floor Full Bath|    12x12|      Main|    12x12|      Main|     null|      null|     null|      null|       2|              0|    Not Assumable|             0|               No|              0.0|\n",
      "|  4| RMLS|               9350|      9350 31st St N|      31st|     55042|             MN|LELM - Lake Elmo|         265000| 8/25/2017 0:00|   230000|Exclusive Right|           230000|    162.3775|           959|            None|       A1|             208X208|    834 - Stillwater|          19| 9/13/2017 0:00|         1|    12X16|Living Room, Dini...|Asphalt Shingles,...|      Main|                No|                None|  19|Attached Garage, ...|           1284| 2146|      null|     null|            2146.0|   2017|      1632|      null|     1960|  Residential-Single|      (SF) One Story| 0.94|           Central|Range, Washer, Dryer|            null|          Main Level|    25X13|              Stucco|      Main|      Main|    20X11|                 null|Full, Partial Fin...|        1|        1|          0|                0|   SF|         2|Main Floor Full B...|    13X11|      Main|    13X10|      Main|     null|      null|     null|      null|       2|            348|             null|             0|          Unknown|              0.0|\n",
      "|  5| RMLS|               2915|   2915 Inwood Ave N|    Inwood|     55042|             MN|LELM - Lake Elmo|         249900| 9/12/2017 0:00|   239900|Exclusive Right|           239900|    121.7836|          1026|      Chain Link|       E1|             116x200|622 - North St Pa...|          21| 10/3/2017 0:00|         1|    12x10|Living Room, Dini...|Asphalt Shingles,...|      Main|                No|                null|  21|Attached Garage, ...|           1026| 2010|      Main|    22x14|            2010.0|   2017|      2052|      null|     1978|  Residential-Single|(SF) Split Entry ...|  0.0|           Central|Range, Exhaust Fa...|            null|         Lower Level|    22x18|               Vinyl|     Lower|      Main|    12x10| Breakfast Area, K...|Walkout, Full, Fi...|        1|        0|          0|                1|   SF|         2|Main Floor Full B...|    13x11|      Main|    13x12|      Main|    14x13|     Lower|     null|      null|       3|           1026|             null|             0|               No|              0.0|\n",
      "|  6| RMLS|               3604|   3604 Layton Ave N|    Layton|     55042|             MN|LELM - Lake Elmo|         255000| 4/10/2017 0:00|   239900|Exclusive Right|           239900|     182.534|          1152|            null|       C1|              50x150|    834 - Stillwater|          17| 4/27/2017 0:00|         1|  11 x 11|Living Room, Dini...|Asphalt Shingles,...|      Main|                No|                null|  17|Attached Garage, ...|           1397| 1491|      Main|  19 x 13|            1494.0|   2016|      1397|      null|     1965|  Residential-Single|      (SF) One Story|0.172|           Central|Range, Microwave,...|            null|                null|     null|        Metal, Vinyl|      null|      Main|  10 x 13| Separate/Formal D...|Full, Sump Pump, ...|        2|        0|          0|                0|   SF|         2|Main Floor Full B...|25.5 x 11|      Main|  10 x 11|      Main| 9.5 x 10|      Main|     null|      null|       3|              0|    Not Assumable|             0|               No|              3.0|\n",
      "|  7| RMLS|               9957|9957 5th Street Ln N|5th Street|     55042|             MN|LELM - Lake Elmo|         248000|  6/8/2017 0:00|   250000|Exclusive Right|           265000|     137.931|           700|            null|       A4|              common|    834 - Stillwater|          32| 7/10/2017 0:00|         0|     14x9|Living Room, Dini...|Asphalt Shingles,...|      Main|                No|                null|  19|Attached Garage, ...|           1798| 2165|      Main|    13x15|            2168.0|   2017|      1798|      null|     2015|  Residential-Single|    (TH) Side x Side| 0.05|           Central|Range, Microwave,...|            null|                Loft|     null|Shakes, Metal, Vi...|      null|      Main|    11x13| Informal Dining R...|                Slab|        1|        1|          0|                1|   SF|         3|Main Floor 1/2 Ba...|  13x19.6|     Upper|  11x13.6|     Upper|  11x13.6|     Upper|     null|      null|       3|              0|             null|           200|              Yes|              3.0|\n",
      "|  8| RMLS|               9934|9934 5th Street Ln N|5th Street|     55042|             MN|LELM - Lake Elmo|         245000| 11/5/2017 0:00|   254990|Exclusive Right|           273417|    141.3733|          1088|         Partial|       A4|              common|    834 - Stillwater|           5|11/10/2017 0:00|         0|   12 x 8|Living Room, Dini...|    Asphalt Shingles|      Main|                No|                null|   1|     Attached Garage|           1733|    0|      Main|  12 x 13|               0.0|   2017|      1733|      null|     2017|  Residential-Single| (TH) Quad/4 Corners| 0.05|           Central|Range, Microwave,...|            null|Main Level, Famil...|     null|               Vinyl|      null|      Main|  12 x 10| Informal Dining R...|                None|        2|        1|          0|                0|   SF|         3|Main Floor 1/2 Ba...|  12 x 11|     Upper|  11 x 13|     Upper|  11 x 13|     Upper|     null|      null|       3|              0|             null|           200|               No|              0.0|\n",
      "|  9| RMLS|               9926|9926 5th Street Ln N|5th Street|     55042|             MN|LELM - Lake Elmo|         254990|10/12/2017 0:00|   254990|Exclusive Right|           273152|    147.1379|          1088|         Partial|       E1|              common|    834 - Stillwater|          23|11/11/2017 0:00|         0|   12 x 8|Living Room, Dini...|    Asphalt Shingles|      Main|                No|                null|   5|     Attached Garage|           1733|    0|      Main|  12 x 13|               0.0|   2017|      1733|      null|     2017|  Residential-Single| (TH) Quad/4 Corners| 0.05|           Central|Range, Microwave,...|            null|                null|     null|               Vinyl|      null|      Main|  12 x 10| Informal Dining R...|                None|        1|        1|          0|                1|   SF|         3|Main Floor 1/2 Ba...|  12 x 11|     Upper|  11 x 13|     Upper|  11 x 13|     Upper|     null|      null|       3|              0|             null|           200|               No|              0.0|\n",
      "| 10| RMLS|               9928|9928 5th Street Ln N|5th Street|     55042|             MN|LELM - Lake Elmo|         250000|  9/2/2017 0:00|   255990|Exclusive Right|           273482|    144.2585|          1088|Privacy, Partial|       A4|              common|    834 - Stillwater|          73|11/20/2017 0:00|         0|   12 x 8|Living Room, Dini...|    Asphalt Shingles|      Main|                No|                null|  11|     Attached Garage|           1733|    0|      Main|  12 x 13|               0.0|   2017|      1733|      null|     2017|  Residential-Single| (TH) Quad/4 Corners| 0.05|           Central|Range, Microwave,...|            null|Main Level, Famil...|     null|               Vinyl|      null|      Main|  12 x 10| Informal Dining R...|                None|        1|        1|          0|                1|   SF|         3|Main Floor 1/2 Ba...|  12 x 11|     Upper|  11 x 13|     Upper|  11 x 13|     Upper|     null|      null|       3|              0|             null|           200|               No|              0.0|\n",
      "| 11| RMLS|               9902|9902 5th Street Ln N|5th Street|     55042|             MN|LELM - Lake Elmo|         254500| 5/19/2017 0:00|   259990|Exclusive Right|           267117|    146.8552|          1088|         Partial|       A4|              common|    834 - Stillwater|          80|  8/7/2017 0:00|         0|   12 x 8|Living Room, Dini...|    Asphalt Shingles|      Main|                No|                null|   7|     Attached Garage|           1733|    0|      Main|  12 x 13|               0.0|   2017|      1733|      null|     2017|  Residential-Single| (TH) Quad/4 Corners| 0.05|           Central|Range, Microwave,...|            null|Main Level, Famil...|     null|               Vinyl|      null|      Main|  12 x 10| Informal Dining R...|                None|        1|        1|          0|                1|   SF|         3|Main Floor 1/2 Ba...|  12 x 11|     Upper|  11 x 13|     Upper|  11 x 13|     Upper|     null|      null|       3|              0|             null|           200|               No|              0.0|\n",
      "| 12| RMLS|               9904|9904 5th Street Ln N|5th Street|     55042|             MN|LELM - Lake Elmo|         253000| 5/11/2017 0:00|   259990|Exclusive Right|           268487|    145.9896|          1088|         Partial|       A4|              common|    834 - Stillwater|          79| 7/29/2017 0:00|         0|   12 x 8|Living Room, Dini...|    Asphalt Shingles|      Main|                No|                null|  58|     Attached Garage|           1733|    0|      Main|  12 x 13|               0.0|   2017|      1733|      null|     2017|  Residential-Single| (TH) Quad/4 Corners| 0.05|           Central|Range, Microwave,...|            null|                null|     null|               Vinyl|      null|      Main|  12 x 10| Informal Dining R...|                None|        1|        1|          0|                1|   SF|         3|Main Floor 1/2 Ba...|  12 x 11|     Upper|  11 x 13|     Upper|  11 x 13|     Upper|     null|      null|       3|              0|             null|           200|               No|              0.0|\n",
      "| 13| RMLS|               9894|9894 5th Street Ln N|5th Street|     55042|             MN|LELM - Lake Elmo|         257500| 3/12/2017 0:00|   259990|Exclusive Right|           268622|    148.5863|          1088|         Partial|       A4|              common|    834 - Stillwater|          12| 3/24/2017 0:00|         0|   12 x 8|Living Room, Dini...|    Asphalt Shingles|      Main|                No|                null|   8|     Attached Garage|           1733|    0|      Main|  12 x 13|               0.0|   2017|      1733|      null|     2017|  Residential-Single| (TH) Quad/4 Corners| 0.05|           Central|Range, Microwave,...|            null|Main Level, Famil...|     null|               Vinyl|      null|      Main|  12 x 10| Informal Dining R...|                None|        2|        1|          0|                0|   SF|         3|Main Floor 1/2 Ba...|  12 x 11|     Upper|  11 x 13|     Upper|  11 x 13|     Upper|     null|      null|       3|              0|             null|           190|               No|              0.0|\n",
      "| 14| RMLS|               9892|    9892 5th St Ln N|    5th St|     55042|             MN|LELM - Lake Elmo|         272990|  3/6/2017 0:00|   269990|Exclusive Right|           279442|     154.844|          1088|Privacy, Partial|       A4|              COMMON|    834 - Stillwater|           1| 6/11/2017 0:00|         0|     12X8|Living Room, Dini...|Asphalt Shingles,...|      Main|                No|                null|   1|Attached Garage, ...|           1763|    0|      Main|    12X13|               0.0|   2016|      1763|      null|     2016|  Residential-Single| (TH) Quad/4 Corners| 0.05|           Central|Range, Microwave,...|            null|Main Level, Great...|     null|Shakes, Metal, Vi...|      null|      Main|     3X10| Informal Dining R...|                None|        2|        1|          0|                0|   SF|         3|Main Floor 1/2 Ba...|    12X11|     Upper|    11X13|     Upper|    11X13|     Upper|     null|      null|       3|              0|             null|           200|               No|              0.0|\n",
      "| 15| RMLS|               9295|9295 Lake Jane Trl N| Lake Jane|     55042|             MN|LELM - Lake Elmo|         290000| 5/18/2017 0:00|   270000|Exclusive Right|           270000|    157.2668|          1844|            null|       A4|261 x 293 x 287 x...|    834 - Stillwater|          18|  6/5/2017 0:00|         1|    13x12|Living Room, Dini...|    Asphalt Shingles|      Main|                No|                None|  18|Attached Garage, ...|           1844| 2689|      Main|    21x19|            2692.0|   2017|      1844|      null|     1977|  Residential-Single|      (SF) One Story|1.661|           Central|Cooktop, Wall Ove...|            null|                null|     null|  Metal, Brick/Stone|      null|      Main|    12x10| Informal Dining R...|Full, Concrete Bl...|        0|        0|          0|                3|   SF|         3|Main Floor 3/4 Ba...|    14x11|      Main|    12x11|      Main|     null|      null|     null|      null|       2|              0|             null|             0|              Yes|              3.0|\n",
      "| 16| RMLS|               9930|    9930 5th St Ln N|    5th St|     55042|             MN|LELM - Lake Elmo|         274000|10/15/2017 0:00|   274000|Exclusive Right|           274000|    155.4169|          1088|            null|       A4|               36X32|    834 - Stillwater|           2|10/17/2017 0:00|         0|     12X8|Living Room, Dini...|Asphalt Shingles,...|      Main|                No|                null|   2|Attached Garage, ...|           1763|    0|      Main|    12X13|               0.0|   2017|      1763|      null|     2017|  Residential-Single| (TH) Quad/4 Corners| 0.05|           Central|Range, Microwave,...|            null|                Loft|     null|Shakes, Metal, Vi...|      null|      Main|     3X10| Informal Dining R...|                None|        1|        1|          0|                1|   SF|         3|Main Floor 1/2 Ba...|    12X11|     Upper|    11X13|     Upper|    11X13|     Upper|     null|      null|       3|              0|             null|           200|               No|              0.0|\n",
      "| 17| RMLS|               9898|    9898 5th St Ln N|    5th St|     55042|             MN|LELM - Lake Elmo|         274990| 9/10/2017 0:00|   274990|Exclusive Right|           289357|    155.9784|          1088|            null|       A4|               36X32|    834 - Stillwater|          12| 9/22/2017 0:00|         0|     12X8|Living Room, Dini...|Asphalt Shingles,...|      Main|                No|                null|   8|Attached Garage, ...|           1763|    0|      Main|    12X13|               0.0|   2017|      1763|      null|     2017|  Residential-Single| (TH) Quad/4 Corners| 0.05|           Central|Range, Microwave,...|            null|                Loft|     null|Shakes, Metal, Vi...|      null|      Main|     3X10| Informal Dining R...|                None|        1|        1|          0|                1|   SF|         3|Main Floor 1/2 Ba...|    12X11|     Upper|    11X13|     Upper|    11X13|     Upper|     null|      null|       3|              0|             null|           200|               No|              0.0|\n",
      "| 18| RMLS|               9924|    9924 5th St Ln N|    5th St|     55042|             MN|LELM - Lake Elmo|         274000|  9/1/2017 0:00|   284990|Exclusive Right|           288342|    155.4169|          1088|Privacy, Partial|       A4|              COMMON|    834 - Stillwater|          45|10/16/2017 0:00|         0|     12X8|Living Room, Dini...|Asphalt Shingles,...|      Main|                No|                null|  24|Attached Garage, ...|           1763|    0|      Main|    12X13|               0.0|   2017|      1763|      null|     2017|  Residential-Single| (TH) Quad/4 Corners| 0.05|           Central|Range, Microwave,...|            null|Main Level, Great...|     null|Shakes, Metal, Vi...|      null|      Main|     3X10| Informal Dining R...|                None|        2|        1|          0|                0|   SF|         3|Main Floor 1/2 Ba...|    12X11|     Upper|    11X13|     Upper|    11X13|     Upper|     null|      null|       3|              0|             null|           200|               No|              0.0|\n",
      "| 19| RMLS|               9906|    9906 5th St Ln N|    5th St|     55042|             MN|LELM - Lake Elmo|         282000|  5/6/2017 0:00|   287452|Exclusive Right|           287452|    159.9546|          1088|            null|       A4|              COMMON|    834 - Stillwater|          31|  6/6/2017 0:00|         0|     12X8|Living Room, Dini...|Asphalt Shingles,...|      Main|                No|                null|  31|Attached Garage, ...|           1763|    0|      Main|    12X13|               0.0|   2017|      1763|      null|     2017|  Residential-Single| (TH) Quad/4 Corners| 0.05|           Central|Range, Microwave,...|            null|                Loft|     null|Shakes, Metal, Vi...|      null|      Main|     3X10| Informal Dining R...|                None|        1|        1|          0|                1|   SF|         3|Main Floor 1/2 Ba...|    12X11|     Upper|    11X13|     Upper|    11X13|     Upper|     null|      null|       3|              0|             null|           200|               No|              0.0|\n",
      "| 20| RMLS|               9938|    9938 5th St Ln N|    5th St|     55042|             MN|LELM - Lake Elmo|         280617| 8/11/2017 0:00|   288492|Exclusive Right|           288492|    159.1702|          1088|            null|       A4|              COMMON|    834 - Stillwater|          16| 8/27/2017 0:00|         0|     12X8|Living Room, Dini...|Asphalt Shingles,...|      Main|                No|                null|  16|Attached Garage, ...|           1763|    0|      Main|    12X13|               0.0|   2017|      1763|      null|     2017|  Residential-Single| (TH) Quad/4 Corners| 0.05|           Central|Range, Microwave,...|            null|                Loft|     null|Shakes, Metal, Vi...|      null|      Main|     3X10| Informal Dining R...|                None|        1|        1|          0|                1|   SF|         3|Main Floor 1/2 Ba...|    12X11|     Upper|    11X13|     Upper|    11X13|     Upper|     null|      null|       3|              0|             null|           200|               No|              0.0|\n",
      "| 21| RMLS|               9795|9795 N 5th Street Ln|5th Street|     55042|             MN|LELM - Lake Elmo|         289871|  3/3/2017 0:00|   292371|Exclusive Right|           292371|    163.0321|           698|         Privacy|       A4|               32X60|    834 - Stillwater|           3|  3/6/2017 0:00|         1| 9.5X14.5|Living Room, Dini...|Asphalt Shingles,...|      Main|                No|                None|   3|Attached Garage, ...|           1778|    0|      null|     null|               0.0|   2016|      1778|      null|     2016|Residential-Multi...|    (TH) Side x Side| 0.04|           Central|Range, Microwave,...|            null|Main Level, Great...|13.5X14.5|Brick/Stone, Fibe...|      Main|      Main| 7.5X14.5| Informal Dining R...|                None|        2|        1|          0|                0|   SF|         3|Main Floor 1/2 Ba...|  12X14.5|     Upper|11.5X11.5|     Upper|  12.5X11|     Upper|     null|      null|       3|              0|             null|           190|               No|              0.0|\n",
      "| 22| RMLS|               9797|9797 N 5th Street Ln|5th Street|     55042|             MN|LELM - Lake Elmo|         282500|  3/6/2017 0:00|   292925|Exclusive Right|           291925|    158.8864|           698|Privacy, Partial|       A4|               32X60|    834 - Stillwater|          50| 4/25/2017 0:00|         1| 9.5X14.5|Living Room, Dini...|Asphalt Shingles,...|      Main|                No|                None|  18|Attached Garage, ...|           1778|    0|      null|     null|               0.0|   2016|      1778|      null|     2016|Residential-Multi...|    (TH) Side x Side| 0.04|           Central|Range, Microwave,...|            null|    Main Level, Loft|13.5X14.5|Brick/Stone, Fibe...|      Main|      Main| 7.5X14.5| Informal Dining R...|                None|        2|        1|          0|                0|   SF|         3|Main Floor 1/2 Ba...|  12X14.5|     Upper|11.5X11.5|     Upper|  12.5X11|     Upper|     null|      null|       3|              0|             null|           190|               No|              0.0|\n",
      "| 23| RMLS|               8909|      8909 37th St N|      37th|     55042|             MN|LELM - Lake Elmo|         289900| 6/26/2017 0:00|   299900|Exclusive Right|           299900|    119.5957|          1300|            null|       E1|             125x150|    834 - Stillwater|          40| 9/30/2017 0:00|         2|    10x12|Living Room, Dini...|    Asphalt Shingles|     Upper|                No|                null|  40|Attached Garage, ...|           1324| 1974|     Upper|    17x14|            1974.0|   2017|      2424|      null|     1967|  Residential-Single|(SF) Split Entry ...| 0.43|           Central|Range, Microwave,...|            null|Lower Level, Fami...|    17x13|               Metal|     Lower|     Upper|    13x10| Informal Dining Room|Walkout, Finished...|        1|        0|          0|                2|   SF|         3|Upper Level Full ...|    15x11|     Upper|    12x10|     Upper|     11x9|     Upper|    13x12|     Lower|       4|           1100|    Not Assumable|             0|               No|           1974.0|\n",
      "| 24| RMLS|               3597|   3597 Kelvin Ave N|    Kelvin|     55042|             MN|LELM - Lake Elmo|         314500| 5/13/2017 0:00|   299900|Exclusive Right|           299900|     156.002|          1200|            Wood|       B1|             100x250|    834 - Stillwater|           6| 6/12/2017 0:00|         2|     17x8|Living Room, Dini...|Asphalt Shingles,...|      Main|                No|                null|   6|Attached Garage, ...|           1380| 1878|      Main|    19x14|            1878.0|   2016|      2016|      null|     1960|  Residential-Single|      (SF) One Story|0.574|           Central|Cooktop, Wall Ove...|            null|         Lower Level|    42x12| Stucco, Brick/Stone|     Lower|      Main|    13x12| Separate/Formal D...|Walkout, Full, Fi...|        1|        1|          0|                0|   SF|         2|Main Floor Full B...|    15x10|      Main|    12x11|      Main|    12x11|     Lower|     null|      null|       3|            636|             null|             0|              Yes|              0.0|\n",
      "| 25| RMLS|               8656|      8656 27th St N|      27th|     55042|             MN|LELM - Lake Elmo|         280000| 5/12/2017 0:00|   299900|Exclusive Right|           320000|    114.2857|          1148|            null|       E2|     151x158x130x151|622 - North St Pa...|          32| 6/26/2017 0:00|         1|    13x10|Living Room, Dini...|    Asphalt Shingles|      Main|                No|                null|  13|Attached Garage, ...|           1850| 2333|      Main|    17x13|            2336.0|   2016|      2450|      null|     1964|  Residential-Single|    (SF) Two Stories|0.498|              None|Range, Microwave,...|            null|          Main Level|    25x17|               Vinyl|      Main|      Main|    10x12| Separate/Formal D...|                Full|        1|        1|          0|                0|   SF|         2|Main Floor Full B...|    15x10|     Upper|    13x10|     Upper|     10x8|     Upper|     null|      null|       3|            600|    Not Assumable|             0|          Unknown|              3.0|\n",
      "| 26| RMLS|               9775|9775 N 5th Street Ln|5th Street|     55042|             MN|LELM - Lake Elmo|         299990|  7/6/2017 0:00|   299990|Exclusive Right|           322618|    166.0155|          1159|Privacy, Partial|       A4|               36X32|    834 - Stillwater|          19| 7/25/2017 0:00|         1| 8.3X11.5|Living Room, Dini...|Asphalt Shingles,...|      Main|                No|                None|   1|Attached Garage, ...|           1807|    0|      null|     null|               0.0|   2017|      1807|      null|     2017|Residential-Multi...|    (TH) Side x Side| 0.04|           Central|Range, Microwave,...|            null|Main Level, Great...|13.5X14.3|Brick/Stone, Fibe...|      Main|      Main| 7.9X14.6| Informal Dining R...|                None|        1|        1|          0|                1|   SF|         3|Main Floor 1/2 Ba...|12.4X14.7|     Upper|12.1X11.1|     Upper|  12.1X11|     Upper|     null|      null|       3|              0|             null|           225|               No|              0.0|\n",
      "| 27| RMLS|               8687|8687 Lake Jane Trl N| Lake Jane|     55042|             MN|LELM - Lake Elmo|         310000|  5/4/2017 0:00|   300000|Exclusive Right|           350000|    123.0647|          1506|            null|       E4|                   -|    834 - Stillwater|           8| 5/12/2017 0:00|         2|    10x12|Living Room, Dini...|                null|      Main|                No|Below Ground, Out...|   1|     Attached Garage|           1649| 2746|      Main|    15x19|            2746.0|   2017|      2519|      null|     1973|  Residential-Single|      (SF) One Story| 1.03|           Central|Range, Microwave,...|            null|Main Level, Lower...|    18x22|        Cement Board|     Lower|      Main|    13x14| Separate/Formal D...|Full, Finished (L...|        1|        0|          0|                1|   SF|         2|Main Floor Full B...|    13x12|      Main|    10x11|      Main|    10x10|      Main|     9x10|     Lower|       4|            870|             null|             0|          Unknown|              0.0|\n",
      "| 28| RMLS|               8367|      8367 39th St N|      39th|     55042|             MN|LELM - Lake Elmo|         319000| 4/17/2017 0:00|   309000|Exclusive Right|           309000|    155.4581|          1100|            null|       E4|             285x305|    834 - Stillwater|          14|  5/1/2017 0:00|         0|    14x12|Living Room, Dini...| Age 8 Years or Less|      Main|                No|                null|  14|Attached Garage, ...|           1152| 2693|      Main|    19x12|            2696.0|   2016|      2052|      null|     1971|  Residential-Single|      (SF) One Story|1.995|           Central|Range, Dishwasher...|            null|         Lower Level|    24x22|         Fiber Board|     Lower|      Main|    12x11| Informal Dining R...|             Walkout|        1|        0|          0|                1|   SF|         2|Main Floor Full Bath|    13x12|      Main|    12x11|      Main|     11x9|      Main|    15x13|     Lower|       4|            900|    Not Assumable|             0|               No|              3.0|\n",
      "| 29| RMLS|               2866|   2866 Legion Ave N|    Legion|     55042|             MN|LELM - Lake Elmo|         304000| 4/26/2017 0:00|   309900|Exclusive Right|           309900|    156.5396|          1020|            null|       C1|           Irregular|    834 - Stillwater|           2|  5/6/2017 0:00|         0|    10x10|Living Room, Dini...|Asphalt Shingles,...|     Upper|                No|                null|   2|Attached Garage, ...|           1064| 2482|     Upper|    12x14|            2482.0|   2016|      1942|      null|     1969|  Residential-Single|(SF) Split Entry ...| 0.72|           Central|Range, Microwave,...|            null|Main Level, Lower...|    14x18|                Wood|     Lower|     Upper|     9x10| Informal Dining R...|Walkout, Full, Fi...|        1|        0|          0|                1|   SF|         2|Upper Level Full ...|     9x12|     Upper|     9x12|     Upper|    10x11|     Lower|    10x10|     Lower|       4|            878|             null|             0|               No|              0.0|\n",
      "| 30| RMLS|               9793|9793 N 5th Street Ln|5th Street|     55042|             MN|LELM - Lake Elmo|         307500|  3/3/2017 0:00|   314584|Exclusive Right|           314584|    160.9105|           759|         Privacy|       A4|               42x60|    834 - Stillwater|          29|  4/1/2017 0:00|         1|  15x13.5|Living Room, Dini...|Asphalt Shingles,...|      Main|                No|                None|  29|Attached Garage, ...|           1911|    0|      null|     null|               0.0|   2016|      1911|      null|     2016|Residential-Multi...|    (TH) Side x Side| 0.06|           Central|Range, Microwave,...|            null|Main Level, Great...|15.5x13.5|Brick/Stone, Fibe...|      Main|      Main| 12.5x7.5| Informal Dining R...|                None|        2|        1|          0|                0|   SF|         3|Main Floor 1/2 Ba...|  18x12.5|     Upper|    12x10|     Upper|  13.5x10|     Upper|     null|      null|       3|              0|             null|           190|          Unknown|              0.0|\n",
      "+---+-----+-------------------+--------------------+----------+----------+---------------+----------------+---------------+---------------+---------+---------------+-----------------+------------+--------------+----------------+---------+--------------------+--------------------+------------+---------------+----------+---------+--------------------+--------------------+----------+------------------+--------------------+----+--------------------+---------------+-----+----------+---------+------------------+-------+----------+----------+---------+--------------------+--------------------+-----+------------------+--------------------+----------------+--------------------+---------+--------------------+----------+----------+---------+---------------------+--------------------+---------+---------+-----------+-----------------+-----+----------+--------------------+---------+----------+---------+----------+---------+----------+---------+----------+--------+---------------+-----------------+--------------+-----------------+-----------------+\n",
      "only showing top 30 rows\n",
      "\n"
     ]
    }
   ],
   "source": [
    "# Show top 30 records\n",
    "df.show(30)\n",
    "\n",
    "# List of columns to remove from dataset\n",
    "cols_to_drop = ['STREETNUMBERNUMERIC', 'LOTSIZEDIMENSIONS']\n",
    "\n",
    "# Drop columns in list\n",
    "df = df.drop(*cols_to_drop)"
   ]
  },
  {
   "cell_type": "markdown",
   "metadata": {},
   "source": [
    "#### Using text filters to remove records"
   ]
  },
  {
   "cell_type": "code",
   "execution_count": 17,
   "metadata": {},
   "outputs": [
    {
     "name": "stdout",
     "output_type": "stream",
     "text": [
      "+-------------------+\n",
      "|  ASSUMABLEMORTGAGE|\n",
      "+-------------------+\n",
      "|  Yes w/ Qualifying|\n",
      "| Information Coming|\n",
      "|               null|\n",
      "|Yes w/No Qualifying|\n",
      "|      Not Assumable|\n",
      "+-------------------+\n",
      "\n"
     ]
    }
   ],
   "source": [
    "# Inspect unique values in the column 'ASSUMABLEMORTGAGE'\n",
    "df.select(['ASSUMABLEMORTGAGE']).distinct().show()"
   ]
  },
  {
   "cell_type": "code",
   "execution_count": 18,
   "metadata": {},
   "outputs": [],
   "source": [
    "# List of possible values containing 'yes'\n",
    "yes_values = ['Yes w/ Qualifying', 'Yes w/No Qualifying']\n"
   ]
  },
  {
   "cell_type": "code",
   "execution_count": 19,
   "metadata": {},
   "outputs": [
    {
     "data": {
      "text/plain": [
       "DataFrame[No.: int, MLSID: string, streetaddress: string, STREETNAME: string, PostalCode: int, StateOrProvince: string, City: string, SalesClosePrice: int, LISTDATE: string, LISTPRICE: int, LISTTYPE: string, OriginalListPrice: int, PricePerTSFT: double, FOUNDATIONSIZE: int, FENCE: string, MapLetter: string, SchoolDistrictNumber: string, DAYSONMARKET: int, offmarketdate: string, Fireplaces: int, RoomArea4: string, roomtype: string, ROOF: string, RoomFloor4: string, PotentialShortSale: string, PoolDescription: string, PDOM: int, GarageDescription: string, SQFTABOVEGROUND: int, Taxes: int, RoomFloor1: string, RoomArea1: string, TAXWITHASSESSMENTS: double, TAXYEAR: int, LivingArea: int, UNITNUMBER: string, YEARBUILT: int, ZONING: string, STYLE: string, ACRES: double, CoolingDescription: string, APPLIANCES: string, BACKONMARKETDATE: double, ROOMFAMILYCHAR: string, RoomArea3: string, EXTERIOR: string, RoomFloor3: string, RoomFloor2: string, RoomArea2: string, DiningRoomDescription: string, BASEMENT: string, BathsFull: int, BathsHalf: int, BATHQUARTER: int, BATHSTHREEQUARTER: int, Class: string, BATHSTOTAL: int, BATHDESC: string, RoomArea5: string, RoomFloor5: string, RoomArea6: string, RoomFloor6: string, RoomArea7: string, RoomFloor7: string, RoomArea8: string, RoomFloor8: string, Bedrooms: int, SQFTBELOWGROUND: int, AssumableMortgage: string, AssociationFee: int, ASSESSMENTPENDING: string, AssessedValuation: double]"
      ]
     },
     "execution_count": 19,
     "metadata": {},
     "output_type": "execute_result"
    }
   ],
   "source": [
    "text_filter = ~df['ASSUMABLEMORTGAGE'].isin(yes_values) | df['ASSUMABLEMORTGAGE'].isNull()\n",
    "df = df.filter(text_filter)\n",
    "df"
   ]
  },
  {
   "cell_type": "code",
   "execution_count": 20,
   "metadata": {},
   "outputs": [
    {
     "data": {
      "text/plain": [
       "4976"
      ]
     },
     "execution_count": 20,
     "metadata": {},
     "output_type": "execute_result"
    }
   ],
   "source": [
    "df.count()"
   ]
  },
  {
   "cell_type": "code",
   "execution_count": 21,
   "metadata": {},
   "outputs": [
    {
     "name": "stdout",
     "output_type": "stream",
     "text": [
      "+------------------+\n",
      "| ASSUMABLEMORTGAGE|\n",
      "+------------------+\n",
      "|Information Coming|\n",
      "|              null|\n",
      "|     Not Assumable|\n",
      "+------------------+\n",
      "\n"
     ]
    }
   ],
   "source": [
    "df.select('ASSUMABLEMORTGAGE').distinct().show()"
   ]
  },
  {
   "cell_type": "markdown",
   "metadata": {},
   "source": [
    "#### Filtering numeric fields conditionally"
   ]
  },
  {
   "cell_type": "code",
   "execution_count": 22,
   "metadata": {},
   "outputs": [],
   "source": [
    "df = df.drop(*['No.'])"
   ]
  },
  {
   "cell_type": "code",
   "execution_count": 23,
   "metadata": {},
   "outputs": [],
   "source": [
    "from pyspark.sql.functions import mean, stddev\n",
    "\n",
    "# Calculate values used for outlier filtering\n",
    "mean_val = df.agg({'SalesClosePrice': 'mean'}).collect()[0][0]\n",
    "stddev_val = df.agg({'SalesClosePrice': 'stddev'}).collect()[0][0]\n",
    "\n",
    "# Create three standard deviation (μ ± 3σ) lower and upper bounds for data\n",
    "low_bound = mean_val - (3 * stddev_val)\n",
    "hi_bound = mean_val + (3 * stddev_val)\n",
    "\n",
    "# Filter the data to fit between the lower and upper bounds\n",
    "df = df.filter((df['SalesClosePrice'] < hi_bound) & (df['SalesClosePrice'] > low_bound))"
   ]
  },
  {
   "cell_type": "markdown",
   "metadata": {},
   "source": [
    "### Adjusying Data"
   ]
  },
  {
   "cell_type": "markdown",
   "metadata": {},
   "source": [
    "#### Custom Percentage scaling"
   ]
  },
  {
   "cell_type": "code",
   "execution_count": 24,
   "metadata": {},
   "outputs": [
    {
     "name": "stdout",
     "output_type": "stream",
     "text": [
      "22500.0\n",
      "0.0\n"
     ]
    }
   ],
   "source": [
    "# Define max and min values and collect them\n",
    "max_days = df.agg({\"DAYSONMARKET\": \"max\"}).collect()[0][0]\n",
    "min_days = df.agg({\"DAYSONMARKET\": \"min\"}).collect()[0][0]\n",
    "\n",
    "# Create a new column based off the scaled data\n",
    "df = df.withColumn('percentagescaleddays', \n",
    "                  df['DAYSONMARKET'] * ((df['DAYSONMARKET'] - min_days) / (max_days - min_days)) * 100)\n",
    "\n",
    "# Calc max and min for new column\n",
    "print(df.agg({\"percentagescaleddays\": \"max\"}).collect()[0][0])\n",
    "print(df.agg({\"percentagescaleddays\": \"min\"}).collect()[0][0])"
   ]
  },
  {
   "cell_type": "markdown",
   "metadata": {},
   "source": [
    "#### Scaling your scalers"
   ]
  },
  {
   "cell_type": "code",
   "execution_count": 25,
   "metadata": {},
   "outputs": [],
   "source": [
    "cols_to_scale = ['FOUNDATIONSIZE', 'DAYSONMARKET', 'FIREPLACES']"
   ]
  },
  {
   "cell_type": "code",
   "execution_count": 26,
   "metadata": {},
   "outputs": [
    {
     "name": "stdout",
     "output_type": "stream",
     "text": [
      "+------------+--------------------+\n",
      "|DAYSONMARKET| scaled_DAYSONMARKET|\n",
      "+------------+--------------------+\n",
      "|          10|0.044444444444444446|\n",
      "|           4|0.017777777777777778|\n",
      "|          28| 0.12444444444444444|\n",
      "|          19| 0.08444444444444445|\n",
      "|          21| 0.09333333333333334|\n",
      "|          17| 0.07555555555555556|\n",
      "|          32| 0.14222222222222222|\n",
      "|           5|0.022222222222222223|\n",
      "|          23| 0.10222222222222223|\n",
      "|          73|  0.3244444444444444|\n",
      "|          80| 0.35555555555555557|\n",
      "|          79|  0.3511111111111111|\n",
      "|          12| 0.05333333333333334|\n",
      "|           1|0.004444444444444...|\n",
      "|          18|                0.08|\n",
      "|           2|0.008888888888888889|\n",
      "|          12| 0.05333333333333334|\n",
      "|          45|                 0.2|\n",
      "|          31| 0.13777777777777778|\n",
      "|          16| 0.07111111111111111|\n",
      "+------------+--------------------+\n",
      "only showing top 20 rows\n",
      "\n"
     ]
    }
   ],
   "source": [
    "def min_max_scaler(df, cols_to_scale):\n",
    "  # Takes a dataframe and list of columns to minmax scale. Returns a dataframe.\n",
    "  for col in cols_to_scale:\n",
    "    # Define min and max values and collect them\n",
    "    max_days = df.agg({col: 'max'}).collect()[0][0]\n",
    "    min_days = df.agg({col: 'min'}).collect()[0][0]\n",
    "    new_column_name = 'scaled_' + col\n",
    "    # Create a new column based off the scaled data\n",
    "    df = df.withColumn(new_column_name, \n",
    "                      (df[col] - min_days) / (max_days - min_days))\n",
    "  return df\n",
    "  \n",
    "df = min_max_scaler(df, cols_to_scale)\n",
    "# Show that our data is now between 0 and 1\n",
    "df[['DAYSONMARKET', 'scaled_DAYSONMARKET']].show()"
   ]
  },
  {
   "cell_type": "markdown",
   "metadata": {},
   "source": [
    "#### Correcting Right Skew Data"
   ]
  },
  {
   "cell_type": "code",
   "execution_count": 27,
   "metadata": {},
   "outputs": [
    {
     "name": "stdout",
     "output_type": "stream",
     "text": [
      "[Row(skewness(YEARBUILT)=-0.2530704729706863)]\n"
     ]
    }
   ],
   "source": [
    "from pyspark.sql.functions import log\n",
    "\n",
    "# Compute the skewness\n",
    "print(df.agg({'YEARBUILT': 'skewness'}).collect())\n",
    "\n",
    "# Calculate the max year\n",
    "max_year = df.agg({'YEARBUILT': 'max'}).collect()[0][0]\n",
    "\n",
    "# Create a new column of reflected data\n",
    "df = df.withColumn('Reflect_YearBuilt', (max_year + 1) - df['YEARBUILT'])\n",
    "\n",
    "# Create a new column based reflected data\n",
    "df = df.withColumn('adj_yearbuilt', 1 / log(df['Reflect_YearBuilt']))"
   ]
  },
  {
   "cell_type": "code",
   "execution_count": 28,
   "metadata": {},
   "outputs": [
    {
     "name": "stdout",
     "output_type": "stream",
     "text": [
      "[Row(skewness(adj_yearbuilt)=4.237294447853162)]\n"
     ]
    }
   ],
   "source": [
    "print(df.agg({'adj_yearbuilt': 'skewness'}).collect())"
   ]
  },
  {
   "cell_type": "markdown",
   "metadata": {},
   "source": [
    "### Working with Missing Data"
   ]
  },
  {
   "cell_type": "markdown",
   "metadata": {},
   "source": [
    "#### Visualizing missing data"
   ]
  },
  {
   "cell_type": "code",
   "execution_count": 29,
   "metadata": {},
   "outputs": [
    {
     "data": {
      "text/plain": [
       "['APPLIANCES',\n",
       " 'BACKONMARKETDATE',\n",
       " 'ROOMFAMILYCHAR',\n",
       " 'BASEMENT',\n",
       " 'DININGROOMDESCRIPTION']"
      ]
     },
     "execution_count": 29,
     "metadata": {},
     "output_type": "execute_result"
    }
   ],
   "source": [
    "columns = \\\n",
    "['APPLIANCES',\n",
    " 'BACKONMARKETDATE',\n",
    " 'ROOMFAMILYCHAR',\n",
    " 'BASEMENT',\n",
    " 'DININGROOMDESCRIPTION']\n",
    "\n",
    "columns"
   ]
  },
  {
   "cell_type": "code",
   "execution_count": 30,
   "metadata": {},
   "outputs": [
    {
     "data": {
      "text/html": [
       "<div>\n",
       "<style scoped>\n",
       "    .dataframe tbody tr th:only-of-type {\n",
       "        vertical-align: middle;\n",
       "    }\n",
       "\n",
       "    .dataframe tbody tr th {\n",
       "        vertical-align: top;\n",
       "    }\n",
       "\n",
       "    .dataframe thead th {\n",
       "        text-align: right;\n",
       "    }\n",
       "</style>\n",
       "<table border=\"1\" class=\"dataframe\">\n",
       "  <thead>\n",
       "    <tr style=\"text-align: right;\">\n",
       "      <th></th>\n",
       "      <th>APPLIANCES</th>\n",
       "      <th>BACKONMARKETDATE</th>\n",
       "      <th>ROOMFAMILYCHAR</th>\n",
       "      <th>BASEMENT</th>\n",
       "      <th>DININGROOMDESCRIPTION</th>\n",
       "    </tr>\n",
       "  </thead>\n",
       "  <tbody>\n",
       "    <tr>\n",
       "      <th>0</th>\n",
       "      <td>Range, Microwave, Dishwasher, Refrigerator, Fr...</td>\n",
       "      <td>NaN</td>\n",
       "      <td>Main Level, Family Room, Loft</td>\n",
       "      <td>None</td>\n",
       "      <td>Informal Dining Room, Eat In Kitchen</td>\n",
       "    </tr>\n",
       "    <tr>\n",
       "      <th>1</th>\n",
       "      <td>Range, Microwave, Dishwasher, Refrigerator, Fr...</td>\n",
       "      <td>NaN</td>\n",
       "      <td>Loft</td>\n",
       "      <td>None</td>\n",
       "      <td>Informal Dining Room, Kitchen/Dining Room</td>\n",
       "    </tr>\n",
       "    <tr>\n",
       "      <th>2</th>\n",
       "      <td>Range, Microwave, Dishwasher, Refrigerator, Fr...</td>\n",
       "      <td>NaN</td>\n",
       "      <td>Loft</td>\n",
       "      <td>None</td>\n",
       "      <td>Informal Dining Room, Kitchen/Dining Room</td>\n",
       "    </tr>\n",
       "    <tr>\n",
       "      <th>3</th>\n",
       "      <td>Range, Microwave, Dishwasher, Refrigerator, Wa...</td>\n",
       "      <td>NaN</td>\n",
       "      <td>Main Level, Lower Level, 2 Story/High/Vaulted ...</td>\n",
       "      <td>Full, Finished (Livable), Drain Tiled, Sump Pu...</td>\n",
       "      <td>Separate/Formal Dining Room, Eat In Kitchen</td>\n",
       "    </tr>\n",
       "    <tr>\n",
       "      <th>4</th>\n",
       "      <td>Microwave, Dishwasher, Refrigerator, Air-To-Ai...</td>\n",
       "      <td>NaN</td>\n",
       "      <td>Great Room</td>\n",
       "      <td>Walkout, Drain Tiled</td>\n",
       "      <td>Informal Dining Room, Kitchen/Dining Room</td>\n",
       "    </tr>\n",
       "  </tbody>\n",
       "</table>\n",
       "</div>"
      ],
      "text/plain": [
       "                                          APPLIANCES  BACKONMARKETDATE  \\\n",
       "0  Range, Microwave, Dishwasher, Refrigerator, Fr...               NaN   \n",
       "1  Range, Microwave, Dishwasher, Refrigerator, Fr...               NaN   \n",
       "2  Range, Microwave, Dishwasher, Refrigerator, Fr...               NaN   \n",
       "3  Range, Microwave, Dishwasher, Refrigerator, Wa...               NaN   \n",
       "4  Microwave, Dishwasher, Refrigerator, Air-To-Ai...               NaN   \n",
       "\n",
       "                                      ROOMFAMILYCHAR  \\\n",
       "0                      Main Level, Family Room, Loft   \n",
       "1                                               Loft   \n",
       "2                                               Loft   \n",
       "3  Main Level, Lower Level, 2 Story/High/Vaulted ...   \n",
       "4                                         Great Room   \n",
       "\n",
       "                                            BASEMENT  \\\n",
       "0                                               None   \n",
       "1                                               None   \n",
       "2                                               None   \n",
       "3  Full, Finished (Livable), Drain Tiled, Sump Pu...   \n",
       "4                               Walkout, Drain Tiled   \n",
       "\n",
       "                         DININGROOMDESCRIPTION  \n",
       "0         Informal Dining Room, Eat In Kitchen  \n",
       "1    Informal Dining Room, Kitchen/Dining Room  \n",
       "2    Informal Dining Room, Kitchen/Dining Room  \n",
       "3  Separate/Formal Dining Room, Eat In Kitchen  \n",
       "4    Informal Dining Room, Kitchen/Dining Room  "
      ]
     },
     "execution_count": 30,
     "metadata": {},
     "output_type": "execute_result"
    }
   ],
   "source": [
    "# Sample the dataframe and convert to Pandas\n",
    "sample_df = df.select(*columns).sample(False, 0.1, 42 )\n",
    "pandas_df = sample_df.toPandas()\n",
    "\n",
    "pandas_df.head()"
   ]
  },
  {
   "cell_type": "code",
   "execution_count": 31,
   "metadata": {},
   "outputs": [
    {
     "data": {
      "text/html": [
       "<div>\n",
       "<style scoped>\n",
       "    .dataframe tbody tr th:only-of-type {\n",
       "        vertical-align: middle;\n",
       "    }\n",
       "\n",
       "    .dataframe tbody tr th {\n",
       "        vertical-align: top;\n",
       "    }\n",
       "\n",
       "    .dataframe thead th {\n",
       "        text-align: right;\n",
       "    }\n",
       "</style>\n",
       "<table border=\"1\" class=\"dataframe\">\n",
       "  <thead>\n",
       "    <tr style=\"text-align: right;\">\n",
       "      <th></th>\n",
       "      <th>APPLIANCES</th>\n",
       "      <th>BACKONMARKETDATE</th>\n",
       "      <th>ROOMFAMILYCHAR</th>\n",
       "      <th>BASEMENT</th>\n",
       "      <th>DININGROOMDESCRIPTION</th>\n",
       "    </tr>\n",
       "  </thead>\n",
       "  <tbody>\n",
       "    <tr>\n",
       "      <th>0</th>\n",
       "      <td>False</td>\n",
       "      <td>True</td>\n",
       "      <td>False</td>\n",
       "      <td>False</td>\n",
       "      <td>False</td>\n",
       "    </tr>\n",
       "    <tr>\n",
       "      <th>1</th>\n",
       "      <td>False</td>\n",
       "      <td>True</td>\n",
       "      <td>False</td>\n",
       "      <td>False</td>\n",
       "      <td>False</td>\n",
       "    </tr>\n",
       "    <tr>\n",
       "      <th>2</th>\n",
       "      <td>False</td>\n",
       "      <td>True</td>\n",
       "      <td>False</td>\n",
       "      <td>False</td>\n",
       "      <td>False</td>\n",
       "    </tr>\n",
       "    <tr>\n",
       "      <th>3</th>\n",
       "      <td>False</td>\n",
       "      <td>True</td>\n",
       "      <td>False</td>\n",
       "      <td>False</td>\n",
       "      <td>False</td>\n",
       "    </tr>\n",
       "    <tr>\n",
       "      <th>4</th>\n",
       "      <td>False</td>\n",
       "      <td>True</td>\n",
       "      <td>False</td>\n",
       "      <td>False</td>\n",
       "      <td>False</td>\n",
       "    </tr>\n",
       "  </tbody>\n",
       "</table>\n",
       "</div>"
      ],
      "text/plain": [
       "   APPLIANCES  BACKONMARKETDATE  ROOMFAMILYCHAR  BASEMENT  \\\n",
       "0       False              True           False     False   \n",
       "1       False              True           False     False   \n",
       "2       False              True           False     False   \n",
       "3       False              True           False     False   \n",
       "4       False              True           False     False   \n",
       "\n",
       "   DININGROOMDESCRIPTION  \n",
       "0                  False  \n",
       "1                  False  \n",
       "2                  False  \n",
       "3                  False  \n",
       "4                  False  "
      ]
     },
     "execution_count": 31,
     "metadata": {},
     "output_type": "execute_result"
    }
   ],
   "source": [
    "# Convert all values to T/F (True/False)\n",
    "tf_df = pandas_df.isnull()\n",
    "tf_df.head()"
   ]
  },
  {
   "cell_type": "code",
   "execution_count": 32,
   "metadata": {},
   "outputs": [
    {
     "data": {
      "image/png": "[encoded data removed]",
      "text/plain": [
       "<Figure size 640x480 with 2 Axes>"
      ]
     },
     "metadata": {},
     "output_type": "display_data"
    }
   ],
   "source": [
    "# Plot it\n",
    "sns.heatmap(tf_df)\n",
    "plt.xticks(rotation=90, fontsize=10)\n",
    "plt.yticks(rotation=0, fontsize=10)\n",
    "plt.show()"
   ]
  },
  {
   "cell_type": "markdown",
   "metadata": {},
   "source": [
    "#### Imputing Missing Data"
   ]
  },
  {
   "cell_type": "code",
   "execution_count": 33,
   "metadata": {},
   "outputs": [
    {
     "data": {
      "text/plain": [
       "0"
      ]
     },
     "execution_count": 33,
     "metadata": {},
     "output_type": "execute_result"
    }
   ],
   "source": [
    "# Count missing rows\n",
    "missing = df.where(df['PDOM'].isNull()).count()\n",
    "missing"
   ]
  },
  {
   "cell_type": "code",
   "execution_count": 34,
   "metadata": {},
   "outputs": [
    {
     "data": {
      "text/plain": [
       "20.607923218296918"
      ]
     },
     "execution_count": 34,
     "metadata": {},
     "output_type": "execute_result"
    }
   ],
   "source": [
    "col_mean = df.agg({'PDOM': 'mean'}).collect()[0][0]\n",
    "col_mean"
   ]
  },
  {
   "cell_type": "code",
   "execution_count": 35,
   "metadata": {},
   "outputs": [
    {
     "data": {
      "text/plain": [
       "DataFrame[MLSID: string, streetaddress: string, STREETNAME: string, PostalCode: int, StateOrProvince: string, City: string, SalesClosePrice: int, LISTDATE: string, LISTPRICE: int, LISTTYPE: string, OriginalListPrice: int, PricePerTSFT: double, FOUNDATIONSIZE: int, FENCE: string, MapLetter: string, SchoolDistrictNumber: string, DAYSONMARKET: int, offmarketdate: string, Fireplaces: int, RoomArea4: string, roomtype: string, ROOF: string, RoomFloor4: string, PotentialShortSale: string, PoolDescription: string, PDOM: int, GarageDescription: string, SQFTABOVEGROUND: int, Taxes: int, RoomFloor1: string, RoomArea1: string, TAXWITHASSESSMENTS: double, TAXYEAR: int, LivingArea: int, UNITNUMBER: string, YEARBUILT: int, ZONING: string, STYLE: string, ACRES: double, CoolingDescription: string, APPLIANCES: string, BACKONMARKETDATE: double, ROOMFAMILYCHAR: string, RoomArea3: string, EXTERIOR: string, RoomFloor3: string, RoomFloor2: string, RoomArea2: string, DiningRoomDescription: string, BASEMENT: string, BathsFull: int, BathsHalf: int, BATHQUARTER: int, BATHSTHREEQUARTER: int, Class: string, BATHSTOTAL: int, BATHDESC: string, RoomArea5: string, RoomFloor5: string, RoomArea6: string, RoomFloor6: string, RoomArea7: string, RoomFloor7: string, RoomArea8: string, RoomFloor8: string, Bedrooms: int, SQFTBELOWGROUND: int, AssumableMortgage: string, AssociationFee: int, ASSESSMENTPENDING: string, AssessedValuation: double, percentagescaleddays: double, scaled_FOUNDATIONSIZE: double, scaled_DAYSONMARKET: double, scaled_FIREPLACES: double, Reflect_YearBuilt: int, adj_yearbuilt: double]"
      ]
     },
     "execution_count": 35,
     "metadata": {},
     "output_type": "execute_result"
    }
   ],
   "source": [
    "df.fillna(col_mean, subset=['PDOM'])"
   ]
  },
  {
   "cell_type": "markdown",
   "metadata": {},
   "source": [
    "#### Calculate Missing Percents"
   ]
  },
  {
   "cell_type": "code",
   "execution_count": 36,
   "metadata": {},
   "outputs": [],
   "source": [
    "def column_dropper(df, threshold):\n",
    "  # Takes a dataframe and threshold for missing values. Returns a dataframe.\n",
    "  total_records = df.count()\n",
    "  for col in df.columns:\n",
    "    # Calculate the percentage of missing values\n",
    "    missing = df.where(df[col].isNull()).count()\n",
    "    missing_percent = missing / total_records\n",
    "    # Drop column if percent of missing is more than threshold\n",
    "    if missing_percent > threshold:\n",
    "      df = df.drop(col)\n",
    "  return df\n",
    "\n",
    "# Drop columns that are more than 60% missing\n",
    "df = column_dropper(df, .6)"
   ]
  },
  {
   "cell_type": "markdown",
   "metadata": {},
   "source": [
    "### Getting More Data"
   ]
  },
  {
   "cell_type": "markdown",
   "metadata": {},
   "source": [
    "#### A Dangerous Join"
   ]
  },
  {
   "cell_type": "code",
   "execution_count": null,
   "metadata": {},
   "outputs": [],
   "source": [
    "# Cast data types\n",
    "walk_df = walk_df.withColumn('longitude', walk_df['longitude'].cast('double'))\n",
    "walk_df = walk_df.withColumn('longitude', walk_df['longitude'].cast('double'))\n",
    "\n",
    "# Round precision\n",
    "df = df.withColumn('longitude', round('longitude', 5))\n",
    "df = df.withColumn('latitude', round('latitude', 5))\n",
    "\n",
    "# Create join condition\n",
    "condition = [walk_df['longitude'] == df['longitude'], walk_df['latitude'] == df['latitude']]\n",
    "\n",
    "# Join the dataframes together\n",
    "join_df = df.join(walk_df, on=condition, how='left')\n",
    "# Count non-null records from new field\n",
    "print(join_df.where(~join_df['walkscore'].isNull()).count())"
   ]
  },
  {
   "cell_type": "markdown",
   "metadata": {},
   "source": [
    "#### Spark SQL Join"
   ]
  },
  {
   "cell_type": "code",
   "execution_count": null,
   "metadata": {},
   "outputs": [],
   "source": [
    "# Register dataframes as tables\n",
    "df.createOrReplaceTempView('df')\n",
    "walk_df.createOrReplaceTempView('walk_df')\n",
    "\n",
    "# SQL to join dataframes\n",
    "join_sql = \t\"\"\"\n",
    "\t\t\tSELECT \n",
    "\t\t\t\t*\n",
    "\t\t\tFROM df\n",
    "\t\t\tLEFT JOIN walk_df\n",
    "\t\t\tON df.longitude = walk_df.longitude\n",
    "\t\t\tAND df.latitude = walk_df.latitude\n",
    "\t\t\t\"\"\"\n",
    "# Perform sql join\n",
    "joined_df = spark.sql(join_sql)"
   ]
  },
  {
   "cell_type": "markdown",
   "metadata": {},
   "source": [
    "#### Checking for Bad Joins"
   ]
  },
  {
   "cell_type": "code",
   "execution_count": null,
   "metadata": {},
   "outputs": [],
   "source": [
    "# Join on mismatched keys precision \n",
    "wrong_prec_cond = [df_orig['longitude'] == walk_df['longitude'], df_orig['latitude'] == walk_df['latitude']]\n",
    "wrong_prec_df = df_orig.join(walk_df, on=wrong_prec_cond, how='left')\n",
    "\n",
    "# Compare bad join to the correct one\n",
    "print(wrong_prec_df.where(wrong_prec_df['walkscore'].isNull()).count())\n",
    "print(correct_join_df.where(correct_join_df['walkscore'].isNull()).count())\n",
    "\n",
    "# Create a join on too few keys\n",
    "few_keys_cond = [df['longitude'] == walk_df['longitude']]\n",
    "few_keys_df = df.join(walk_df, on=few_keys_cond, how='left')"
   ]
  },
  {
   "cell_type": "markdown",
   "metadata": {},
   "source": [
    "## Feature Engineering with PySpark"
   ]
  },
  {
   "cell_type": "markdown",
   "metadata": {},
   "source": [
    "### Feature Generation"
   ]
  },
  {
   "cell_type": "markdown",
   "metadata": {},
   "source": [
    "#### Differences"
   ]
  },
  {
   "cell_type": "code",
   "execution_count": 38,
   "metadata": {},
   "outputs": [
    {
     "name": "stdout",
     "output_type": "stream",
     "text": [
      "Corr of ACRES vs SALESCLOSEPRICE: 0.21498966412798348\n",
      "Corr of FOUNDATIONSIZE vs SALESCLOSEPRICE: 0.5668477240931833\n",
      "Corr of YARD_SIZE vs SALESCLOSEPRICE: 0.20337519509231158\n"
     ]
    }
   ],
   "source": [
    "# Lot size in square feet\n",
    "acres_to_sqfeet = 43560\n",
    "df = df.withColumn('LOT_SIZE_SQFT', df['ACRES'] * acres_to_sqfeet)\n",
    "\n",
    "# Create new column YARD_SIZE\n",
    "df = df.withColumn('YARD_SIZE', df['LOT_SIZE_SQFT'] - df['FOUNDATIONSIZE'])\n",
    "\n",
    "# Corr of ACRES vs SALESCLOSEPRICE\n",
    "print(\"Corr of ACRES vs SALESCLOSEPRICE: \" + str(df.corr('ACRES', 'SALESCLOSEPRICE')))\n",
    "# Corr of FOUNDATIONSIZE vs SALESCLOSEPRICE\n",
    "print(\"Corr of FOUNDATIONSIZE vs SALESCLOSEPRICE: \" + str(df.corr('FOUNDATIONSIZE', 'SALESCLOSEPRICE')))\n",
    "# Corr of YARD_SIZE vs SALESCLOSEPRICE\n",
    "print(\"Corr of YARD_SIZE vs SALESCLOSEPRICE: \" + str(df.corr('YARD_SIZE', 'SALESCLOSEPRICE')))"
   ]
  },
  {
   "cell_type": "markdown",
   "metadata": {},
   "source": [
    "#### Ratios"
   ]
  },
  {
   "cell_type": "code",
   "execution_count": 39,
   "metadata": {},
   "outputs": [
    {
     "name": "stdout",
     "output_type": "stream",
     "text": [
      "+-----------------+---------+----------------+\n",
      "|ASSESSEDVALUATION|LISTPRICE|ASSESSED_TO_LIST|\n",
      "+-----------------+---------+----------------+\n",
      "|              0.0|   139900|             0.0|\n",
      "|              0.0|   210000|             0.0|\n",
      "|              0.0|   225000|             0.0|\n",
      "|              0.0|   230000|             0.0|\n",
      "|              0.0|   239900|             0.0|\n",
      "+-----------------+---------+----------------+\n",
      "only showing top 5 rows\n",
      "\n",
      "+--------------------+-----+---------+\n",
      "|         TAX_TO_LIST|TAXES|LISTPRICE|\n",
      "+--------------------+-----+---------+\n",
      "|0.013280914939242315| 1858|   139900|\n",
      "| 0.00780952380952381| 1640|   210000|\n",
      "|0.010622222222222222| 2390|   225000|\n",
      "|0.009330434782608695| 2146|   230000|\n",
      "|0.008378491037932471| 2010|   239900|\n",
      "+--------------------+-----+---------+\n",
      "only showing top 5 rows\n",
      "\n",
      "+------------------+--------+----------+\n",
      "|      BED_TO_BATHS|BEDROOMS|BATHSTOTAL|\n",
      "+------------------+--------+----------+\n",
      "|               1.5|       3|         2|\n",
      "|1.3333333333333333|       4|         3|\n",
      "|               2.0|       2|         1|\n",
      "|               1.0|       2|         2|\n",
      "|               1.5|       3|         2|\n",
      "+------------------+--------+----------+\n",
      "only showing top 5 rows\n",
      "\n"
     ]
    }
   ],
   "source": [
    "# ASSESSED_TO_LIST\n",
    "df = df.withColumn('ASSESSED_TO_LIST', df['ASSESSEDVALUATION']/df['LISTPRICE'])\n",
    "df[['ASSESSEDVALUATION', 'LISTPRICE', 'ASSESSED_TO_LIST']].show(5)\n",
    "# TAX_TO_LIST\n",
    "df = df.withColumn('TAX_TO_LIST', df['TAXES']/df['LISTPRICE'])\n",
    "df[['TAX_TO_LIST', 'TAXES', 'LISTPRICE']].show(5)\n",
    "# BED_TO_BATHS\n",
    "df = df.withColumn('BED_TO_BATHS', df['BEDROOMS']/ df['BATHSTOTAL'])\n",
    "df[['BED_TO_BATHS', 'BEDROOMS', 'BATHSTOTAL']].show(5)"
   ]
  },
  {
   "cell_type": "markdown",
   "metadata": {},
   "source": [
    "#### Deeper Features"
   ]
  },
  {
   "cell_type": "code",
   "execution_count": 41,
   "metadata": {},
   "outputs": [
    {
     "name": "stdout",
     "output_type": "stream",
     "text": [
      "+-------+-------------------+\n",
      "|summary| BATHS_PER_1000SQFT|\n",
      "+-------+-------------------+\n",
      "|  count|               4897|\n",
      "|   mean| 1.4383520975353432|\n",
      "| stddev| 14.276603528584948|\n",
      "|    min|0.39123630672926446|\n",
      "|    max|             1000.0|\n",
      "+-------+-------------------+\n",
      "\n"
     ]
    }
   ],
   "source": [
    "from scipy import stats\n",
    "def r2(x, y):\n",
    "    return stats.pearsonr(x, y)[0] ** 2\n",
    "\n",
    "# Create new feature by adding two features together\n",
    "df = df.withColumn('Total_SQFT', df['SQFTBELOWGROUND'] + df['SQFTABOVEGROUND'])\n",
    "\n",
    "# Create additional new feature using previously created feature\n",
    "df = df.withColumn('BATHS_PER_1000SQFT', df['BATHSTOTAL'] / (df['Total_SQFT'] / 1000))\n",
    "df[['BATHS_PER_1000SQFT']].describe().show()\n",
    "\n",
    "# Sample and create pandas dataframe\n",
    "pandas_df = df.sample(False, 0.5, 0).toPandas()\n",
    "\n",
    "# Linear model plots\n",
    "sns.jointplot(x='Total_SQFT', y='SALESCLOSEPRICE', data=pandas_df, kind=\"reg\", stat_func=r2)\n",
    "plt.show()\n",
    "sns.jointplot(x='BATHS_PER_1000SQFT', y='SALESCLOSEPRICE', data=pandas_df, kind=\"reg\", stat_func=r2)\n",
    "plt.show()"
   ]
  },
  {
   "cell_type": "markdown",
   "metadata": {},
   "source": [
    "### Time Features"
   ]
  },
  {
   "cell_type": "markdown",
   "metadata": {},
   "source": [
    "#### Time Components"
   ]
  },
  {
   "cell_type": "code",
   "execution_count": null,
   "metadata": {},
   "outputs": [],
   "source": [
    "# Import needed functions\n",
    "from pyspark.sql.functions import to_date, dayofweek\n",
    "\n",
    "# Convert to date type\n",
    "df = df.withColumn('LISTDATE', to_date('LISTDATE'))\n",
    "\n",
    "# Get the day of the week\n",
    "df = df.withColumn('List_Day_of_Week', dayofweek('LISTDATE'))\n",
    "\n",
    "# Sample and convert to pandas dataframe\n",
    "sample_df = df.sample(False, .5, 42).toPandas()\n",
    "\n",
    "# Plot count plot of of day of week\n",
    "sns.countplot(x=\"List_Day_of_Week\", data=sample_df)\n",
    "plt.show()"
   ]
  },
  {
   "cell_type": "markdown",
   "metadata": {},
   "source": [
    "### Joining On Time Components"
   ]
  },
  {
   "cell_type": "code",
   "execution_count": null,
   "metadata": {},
   "outputs": [],
   "source": [
    "from pyspark.sql.functions import year\n",
    "\n",
    "# Initialize dataframes\n",
    "df = real_estate_df\n",
    "price_df = median_prices_df\n",
    "\n",
    "# Create year column\n",
    "df = df.withColumn('list_year', year('LISTDATE'))\n",
    "\n",
    "# Adjust year to match\n",
    "df = df.withColumn('report_year', (df['list_year'] - 1))\n",
    "\n",
    "# Create join condition\n",
    "condition = [df['CITY'] == price_df['City'], df['report_year'] == price_df['Year']]\n",
    "\n",
    "# Join the dataframes together\n",
    "df = df.join(price_df, on=condition, how='left')\n",
    "# Inspect that new columns are available\n",
    "df[['MedianHomeValue']].show()"
   ]
  },
  {
   "cell_type": "markdown",
   "metadata": {},
   "source": [
    "#### Date Math\n",
    "\n",
    "```python\n",
    "\n",
    "# Cast data type\n",
    "mort_df = mort_df.withColumn('DATE', to_date('DATE'))\n",
    "\n",
    "+----------+\n",
    "|      DATE|\n",
    "+----------+\n",
    "|2013-10-10|\n",
    "|2013-10-17|\n",
    "|2013-10-24|\n",
    "|2013-10-31|\n",
    "|2013-11-07|\n",
    "|2013-11-14|\n",
    "|2013-11-21|\n",
    "|2013-11-27|\n",
    "|2013-12-05|\n",
    "|2013-12-12|\n",
    "+----------+\n",
    "\n",
    "# Create window\n",
    "w = Window().orderBy(mort_df['DATE'])\n",
    "# Create lag column\n",
    "mort_df = mort_df.withColumn('DATE-1', lag('DATE', count=1).over(w))\n",
    "+----------+----------+\n",
    "|      DATE|    DATE-1|\n",
    "+----------+----------+\n",
    "|2013-10-10|      null|\n",
    "|2013-10-17|2013-10-10|\n",
    "|2013-10-24|2013-10-17|\n",
    "|2013-10-31|2013-10-24|\n",
    "|2013-11-07|2013-10-31|\n",
    "|2013-11-14|2013-11-07|\n",
    "|2013-11-21|2013-11-14|\n",
    "|2013-11-27|2013-11-21|\n",
    "|2013-12-05|2013-11-27|\n",
    "|2013-12-12|2013-12-05|\n",
    "+----------+----------+\n",
    "\n",
    "\n",
    "# Calculate difference between date columns\n",
    "mort_df = mort_df.withColumn('Days_Between_Report', datediff('DATE', 'DATE-1'))\n",
    "+----------+----------+-------------------+\n",
    "|      DATE|    DATE-1|Days_Between_Report|\n",
    "+----------+----------+-------------------+\n",
    "|2013-10-10|      null|               null|\n",
    "|2013-10-17|2013-10-10|                  7|\n",
    "|2013-10-24|2013-10-17|                  7|\n",
    "|2013-10-31|2013-10-24|                  7|\n",
    "|2013-11-07|2013-10-31|                  7|\n",
    "|2013-11-14|2013-11-07|                  7|\n",
    "|2013-11-21|2013-11-14|                  7|\n",
    "|2013-11-27|2013-11-21|                  6|\n",
    "|2013-12-05|2013-11-27|                  8|\n",
    "|2013-12-12|2013-12-05|                  7|\n",
    "+----------+----------+-------------------+\n",
    "\n",
    "```"
   ]
  },
  {
   "cell_type": "code",
   "execution_count": null,
   "metadata": {},
   "outputs": [],
   "source": [
    "from pyspark.sql.functions import lag, datediff, to_date\n",
    "from pyspark.sql.window import Window\n",
    "\n",
    "# Cast data type\n",
    "mort_df = mort_df.withColumn('DATE', to_date('DATE'))\n",
    "\n",
    "# Create window\n",
    "w = Window().orderBy(mort_df['DATE'])\n",
    "# Create lag column\n",
    "mort_df = mort_df.withColumn('DATE-1', lag('DATE', count=1).over(w))\n",
    "\n",
    "# Calculate difference between date columns\n",
    "mort_df = mort_df.withColumn('Days_Between_Report', datediff('DATE', 'DATE-1'))\n",
    "# Print results\n",
    "mort_df.select('Days_Between_Report').distinct().show()"
   ]
  },
  {
   "cell_type": "markdown",
   "metadata": {},
   "source": [
    "### Extracting Features"
   ]
  },
  {
   "cell_type": "markdown",
   "metadata": {},
   "source": [
    "#### Extracting Text to New Features\n",
    "\n",
    "```python\n",
    "+------------------------------------------------------------------+-------------------+\n",
    "|                                                 GARAGEDESCRIPTION|has_attached_garage|\n",
    "+------------------------------------------------------------------+-------------------+\n",
    "|                                                   Attached Garage|                  1|\n",
    "|           Attached Garage, Driveway - Asphalt, Garage Door Opener|                  1|\n",
    "|                                                   Attached Garage|                  1|\n",
    "|    Attached Garage, Detached Garage, Tuckunder, Driveway - Gravel|                  1|\n",
    "|           Attached Garage, Driveway - Asphalt, Garage Door Opener|                  1|\n",
    "|                               Attached Garage, Driveway - Asphalt|                  1|\n",
    "|           Attached Garage, Driveway - Asphalt, Garage Door Opener|                  1|\n",
    "|                                                   Attached Garage|                  1|\n",
    "|                                                   Attached Garage|                  1|\n",
    "|                                                   Attached Garage|                  1|\n",
    "|                                                   Attached Garage|                  1|\n",
    "|                                                   Attached Garage|                  1|\n",
    "|                                                   Attached Garage|                  1|\n",
    "|           Attached Garage, Driveway - Asphalt, Garage Door Opener|                  1|\n",
    "|Attached Garage, Tuckunder, Driveway - Asphalt, Garage Door Opener|                  1|\n",
    "|           Attached Garage, Driveway - Asphalt, Garage Door Opener|                  1|\n",
    "|           Attached Garage, Driveway - Asphalt, Garage Door Opener|                  1|\n",
    "|           Attached Garage, Driveway - Asphalt, Garage Door Opener|                  1|\n",
    "|           Attached Garage, Driveway - Asphalt, Garage Door Opener|                  1|\n",
    "|           Attached Garage, Driveway - Asphalt, Garage Door Opener|                  1|\n",
    "+------------------------------------------------------------------+-------------------+\n",
    "```"
   ]
  },
  {
   "cell_type": "code",
   "execution_count": null,
   "metadata": {},
   "outputs": [],
   "source": [
    "# Import needed functions\n",
    "from pyspark.sql.functions import when\n",
    "\n",
    "# Create boolean conditions for string matches\n",
    "has_attached_garage = df['GARAGEDESCRIPTION'].like('%Attached Garage%')\n",
    "has_detached_garage = df['GARAGEDESCRIPTION'].like('%Detached Garage%')\n",
    "\n",
    "# Conditional value assignment \n",
    "df = df.withColumn('has_attached_garage', (when(has_attached_garage, 1)\n",
    "                                          .when(has_detached_garage, 0)\n",
    "                                          .otherwise(None)))\n",
    "\n",
    "# Inspect results\n",
    "df[['GARAGEDESCRIPTION', 'has_attached_garage']].show(truncate=100)"
   ]
  },
  {
   "cell_type": "markdown",
   "metadata": {},
   "source": [
    "#### Splitting & Exploding\n",
    "\n",
    "```python\n",
    "\n",
    "GARAGEDESCRIPTION -> garage_list (using split)\n",
    "+--------------------------------------------------+--------------------------------------------------+\n",
    "|                                 GARAGEDESCRIPTION|                                       garage_list|\n",
    "+--------------------------------------------------+--------------------------------------------------+\n",
    "|      Attached Garage, Driveway - Asphalt, Secured|    [Attached Garage, Driveway - Asphalt, Secured]|\n",
    "|Attached Garage, Driveway - Asphalt, More Parki...|[Attached Garage, Driveway - Asphalt, More Park...|\n",
    "|            Uncovered/Open, On-Street Parking Only|          [Uncovered/Open, On-Street Parking Only]|\n",
    "|Attached Garage, Tuckunder, Assigned, Garage Do...|[Attached Garage, Tuckunder, Assigned, Garage D...|\n",
    "\n",
    "garage_list -> ex_garage_list (using explode)\n",
    "+--------------------------------------------------+-------------------+\n",
    "|                                       garage_list|     ex_garage_list|\n",
    "+--------------------------------------------------+-------------------+\n",
    "|                                 [Attached Garage]|    Attached Garage|\n",
    "|[Attached Garage, Driveway - Asphalt, Garage Do...|    Attached Garage|\n",
    "|[Attached Garage, Driveway - Asphalt, Garage Do...| Driveway - Asphalt|\n",
    "|[Attached Garage, Driveway - Asphalt, Garage Do...| Garage Door Opener|\n",
    "|                                 [Attached Garage]|    Attached Garage|\n",
    "```"
   ]
  },
  {
   "cell_type": "code",
   "execution_count": null,
   "metadata": {},
   "outputs": [],
   "source": [
    "# Import needed functions\n",
    "from pyspark.sql.functions import split, explode\n",
    "\n",
    "# Convert string to list-like array\n",
    "df = df.withColumn('garage_list', split(df['GARAGEDESCRIPTION'], ', '))\n",
    "\n",
    "# Explode the values into new records\n",
    "ex_df = df.withColumn('ex_garage_list', explode(df['garage_list']))\n",
    "\n",
    "# Inspect the values\n",
    "ex_df[['ex_garage_list']].distinct().show(100, truncate=50)"
   ]
  },
  {
   "cell_type": "markdown",
   "metadata": {},
   "source": [
    "#### Pivot and Join"
   ]
  },
  {
   "cell_type": "code",
   "execution_count": null,
   "metadata": {},
   "outputs": [],
   "source": [
    "from pyspark.sql.functions import coalesce, first\n",
    "\n",
    "# Pivot \n",
    "piv_df = ex_df.groupBy('NO').pivot('ex_garage_list').agg(coalesce(first('constant_val')))\n",
    "\n",
    "# Join the dataframes together and fill null\n",
    "joined_df = df.join(piv_df, on='NO', how='left')\n",
    "\n",
    "# Columns to zero fill\n",
    "zfill_cols = piv_df.columns\n",
    "\n",
    "# Zero fill the pivoted values\n",
    "zfilled_df = joined_df.fillna(0, subset=zfill_cols)"
   ]
  },
  {
   "cell_type": "markdown",
   "metadata": {},
   "source": [
    "### Binarizing, Bucketing & Encoding"
   ]
  },
  {
   "cell_type": "markdown",
   "metadata": {},
   "source": [
    "#### Binarizing day of week"
   ]
  },
  {
   "cell_type": "code",
   "execution_count": null,
   "metadata": {},
   "outputs": [],
   "source": [
    "# Import transformer\n",
    "from pyspark.ml.feature import Binarizer\n",
    "\n",
    "# Create the transformer\n",
    "binarizer = Binarizer(threshold=5, inputCol='List_Day_of_Week', outputCol='Listed_On_Weekend')\n",
    "\n",
    "# Apply the transformation to df\n",
    "df = binarizer.transform(df)\n",
    "\n",
    "# Verify transformation\n",
    "df[['List_Day_of_Week', 'Listed_On_Weekend']].show()"
   ]
  },
  {
   "cell_type": "markdown",
   "metadata": {},
   "source": [
    "#### Bucketing"
   ]
  },
  {
   "cell_type": "code",
   "execution_count": null,
   "metadata": {},
   "outputs": [],
   "source": [
    "from pyspark.ml.feature import Bucketizer\n",
    "\n",
    "# Plot distribution of sample_df\n",
    "sns.distplot(sample_df, axlabel='BEDROOMS')\n",
    "plt.show()\n",
    "\n",
    "# Create the bucket splits and bucketizer\n",
    "splits = [0, 1, 2, 3, 4, 5, float('Inf')]\n",
    "buck = Bucketizer(splits=splits, inputCol='BEDROOMS', outputCol='bedrooms')\n",
    "\n",
    "# Apply the transformation to df: df_bucket\n",
    "df_bucket = buck.transform(df)\n",
    "\n",
    "# Display results\n",
    "df_bucket[['BEDROOMS', 'bedrooms']].show()"
   ]
  },
  {
   "cell_type": "markdown",
   "metadata": {},
   "source": [
    "#### One-hot encoding"
   ]
  },
  {
   "cell_type": "code",
   "execution_count": null,
   "metadata": {},
   "outputs": [],
   "source": [
    "from pyspark.ml.feature import OneHotEncoder, StringIndexer\n",
    "\n",
    "# Map strings to numbers with string indexer\n",
    "string_indexer = StringIndexer(inputCol='SCHOOLDISTRICTNUMBER', outputCol='School_Index')\n",
    "indexed_df = string_indexer.fit(df).transform(df)\n",
    "\n",
    "# Onehot encode indexed values\n",
    "encoder = OneHotEncoder(inputCol='School_Index', outputCol='School_Vec')\n",
    "encoded_df = encoder.transform(indexed_df)\n",
    "\n",
    "# Inspect the transformation steps\n",
    "encoded_df[['SCHOOLDISTRICTNUMBER', 'School_Index', 'School_Vec']].show(truncate=100)"
   ]
  },
  {
   "cell_type": "markdown",
   "metadata": {},
   "source": [
    "## Building a Model"
   ]
  },
  {
   "cell_type": "markdown",
   "metadata": {},
   "source": [
    "### Choosing the algorithm"
   ]
  },
  {
   "cell_type": "code",
   "execution_count": 43,
   "metadata": {},
   "outputs": [
    {
     "name": "stdout",
     "output_type": "stream",
     "text": [
      "+-----+--------------------+----------+----------+---------------+----------------+---------------+--------+---------+---------------+-----------------+------------+--------------+----------+---------+--------------------+------------+---------------+----------+---------+--------------------+--------------------+----------+------------------+----+--------------------+---------------+-----+----------+---------+------------------+-------+----------+---------+------------------+--------------------+-----+------------------+--------------------+--------------+---------+------------+----------+----------+---------+---------------------+--------------------+---------+---------+-----------+-----------------+-----+----------+--------------------+---------+----------+---------+----------+---------+----------+--------+---------------+--------------+-----------------+-----------------+--------------------+---------------------+--------------------+------------------+-----------------+-------------------+------------------+------------------+----------------+--------------------+------------------+----------+------------------+----------------+\n",
      "|MLSID|       streetaddress|STREETNAME|PostalCode|StateOrProvince|            City|SalesClosePrice|LISTDATE|LISTPRICE|       LISTTYPE|OriginalListPrice|PricePerTSFT|FOUNDATIONSIZE|     FENCE|MapLetter|SchoolDistrictNumber|DAYSONMARKET|  offmarketdate|Fireplaces|RoomArea4|            roomtype|                ROOF|RoomFloor4|PotentialShortSale|PDOM|   GarageDescription|SQFTABOVEGROUND|Taxes|RoomFloor1|RoomArea1|TAXWITHASSESSMENTS|TAXYEAR|LivingArea|YEARBUILT|            ZONING|               STYLE|ACRES|CoolingDescription|          APPLIANCES|ROOMFAMILYCHAR|RoomArea3|    EXTERIOR|RoomFloor3|RoomFloor2|RoomArea2|DiningRoomDescription|            BASEMENT|BathsFull|BathsHalf|BATHQUARTER|BATHSTHREEQUARTER|Class|BATHSTOTAL|            BATHDESC|RoomArea5|RoomFloor5|RoomArea6|RoomFloor6|RoomArea7|RoomFloor7|Bedrooms|SQFTBELOWGROUND|AssociationFee|ASSESSMENTPENDING|AssessedValuation|percentagescaleddays|scaled_FOUNDATIONSIZE| scaled_DAYSONMARKET| scaled_FIREPLACES|Reflect_YearBuilt|      adj_yearbuilt|     LOT_SIZE_SQFT|         YARD_SIZE|ASSESSED_TO_LIST|         TAX_TO_LIST|      BED_TO_BATHS|Total_SQFT|BATHS_PER_1000SQFT|List_Day_of_Week|\n",
      "+-----+--------------------+----------+----------+---------------+----------------+---------------+--------+---------+---------------+-----------------+------------+--------------+----------+---------+--------------------+------------+---------------+----------+---------+--------------------+--------------------+----------+------------------+----+--------------------+---------------+-----+----------+---------+------------------+-------+----------+---------+------------------+--------------------+-----+------------------+--------------------+--------------+---------+------------+----------+----------+---------+---------------------+--------------------+---------+---------+-----------+-----------------+-----+----------+--------------------+---------+----------+---------+----------+---------+----------+--------+---------------+--------------+-----------------+-----------------+--------------------+---------------------+--------------------+------------------+-----------------+-------------------+------------------+------------------+----------------+--------------------+------------------+----------+------------------+----------------+\n",
      "| RMLS|11511 Stillwater ...|Stillwater|     55042|             MN|LELM - Lake Elmo|         143000|    null|   139900|Exclusive Right|           139900|    145.9184|           980|     Other|       C4|    834 - Stillwater|          10| 7/30/2017 0:00|         0|  12 x  9|Living Room, Dini...|                null|      Main|                No|  10|     Attached Garage|            980| 1858|      Main|  16 x 13|            1858.0|   2017|       980|     1950|Residential-Single|      (SF) One Story| 1.28|           Central|Range, Dishwasher...|          null|     null|       Vinyl|      null|      Main|   9 x  7|       Eat In Kitchen|                Full|        1|        1|          0|                0|   SF|         2|Main Floor 3/4 Ba...|  13 x 11|      Main|  10 x 10|      Main|     null|      null|       3|              0|             0|          Unknown|              0.0|   44.44444444444445|  0.25824320759694014|0.044444444444444446|               0.0|               69|0.23617733727628992|           55756.8|           54776.8|             0.0|0.013280914939242315|               1.5|       980|2.0408163265306123|            null|\n",
      "| RMLS|     11200 31st St N|      31st|     55042|             MN|LELM - Lake Elmo|         190000|    null|   210000|Exclusive Right|           210000|     85.2783|          1144|      null|       C1|    834 - Stillwater|           4|10/13/2017 0:00|         0|    11x11|Living Room, Dini...|Asphalt Shingles,...|      Main|                No|   4|Attached Garage, ...|           1268| 1640|      Main|    22x14|            1640.0|   2017|      2228|     1971|Residential-Single|(SF) Split Entry ...| 0.32|           Central|Range, Microwave,...|   Lower Level|    22x14|       Vinyl|     Lower|      Main|    11x12| Informal Dining R...|Full, Partial Fin...|        1|        0|          0|                2|   SF|         3|Main Floor Full B...|    15x11|      Main|    14x11|      Main|    10x11|      Main|       4|            960|             0|          Unknown|              0.0|   7.111111111111111|   0.3015035610656819|0.017777777777777778|               0.0|               48| 0.2583177668073288|           13939.2|           12795.2|             0.0| 0.00780952380952381|1.3333333333333333|      2228|1.3464991023339317|            null|\n",
      "| RMLS|8583 Stillwater B...|Stillwater|     55042|             MN|LELM - Lake Elmo|         225000|    null|   225000|Exclusive Right|           225000|    204.1742|          1102|      None|       E1|622 - North St Pa...|          28| 7/24/2017 0:00|         0|    14x12|Living Room, Dini...|                null|      Main|                No|  28|     Attached Garage|           1102| 2390|      Main|    20x13|            2390.0|   2016|      1102|     1949|Residential-Single|      (SF) One Story|0.822|            Window|Range, Microwave,...|          null|     null|Cement Board|      null|      Main|    18x11| Informal Dining Room|Full, Crawl Space...|        1|        0|          0|                0|   SF|         1|Main Floor Full Bath|    12x12|      Main|    12x12|      Main|     null|      null|       2|              0|             0|               No|              0.0|   348.4444444444444|  0.29042469005539434| 0.12444444444444444|               0.0|               70|0.23537745555238682|          35806.32|          34704.32|             0.0|0.010622222222222222|               2.0|      1102|0.9074410163339383|            null|\n",
      "| RMLS|      9350 31st St N|      31st|     55042|             MN|LELM - Lake Elmo|         265000|    null|   230000|Exclusive Right|           230000|    162.3775|           959|      None|       A1|    834 - Stillwater|          19| 9/13/2017 0:00|         1|    12X16|Living Room, Dini...|Asphalt Shingles,...|      Main|                No|  19|Attached Garage, ...|           1284| 2146|      null|     null|            2146.0|   2017|      1632|     1960|Residential-Single|      (SF) One Story| 0.94|           Central|Range, Washer, Dryer|    Main Level|    25X13|      Stucco|      Main|      Main|    20X11|                 null|Full, Partial Fin...|        1|        1|          0|                0|   SF|         2|Main Floor Full B...|    13X11|      Main|    13X10|      Main|     null|      null|       2|            348|             0|          Unknown|              0.0|  160.44444444444446|  0.25270377209179634| 0.08444444444444445|0.3333333333333333|               59| 0.2452460618098304|40946.399999999994|39987.399999999994|             0.0|0.009330434782608695|               1.0|      1632|1.2254901960784315|            null|\n",
      "| RMLS|   2915 Inwood Ave N|    Inwood|     55042|             MN|LELM - Lake Elmo|         249900|    null|   239900|Exclusive Right|           239900|    121.7836|          1026|Chain Link|       E1|622 - North St Pa...|          21| 10/3/2017 0:00|         1|    12x10|Living Room, Dini...|Asphalt Shingles,...|      Main|                No|  21|Attached Garage, ...|           1026| 2010|      Main|    22x14|            2010.0|   2017|      2052|     1978|Residential-Single|(SF) Split Entry ...|  0.0|           Central|Range, Exhaust Fa...|   Lower Level|    22x18|       Vinyl|     Lower|      Main|    12x10| Breakfast Area, K...|Walkout, Full, Fi...|        1|        0|          0|                1|   SF|         2|Main Floor Full B...|    13x11|      Main|    13x12|      Main|    14x13|     Lower|       3|           1026|             0|               No|              0.0|  196.00000000000003|    0.270377209179636| 0.09333333333333334|0.3333333333333333|               41|  0.269282508064391|               0.0|           -1026.0|             0.0|0.008378491037932471|               1.5|      2052|0.9746588693957114|            null|\n",
      "+-----+--------------------+----------+----------+---------------+----------------+---------------+--------+---------+---------------+-----------------+------------+--------------+----------+---------+--------------------+------------+---------------+----------+---------+--------------------+--------------------+----------+------------------+----+--------------------+---------------+-----+----------+---------+------------------+-------+----------+---------+------------------+--------------------+-----+------------------+--------------------+--------------+---------+------------+----------+----------+---------+---------------------+--------------------+---------+---------+-----------+-----------------+-----+----------+--------------------+---------+----------+---------+----------+---------+----------+--------+---------------+--------------+-----------------+-----------------+--------------------+---------------------+--------------------+------------------+-----------------+-------------------+------------------+------------------+----------------+--------------------+------------------+----------+------------------+----------------+\n",
      "only showing top 5 rows\n",
      "\n"
     ]
    }
   ],
   "source": [
    "df.show(5)"
   ]
  },
  {
   "cell_type": "markdown",
   "metadata": {},
   "source": [
    "#### Creating Time Splits"
   ]
  },
  {
   "cell_type": "code",
   "execution_count": null,
   "metadata": {},
   "outputs": [],
   "source": [
    "def train_test_split_date(df, split_col, test_days=45):\n",
    "  \"\"\"Calculate the date to split test and training sets\"\"\"\n",
    "  # Find how many days our data spans\n",
    "  max_date = df.agg({split_col: 'max'}).collect()[0][0]\n",
    "  min_date = df.agg({split_col: 'min'}).collect()[0][0]\n",
    "  # Subtract an integer number of days from the last date in dataset\n",
    "  split_date = max_date - timedelta(days=test_days)\n",
    "  return split_date\n",
    "\n",
    "# Find the date to use in spitting test and train\n",
    "split_date = train_test_split_date(df, 'OFFMKTDATE')\n",
    "\n",
    "# Create Sequential Test and Training Sets\n",
    "train_df = df.where(df['OFFMKTDATE'] < split_date) \n",
    "test_df = df.where(df['OFFMKTDATE'] >= split_date).where(df['LISTDATE'] <= split_date) "
   ]
  },
  {
   "cell_type": "markdown",
   "metadata": {},
   "source": [
    "#### Adjusting Time Features"
   ]
  },
  {
   "cell_type": "code",
   "execution_count": null,
   "metadata": {},
   "outputs": [],
   "source": [
    "from pyspark.sql.functions import datediff, to_date, lit\n",
    "\n",
    "split_date = to_date(lit('2017-12-10'))\n",
    "# Create Sequential Test set\n",
    "test_df = df.where(df['OFFMKTDATE'] >= split_date).where(df['LISTDATE'] <= split_date)\n",
    "\n",
    "# Create a copy of DAYSONMARKET to review later\n",
    "test_df = test_df.withColumn('DAYSONMARKET_Original', test_df['DAYSONMARKET'])\n",
    "\n",
    "# Recalculate DAYSONMARKET from what we know on our split date\n",
    "test_df = test_df.withColumn('DAYSONMARKET', datediff(split_date, 'LISTDATE'))\n",
    "\n",
    "# Review the difference\n",
    "test_df[['LISTDATE', 'OFFMKTDATE', 'DAYSONMARKET_Original', 'DAYSONMARKET']].show()"
   ]
  },
  {
   "cell_type": "markdown",
   "metadata": {},
   "source": [
    "### Feature Engineering Assumptions for Random Forest"
   ]
  },
  {
   "cell_type": "markdown",
   "metadata": {},
   "source": [
    "#### Dropping Columns with Low Observations"
   ]
  },
  {
   "cell_type": "code",
   "execution_count": null,
   "metadata": {},
   "outputs": [],
   "source": [
    "obs_threshold = 30\n",
    "cols_to_remove = list()\n",
    "# Inspect first 10 binary columns in list\n",
    "for col in binary_cols[0:10]:\n",
    "  # Count the number of 1 values in the binary column\n",
    "  obs_count = df.agg({col: 'sum'}).collect()[0][0]\n",
    "  # If less than our observation threshold, remove\n",
    "  if obs_count < obs_threshold:\n",
    "    cols_to_remove.append(col)\n",
    "    \n",
    "# Drop columns and print starting and ending dataframe shapes\n",
    "new_df = df.drop(*cols_to_remove)\n",
    "\n",
    "print('Rows: ' + str(df.count()) + ' Columns: ' + str(len(df.columns)))\n",
    "print('Rows: ' + str(new_df.count()) + ' Columns: ' + str(len(new_df.columns)))"
   ]
  },
  {
   "cell_type": "markdown",
   "metadata": {},
   "source": [
    "#### Naively Handling Missing and Categorical Values"
   ]
  },
  {
   "cell_type": "code",
   "execution_count": null,
   "metadata": {},
   "outputs": [],
   "source": [
    "# Replace missing values\n",
    "df = df.fillna(-1, subset=['WALKSCORE', 'BIKESCORE'])\n",
    "\n",
    "# Create list of StringIndexers using list comprehension\n",
    "indexers = [StringIndexer(inputCol=col, outputCol=col+\"_IDX\")\\\n",
    "            .setHandleInvalid(\"keep\") for col in categorical_cols]\n",
    "# Create pipeline of indexers\n",
    "indexer_pipeline = Pipeline(stages=indexers)\n",
    "# Fit and Transform the pipeline to the original data\n",
    "df_indexed = indexer_pipeline.fit(df).transform(df)\n",
    "\n",
    "# Clean up redundant columns\n",
    "df_indexed = df_indexed.drop(*categorical_cols)\n",
    "# Inspect data transformations\n",
    "print(df_indexed.dtypes)"
   ]
  },
  {
   "cell_type": "markdown",
   "metadata": {},
   "source": [
    "### Build a Model"
   ]
  },
  {
   "cell_type": "markdown",
   "metadata": {},
   "source": [
    "#### Building a Regression Model"
   ]
  },
  {
   "cell_type": "code",
   "execution_count": null,
   "metadata": {},
   "outputs": [],
   "source": [
    "from pyspark.ml.regression import GBTRegressor\n",
    "\n",
    "# Train a Gradient Boosted Trees (GBT) model.\n",
    "gbt = GBTRegressor(featuresCol='features',\n",
    "                           labelCol='SALESCLOSEPRICE',\n",
    "                           predictionCol=\"Prediction_Price\",\n",
    "                           seed=42\n",
    "                           )\n",
    "\n",
    "# Train model.\n",
    "model = gbt.fit(train_df)"
   ]
  },
  {
   "cell_type": "markdown",
   "metadata": {},
   "source": [
    "#### Evaluating & Comparing Algorithms"
   ]
  },
  {
   "cell_type": "code",
   "execution_count": null,
   "metadata": {},
   "outputs": [],
   "source": [
    "from pyspark.ml.evaluation import RegressionEvaluator\n",
    "\n",
    "# Select columns to compute test error\n",
    "evaluator = RegressionEvaluator(labelCol='SALESCLOSEPRICE', \n",
    "                                predictionCol='Prediction_Price')\n",
    "# Dictionary of model predictions to loop over\n",
    "models = {'Gradient Boosted Trees': gbt_predictions, 'Random Forest Regression': rfr_predictions}\n",
    "for key, preds in models.items():\n",
    "  # Create evaluation metrics\n",
    "  rmse = evaluator.evaluate(preds, {evaluator.metricName: 'rmse'})\n",
    "  r2 = evaluator.evaluate(preds, {evaluator.metricName: 'r2'})\n",
    "  \n",
    "  # Print Model Metrics\n",
    "  print(key + ' RMSE: ' + str(rmse))\n",
    "  print(key + ' R^2: ' + str(r2))"
   ]
  },
  {
   "cell_type": "markdown",
   "metadata": {},
   "source": [
    "### Interpreting, Saving & Loading"
   ]
  },
  {
   "cell_type": "markdown",
   "metadata": {},
   "source": [
    "#### Interpreting Results\n",
    "\n",
    "```python\n",
    "    importance             feature\n",
    "36    0.256598          SQFT_TOTAL\n",
    "4     0.212320               TAXES\n",
    "6     0.166661          LIVINGAREA\n",
    "5     0.094061  TAXWITHASSESSMENTS\n",
    "3     0.074668     SQFTABOVEGROUND\n",
    "13    0.069141          BATHSTOTAL\n",
    "7     0.023903           YEARBUILT\n",
    "2     0.012213          FIREPLACES\n",
    "10    0.007809           BATHSHALF\n",
    "23    0.006650           WALKSCORE\n",
    "```"
   ]
  },
  {
   "cell_type": "code",
   "execution_count": null,
   "metadata": {},
   "outputs": [],
   "source": [
    "# Convert feature importances to a pandas column\n",
    "fi_df = pd.DataFrame(importances, columns=['importance'])\n",
    "\n",
    "# Convert list of feature names to pandas column\n",
    "fi_df['feature'] = pd.Series(feature_cols)\n",
    "\n",
    "# Sort the data based on feature importance\n",
    "fi_df.sort_values(by=['importance'], ascending=False, inplace=True)\n",
    "\n",
    "# Inspect Results\n",
    "fi_df.head(10)"
   ]
  },
  {
   "cell_type": "markdown",
   "metadata": {},
   "source": [
    "#### Saving & Loading Models"
   ]
  },
  {
   "cell_type": "code",
   "execution_count": null,
   "metadata": {},
   "outputs": [],
   "source": [
    "from pyspark.ml.regression import RandomForestRegressionModel\n",
    "\n",
    "# Save model\n",
    "model.save('rfr_no_listprice')\n",
    "\n",
    "# Load model\n",
    "loaded_model = RandomForestRegressionModel.load('rfr_no_listprice')"
   ]
  }
 ],
 "metadata": {
  "kernelspec": {
   "display_name": "data-engineering",
   "language": "python",
   "name": "python3"
  },
  "language_info": {
   "codemirror_mode": {
    "name": "ipython",
    "version": 3
   },
   "file_extension": ".py",
   "mimetype": "text/x-python",
   "name": "python",
   "nbconvert_exporter": "python",
   "pygments_lexer": "ipython3",
   "version": "3.9.17"
  },
  "orig_nbformat": 4
 },
 "nbformat": 4,
 "nbformat_minor": 2
}
