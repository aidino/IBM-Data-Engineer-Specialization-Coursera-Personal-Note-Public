{
 "cells": [
  {
   "cell_type": "markdown",
   "metadata": {},
   "source": [
    "# Basic SQL\n",
    "\n",
    "**RDBMS** = Relation Database Management System"
   ]
  },
  {
   "cell_type": "code",
   "execution_count": 2,
   "metadata": {},
   "outputs": [],
   "source": [
    "#!pip install psycopg2-binary\n",
    "import psycopg2\n",
    "\n",
    "POSTGRES_DB_HOST = \"192.168.24.254\"\n",
    "POSTGRES_DB_PORT = \"5432\"\n",
    "\n",
    "conn = psycopg2.connect(host=POSTGRES_DB_HOST, \n",
    "                        port=POSTGRES_DB_PORT,\n",
    "                        database=\"testdb\",\n",
    "                        user=\"admin\", \n",
    "                        password=\"admin\")"
   ]
  },
  {
   "cell_type": "code",
   "execution_count": 3,
   "metadata": {},
   "outputs": [],
   "source": [
    "cur = conn.cursor()\n",
    "cur.execute(\"SELECT * FROM petshop;\")"
   ]
  },
  {
   "cell_type": "code",
   "execution_count": 4,
   "metadata": {},
   "outputs": [
    {
     "data": {
      "text/plain": [
       "[(1, 'Cat', Decimal('450.09'), datetime.date(2018, 5, 29), 9),\n",
       " (2, 'Dog', Decimal('666.66'), datetime.date(2018, 6, 1), 3),\n",
       " (3, 'Parrot', Decimal('50.00'), datetime.date(2018, 6, 4), 2),\n",
       " (4, 'Hamster', Decimal('60.60'), datetime.date(2018, 6, 11), 6),\n",
       " (5, 'Goldfish', Decimal('48.48'), datetime.date(2018, 6, 14), 24)]"
      ]
     },
     "execution_count": 4,
     "metadata": {},
     "output_type": "execute_result"
    }
   ],
   "source": [
    "cur.fetchall()"
   ]
  },
  {
   "cell_type": "code",
   "execution_count": null,
   "metadata": {},
   "outputs": [],
   "source": []
  }
 ],
 "metadata": {
  "kernelspec": {
   "display_name": "data-engineering",
   "language": "python",
   "name": "python3"
  },
  "language_info": {
   "codemirror_mode": {
    "name": "ipython",
    "version": 3
   },
   "file_extension": ".py",
   "mimetype": "text/x-python",
   "name": "python",
   "nbconvert_exporter": "python",
   "pygments_lexer": "ipython3",
   "version": "3.9.17"
  },
  "orig_nbformat": 4
 },
 "nbformat": 4,
 "nbformat_minor": 2
}
